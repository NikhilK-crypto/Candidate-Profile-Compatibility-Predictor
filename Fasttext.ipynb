{
 "cells": [
  {
   "cell_type": "code",
   "execution_count": 1,
   "id": "7a9bb6f2-35b9-4d0f-acf4-5bb0972685ed",
   "metadata": {},
   "outputs": [],
   "source": [
    "import concurrent.futures\n",
    "import pandas as pd \n",
    "import numpy as np \n",
    "import spacy\n",
    "import os \n",
    "from nltk.corpus import stopwords\n",
    "from nltk.tokenize import word_tokenize\n",
    "from nltk.stem import WordNetLemmatizer\n",
    "import re \n",
    "from sklearn.model_selection import train_test_split\n",
    "from sklearn.preprocessing import LabelEncoder \n",
    "\n",
    "import fasttext"
   ]
  },
  {
   "cell_type": "code",
   "execution_count": 2,
   "id": "89b71c19-2fe8-405d-ab8c-5f1f77f83e80",
   "metadata": {},
   "outputs": [
    {
     "data": {
      "text/html": [
       "<div>\n",
       "<style scoped>\n",
       "    .dataframe tbody tr th:only-of-type {\n",
       "        vertical-align: middle;\n",
       "    }\n",
       "\n",
       "    .dataframe tbody tr th {\n",
       "        vertical-align: top;\n",
       "    }\n",
       "\n",
       "    .dataframe thead th {\n",
       "        text-align: right;\n",
       "    }\n",
       "</style>\n",
       "<table border=\"1\" class=\"dataframe\">\n",
       "  <thead>\n",
       "    <tr style=\"text-align: right;\">\n",
       "      <th></th>\n",
       "      <th>txt</th>\n",
       "      <th>lab</th>\n",
       "      <th>cleaned_txt</th>\n",
       "      <th>cleaned_lab</th>\n",
       "      <th>labeled_class</th>\n",
       "    </tr>\n",
       "  </thead>\n",
       "  <tbody>\n",
       "    <tr>\n",
       "      <th>0</th>\n",
       "      <td>Database Administrator &lt;span class=\"hl\"&gt;Databa...</td>\n",
       "      <td>Database_Administrator</td>\n",
       "      <td>database administrator database administrator ...</td>\n",
       "      <td>Database_Administrator</td>\n",
       "      <td>1</td>\n",
       "    </tr>\n",
       "    <tr>\n",
       "      <th>1</th>\n",
       "      <td>Database Administrator &lt;span class=\"hl\"&gt;Databa...</td>\n",
       "      <td>Database_Administrator</td>\n",
       "      <td>database administrator sql server database adm...</td>\n",
       "      <td>Database_Administrator</td>\n",
       "      <td>1</td>\n",
       "    </tr>\n",
       "    <tr>\n",
       "      <th>2</th>\n",
       "      <td>Oracle Database Administrator Oracle &lt;span cla...</td>\n",
       "      <td>Database_Administrator</td>\n",
       "      <td>oracle database administrator oracle oracle da...</td>\n",
       "      <td>Database_Administrator</td>\n",
       "      <td>1</td>\n",
       "    </tr>\n",
       "    <tr>\n",
       "      <th>3</th>\n",
       "      <td>Amazon Redshift Administrator and ETL Develope...</td>\n",
       "      <td>Database_Administrator</td>\n",
       "      <td>amazon redshift administrator etl developer bu...</td>\n",
       "      <td>Database_Administrator</td>\n",
       "      <td>1</td>\n",
       "    </tr>\n",
       "    <tr>\n",
       "      <th>4</th>\n",
       "      <td>Scrum Master Scrum Master Scrum Master Richmon...</td>\n",
       "      <td>Database_Administrator</td>\n",
       "      <td>scrum master scrum master scrum master richmon...</td>\n",
       "      <td>Database_Administrator</td>\n",
       "      <td>1</td>\n",
       "    </tr>\n",
       "  </tbody>\n",
       "</table>\n",
       "</div>"
      ],
      "text/plain": [
       "                                                 txt                     lab  \\\n",
       "0  Database Administrator <span class=\"hl\">Databa...  Database_Administrator   \n",
       "1  Database Administrator <span class=\"hl\">Databa...  Database_Administrator   \n",
       "2  Oracle Database Administrator Oracle <span cla...  Database_Administrator   \n",
       "3  Amazon Redshift Administrator and ETL Develope...  Database_Administrator   \n",
       "4  Scrum Master Scrum Master Scrum Master Richmon...  Database_Administrator   \n",
       "\n",
       "                                         cleaned_txt             cleaned_lab  \\\n",
       "0  database administrator database administrator ...  Database_Administrator   \n",
       "1  database administrator sql server database adm...  Database_Administrator   \n",
       "2  oracle database administrator oracle oracle da...  Database_Administrator   \n",
       "3  amazon redshift administrator etl developer bu...  Database_Administrator   \n",
       "4  scrum master scrum master scrum master richmon...  Database_Administrator   \n",
       "\n",
       "   labeled_class  \n",
       "0              1  \n",
       "1              1  \n",
       "2              1  \n",
       "3              1  \n",
       "4              1  "
      ]
     },
     "execution_count": 2,
     "metadata": {},
     "output_type": "execute_result"
    }
   ],
   "source": [
    "df = pd.read_csv('resume_df')\n",
    "df.head()"
   ]
  },
  {
   "cell_type": "code",
   "execution_count": 29,
   "id": "c0d28bd5-7bf8-47e3-96a3-6911b5fdb231",
   "metadata": {},
   "outputs": [
    {
     "data": {
      "text/plain": [
       "0                                   Database_Administrator\n",
       "1                                   Database_Administrator\n",
       "2                                   Database_Administrator\n",
       "3                                   Database_Administrator\n",
       "4                                   Database_Administrator\n",
       "                               ...                        \n",
       "29030    Java_Developer ,Web_Developer ,Software_Developer\n",
       "29031                    Web_Developer ,Software_Developer\n",
       "29032    Software_Developer ,Front_End_Developer ,Web_D...\n",
       "29033                    Web_Developer ,Software_Developer\n",
       "29034                    Software_Developer ,Web_Developer\n",
       "Name: lab, Length: 29035, dtype: object"
      ]
     },
     "execution_count": 29,
     "metadata": {},
     "output_type": "execute_result"
    }
   ],
   "source": [
    "df['lab']"
   ]
  },
  {
   "cell_type": "code",
   "execution_count": 17,
   "id": "0389ee3f-1565-40c7-8648-1919d3a71adf",
   "metadata": {
    "scrolled": true
   },
   "outputs": [],
   "source": [
    "# !python -m spacy download en_core_web_sm"
   ]
  },
  {
   "cell_type": "code",
   "execution_count": 18,
   "id": "b0ba07d0-9e39-4633-860f-2f6af9b96b08",
   "metadata": {},
   "outputs": [],
   "source": [
    "# NER = spacy.load(\"en_core_web_sm\")\n",
    "# doc = NER(df['txt'][0])\n",
    "#     # Remove entities identified as locations (GPE: Geo-Political Entity)\n",
    "# text = ' '.join([token.text for token in doc if token.ent_type_ != 'GPE'])"
   ]
  },
  {
   "cell_type": "code",
   "execution_count": 19,
   "id": "81a170ff-8565-4bac-bd7a-0677b077d87f",
   "metadata": {},
   "outputs": [],
   "source": [
    "# for token in doc:\n",
    "#     if token.ent_type_ == 'GPE':\n",
    "#         print(token)\n",
    "#         print(token.ent_type_)"
   ]
  },
  {
   "cell_type": "code",
   "execution_count": 5,
   "id": "8f615253-0901-4505-8088-bb25e3f6e62b",
   "metadata": {},
   "outputs": [],
   "source": [
    "def clean_txt(text):\n",
    "    '''\n",
    "    function to clean the text\n",
    "    -- lowercasing the text, removing email ids and website links, stop words and special characters\n",
    "    -- also it will do lemmitization of the words for better accuray of our model. \n",
    "    '''\n",
    "    # Remove sentences that start with '<span' and end with 'span>'\n",
    "    cleaned_text = re.sub(r'<span.*?span>', '', text.strip())\n",
    "\n",
    "    cleaned_text = cleaned_text.lower()# Lowercasing\n",
    "\n",
    "    cleaned_text = re.sub(r'http\\S+|www\\S+|https\\S+', '', cleaned_text, flags=re.MULTILINE)# Removing hyperlinks\n",
    "\n",
    "    cleaned_text = re.sub(r'\\S+@\\S+', '', cleaned_text, flags=re.MULTILINE)# Removing email addresses\n",
    "\n",
    "    # Removing special characters, numbers, and punctuation\n",
    "    cleaned_text = re.sub(r'[^a-zA-Z\\s]', '', cleaned_text)\n",
    "\n",
    "    # Tokenization\n",
    "    tokens = word_tokenize(cleaned_text)\n",
    "\n",
    "    # Removing stop words\n",
    "    stop_words = set(stopwords.words('english'))\n",
    "    tokens = [word for word in tokens if word not in stop_words]\n",
    "\n",
    "    return ' '.join(tokens)\n"
   ]
  },
  {
   "cell_type": "code",
   "execution_count": 6,
   "id": "339ad2fe-ee3d-40de-9763-597d4e0265cd",
   "metadata": {},
   "outputs": [],
   "source": [
    "df['no_lemm_cleaned_txt_without_labels'] = df['txt'].apply(clean_txt)"
   ]
  },
  {
   "cell_type": "code",
   "execution_count": 7,
   "id": "66424aee-a06d-48e7-baa3-4ac7893bc8c5",
   "metadata": {},
   "outputs": [
    {
     "ename": "KeyError",
     "evalue": "'no_lemm_cleaned_txt'",
     "output_type": "error",
     "traceback": [
      "\u001b[0;31m---------------------------------------------------------------------------\u001b[0m",
      "\u001b[0;31mKeyError\u001b[0m                                  Traceback (most recent call last)",
      "File \u001b[0;32m~/anaconda3/envs/env2/lib/python3.10/site-packages/pandas/core/indexes/base.py:3790\u001b[0m, in \u001b[0;36mIndex.get_loc\u001b[0;34m(self, key)\u001b[0m\n\u001b[1;32m   3789\u001b[0m \u001b[38;5;28;01mtry\u001b[39;00m:\n\u001b[0;32m-> 3790\u001b[0m     \u001b[38;5;28;01mreturn\u001b[39;00m \u001b[38;5;28;43mself\u001b[39;49m\u001b[38;5;241;43m.\u001b[39;49m\u001b[43m_engine\u001b[49m\u001b[38;5;241;43m.\u001b[39;49m\u001b[43mget_loc\u001b[49m\u001b[43m(\u001b[49m\u001b[43mcasted_key\u001b[49m\u001b[43m)\u001b[49m\n\u001b[1;32m   3791\u001b[0m \u001b[38;5;28;01mexcept\u001b[39;00m \u001b[38;5;167;01mKeyError\u001b[39;00m \u001b[38;5;28;01mas\u001b[39;00m err:\n",
      "File \u001b[0;32mindex.pyx:152\u001b[0m, in \u001b[0;36mpandas._libs.index.IndexEngine.get_loc\u001b[0;34m()\u001b[0m\n",
      "File \u001b[0;32mindex.pyx:181\u001b[0m, in \u001b[0;36mpandas._libs.index.IndexEngine.get_loc\u001b[0;34m()\u001b[0m\n",
      "File \u001b[0;32mpandas/_libs/hashtable_class_helper.pxi:7080\u001b[0m, in \u001b[0;36mpandas._libs.hashtable.PyObjectHashTable.get_item\u001b[0;34m()\u001b[0m\n",
      "File \u001b[0;32mpandas/_libs/hashtable_class_helper.pxi:7088\u001b[0m, in \u001b[0;36mpandas._libs.hashtable.PyObjectHashTable.get_item\u001b[0;34m()\u001b[0m\n",
      "\u001b[0;31mKeyError\u001b[0m: 'no_lemm_cleaned_txt'",
      "\nThe above exception was the direct cause of the following exception:\n",
      "\u001b[0;31mKeyError\u001b[0m                                  Traceback (most recent call last)",
      "Cell \u001b[0;32mIn[7], line 1\u001b[0m\n\u001b[0;32m----> 1\u001b[0m df[\u001b[38;5;124m'\u001b[39m\u001b[38;5;124mno_lemm_cleaned_txt_with_labels\u001b[39m\u001b[38;5;124m'\u001b[39m] \u001b[38;5;241m=\u001b[39m \u001b[38;5;124m'\u001b[39m\u001b[38;5;124m__label__\u001b[39m\u001b[38;5;124m'\u001b[39m \u001b[38;5;241m+\u001b[39m df[\u001b[38;5;124m'\u001b[39m\u001b[38;5;124mcleaned_lab\u001b[39m\u001b[38;5;124m'\u001b[39m] \u001b[38;5;241m+\u001b[39m \u001b[38;5;124m'\u001b[39m\u001b[38;5;124m \u001b[39m\u001b[38;5;124m'\u001b[39m \u001b[38;5;241m+\u001b[39m \u001b[43mdf\u001b[49m\u001b[43m[\u001b[49m\u001b[38;5;124;43m'\u001b[39;49m\u001b[38;5;124;43mno_lemm_cleaned_txt\u001b[39;49m\u001b[38;5;124;43m'\u001b[39;49m\u001b[43m]\u001b[49m \n\u001b[1;32m      2\u001b[0m df\u001b[38;5;241m.\u001b[39mhead()\n",
      "File \u001b[0;32m~/anaconda3/envs/env2/lib/python3.10/site-packages/pandas/core/frame.py:3893\u001b[0m, in \u001b[0;36mDataFrame.__getitem__\u001b[0;34m(self, key)\u001b[0m\n\u001b[1;32m   3891\u001b[0m \u001b[38;5;28;01mif\u001b[39;00m \u001b[38;5;28mself\u001b[39m\u001b[38;5;241m.\u001b[39mcolumns\u001b[38;5;241m.\u001b[39mnlevels \u001b[38;5;241m>\u001b[39m \u001b[38;5;241m1\u001b[39m:\n\u001b[1;32m   3892\u001b[0m     \u001b[38;5;28;01mreturn\u001b[39;00m \u001b[38;5;28mself\u001b[39m\u001b[38;5;241m.\u001b[39m_getitem_multilevel(key)\n\u001b[0;32m-> 3893\u001b[0m indexer \u001b[38;5;241m=\u001b[39m \u001b[38;5;28;43mself\u001b[39;49m\u001b[38;5;241;43m.\u001b[39;49m\u001b[43mcolumns\u001b[49m\u001b[38;5;241;43m.\u001b[39;49m\u001b[43mget_loc\u001b[49m\u001b[43m(\u001b[49m\u001b[43mkey\u001b[49m\u001b[43m)\u001b[49m\n\u001b[1;32m   3894\u001b[0m \u001b[38;5;28;01mif\u001b[39;00m is_integer(indexer):\n\u001b[1;32m   3895\u001b[0m     indexer \u001b[38;5;241m=\u001b[39m [indexer]\n",
      "File \u001b[0;32m~/anaconda3/envs/env2/lib/python3.10/site-packages/pandas/core/indexes/base.py:3797\u001b[0m, in \u001b[0;36mIndex.get_loc\u001b[0;34m(self, key)\u001b[0m\n\u001b[1;32m   3792\u001b[0m     \u001b[38;5;28;01mif\u001b[39;00m \u001b[38;5;28misinstance\u001b[39m(casted_key, \u001b[38;5;28mslice\u001b[39m) \u001b[38;5;129;01mor\u001b[39;00m (\n\u001b[1;32m   3793\u001b[0m         \u001b[38;5;28misinstance\u001b[39m(casted_key, abc\u001b[38;5;241m.\u001b[39mIterable)\n\u001b[1;32m   3794\u001b[0m         \u001b[38;5;129;01mand\u001b[39;00m \u001b[38;5;28many\u001b[39m(\u001b[38;5;28misinstance\u001b[39m(x, \u001b[38;5;28mslice\u001b[39m) \u001b[38;5;28;01mfor\u001b[39;00m x \u001b[38;5;129;01min\u001b[39;00m casted_key)\n\u001b[1;32m   3795\u001b[0m     ):\n\u001b[1;32m   3796\u001b[0m         \u001b[38;5;28;01mraise\u001b[39;00m InvalidIndexError(key)\n\u001b[0;32m-> 3797\u001b[0m     \u001b[38;5;28;01mraise\u001b[39;00m \u001b[38;5;167;01mKeyError\u001b[39;00m(key) \u001b[38;5;28;01mfrom\u001b[39;00m \u001b[38;5;21;01merr\u001b[39;00m\n\u001b[1;32m   3798\u001b[0m \u001b[38;5;28;01mexcept\u001b[39;00m \u001b[38;5;167;01mTypeError\u001b[39;00m:\n\u001b[1;32m   3799\u001b[0m     \u001b[38;5;66;03m# If we have a listlike key, _check_indexing_error will raise\u001b[39;00m\n\u001b[1;32m   3800\u001b[0m     \u001b[38;5;66;03m#  InvalidIndexError. Otherwise we fall through and re-raise\u001b[39;00m\n\u001b[1;32m   3801\u001b[0m     \u001b[38;5;66;03m#  the TypeError.\u001b[39;00m\n\u001b[1;32m   3802\u001b[0m     \u001b[38;5;28mself\u001b[39m\u001b[38;5;241m.\u001b[39m_check_indexing_error(key)\n",
      "\u001b[0;31mKeyError\u001b[0m: 'no_lemm_cleaned_txt'"
     ]
    }
   ],
   "source": [
    "df['no_lemm_cleaned_txt_with_labels'] = '__label__' + df['cleaned_lab'] + ' ' + df['no_lemm_cleaned_txt'] \n",
    "df.head()"
   ]
  },
  {
   "cell_type": "code",
   "execution_count": null,
   "id": "f9678bff-7672-47e3-867c-0307c8e7f7ee",
   "metadata": {},
   "outputs": [],
   "source": [
    "train,test =train_test_split(df['no_lemm_cleaned_txt'],test_size= 0.2, random_state= 69)"
   ]
  },
  {
   "cell_type": "code",
   "execution_count": null,
   "id": "2ae076f3-604b-4b40-a660-f9af01bae2ca",
   "metadata": {},
   "outputs": [],
   "source": [
    "train"
   ]
  },
  {
   "cell_type": "markdown",
   "id": "071ee8f5-3756-40a9-8ddc-246ca05e3998",
   "metadata": {},
   "source": [
    "## Fasttext "
   ]
  },
  {
   "cell_type": "code",
   "execution_count": 83,
   "id": "e63963a5-6f36-4635-9cc5-95f027810ec7",
   "metadata": {},
   "outputs": [],
   "source": [
    "train.to_csv('resume_fasttext.train', header=False, index= False)\n",
    "test.to_csv('resume_fasttext.test', header=False, index= False)"
   ]
  },
  {
   "cell_type": "markdown",
   "id": "d8a11c8f-17ec-4e10-ac17-c8c0022958f1",
   "metadata": {},
   "source": [
    "### Fasttext train_supervised"
   ]
  },
  {
   "cell_type": "code",
   "execution_count": 97,
   "id": "685a50d5-2379-49bc-9e33-be06b298abe7",
   "metadata": {},
   "outputs": [
    {
     "name": "stderr",
     "output_type": "stream",
     "text": [
      "Read 16M words\n",
      "Number of words:  184282\n",
      "Number of labels: 9\n",
      "Progress: 100.0% words/sec/thread: 5571056 lr:  0.000000 avg.loss:  0.421716 ETA:   0h 0m 0s\n"
     ]
    }
   ],
   "source": [
    "import fasttext \n",
    "\n",
    "fasttext_model = fasttext.train_supervised(input = 'resume_fasttext.train', epoch = 30)"
   ]
  },
  {
   "cell_type": "code",
   "execution_count": 89,
   "id": "8d7602bd-a7fe-4ffc-9398-0e8f062f39b0",
   "metadata": {},
   "outputs": [
    {
     "data": {
      "text/plain": [
       "(5807, 0.8079903564663338, 0.8079903564663338)"
      ]
     },
     "execution_count": 89,
     "metadata": {},
     "output_type": "execute_result"
    }
   ],
   "source": [
    "fasttext_model.test('resume_fasttext.test')"
   ]
  },
  {
   "cell_type": "code",
   "execution_count": 103,
   "id": "0912f6f1-6855-42f0-9d7f-1f06064cfd65",
   "metadata": {},
   "outputs": [
    {
     "name": "stderr",
     "output_type": "stream",
     "text": [
      "Read 16M words\n",
      "Number of words:  184282\n",
      "Number of labels: 9\n",
      "Progress: 100.0% words/sec/thread: 1379273 lr:  0.000000 avg.loss:  0.199297 ETA:   0h 0m 0s\n"
     ]
    }
   ],
   "source": [
    "fasttext_model = fasttext.train_supervised(input = 'resume_fasttext.train', epoch = 100, wordNgrams=4 )"
   ]
  },
  {
   "cell_type": "code",
   "execution_count": 104,
   "id": "027a28a6-7d1d-4a13-8d91-7fec6e057f87",
   "metadata": {},
   "outputs": [
    {
     "data": {
      "text/plain": [
       "(5807, 0.8847942138798003, 0.8847942138798003)"
      ]
     },
     "execution_count": 104,
     "metadata": {},
     "output_type": "execute_result"
    }
   ],
   "source": [
    "fasttext_model.test('resume_fasttext.test')"
   ]
  },
  {
   "cell_type": "code",
   "execution_count": 124,
   "id": "94065b29-5f1c-41fa-a7a9-f2438cae66e1",
   "metadata": {},
   "outputs": [],
   "source": [
    "# fasttext_model.save_model('fasttext_model')\n",
    "# saving the model. "
   ]
  },
  {
   "cell_type": "code",
   "execution_count": 107,
   "id": "5807fcf4-120d-4207-ad3c-908547489efe",
   "metadata": {},
   "outputs": [
    {
     "name": "stderr",
     "output_type": "stream",
     "text": [
      "Read 16M words\n",
      "Number of words:  184282\n",
      "Number of labels: 9\n",
      "Progress: 100.0% words/sec/thread:  454183 lr:  0.000000 avg.loss:  0.185802 ETA:   0h 0m 0s 0.067821 avg.loss:  0.493942 ETA:   0h 7m22s 0.329877 ETA:   0h 5m15s 0.317667 ETA:   0h 4m59s ETA:   0h 4m 4s\n"
     ]
    }
   ],
   "source": [
    "fasttext_model_2 = fasttext.train_supervised(input = 'resume_fasttext.train', epoch = 200, wordNgrams= 10)"
   ]
  },
  {
   "cell_type": "code",
   "execution_count": 108,
   "id": "0406d69b-9a1a-471f-b23a-60e84db177d5",
   "metadata": {},
   "outputs": [
    {
     "data": {
      "text/plain": [
       "(5807, 0.8847942138798003, 0.8847942138798003)"
      ]
     },
     "execution_count": 108,
     "metadata": {},
     "output_type": "execute_result"
    }
   ],
   "source": [
    "fasttext_model.test('resume_fasttext.test')"
   ]
  },
  {
   "cell_type": "code",
   "execution_count": 149,
   "id": "c0f82902-cf20-42a7-b598-5e1559797879",
   "metadata": {},
   "outputs": [
    {
     "name": "stdout",
     "output_type": "stream",
     "text": [
      "education northeastern university khoury college computer sciences boston master science data science gpa sep may expected related courses supervised unsupervised machine learning introduction data management processing algorithms ajeenkya dy patil university pune india bachelor technology information technology data science gpa may related courses data structures algorithms statistics probability dbms nosql databases mldata visualization technical skills programming python r c sql html tools frameworks pandas numpy scikitlearn flask tensorflow tableau opencv git hadoop pyspark seaborn streamlit heroku databases mysql mongodb postgresql ml algorithms supervised unsupervised learning clustering classification nlp deep learning work experience skechers los angeles california june august data science analytics intern developed multichannel attribution model using markov chain rule marketing data databricks platform implemented attribution rules assign weights based channel contributions conversions gathered preprocessed customer interaction data various channels ensuring data quality consistency analyzed results identify effective marketing channels optimize strategies faurecia pune india september may data science intern assisted development machine learning algorithms automate process measurement inner car door panel thickness utilizing data sourced cad software performed data cleaning feature engineering enhance quality dataset model building employed data visualization techniques exploratory data analysis python developed effective models using treebased algorithms random forest xgboost resulting mae approximately adopted new method utilized images data convolutional neural networks leading significant improvement mae scads technologies pune india february may data analyst intern utilized python sql manipulate large datasets uncover trends patterns could inform marketing strategies created bi dashboard power bi analyze supermarket sales data identify trends opportunities increased profitability utilized power bi extract insights facebook ad campaign suggest ways improve profitability discontinuing certain campaigns projects personal project california hotspot wildfire prediction january january developed predictive model identify potential hotspots wildfires california leveraging lightgbm algorithm processed analyzed satellite data generate features model achieved accuracy fscore test dataset outperforming previous models deployed model using streamlit library personal project attendance system using facial recognition december december developed facial recognition algorithm using deep learning model extended binary patterns histogram algorithm model built achieved high accuracy facial detection northeastern university road sign detection november december created road sign detection system using convolutional neural networks cnn recognizing road signs trained model dataset images attained accuracy employed opencv image preprocessing matplotlib visualization tensorflow training cnn model\n"
     ]
    }
   ],
   "source": [
    "text = '''EDUCATION\n",
    "Northeastern University, Khoury College of Computer Sciences Boston, MA\n",
    "Master of Science in Data Science – GPA: 4.0 Sep 2022 - May 2024(Expected)\n",
    "Related courses: Supervised and Unsupervised Machine Learning, Introduction to Data Management and Processing, Algorithms\n",
    "Ajeenkya DY Patil University Pune, India\n",
    "Bachelor of Technology in Information Technology (Data Science) – GPA: 9.30/10.00 May 2022\n",
    "Related courses: Data Structures and Algorithms, Statistics and Probability, DBMS, NoSQL Databases, ML,Data Visualization.\n",
    "TECHNICAL SKILLS\n",
    "Programming Python, R, C, SQL, HTML\n",
    "Tools / Frameworks: Pandas, Numpy, scikit-learn, Flask, TensorFlow, Tableau, OpenCV, Git, Hadoop, PySpark, Seaborn,\n",
    "Streamlit, Heroku\n",
    "Databases MySQL, MongoDB, PostgreSQL\n",
    "ML Algorithms: Supervised & Unsupervised learning, Clustering & Classification, NLP, Deep Learning\n",
    "WORK EXPERIENCE\n",
    "Skechers, Los Angeles, California June 2023 - August 2023\n",
    "Data Science & Analytics Intern\n",
    "• Developed a multi-channel attribution model using the Markov chain rule for marketing data on Databricks platform.\n",
    "Implemented attribution rules to assign weights based on channel contributions to conversions.\n",
    "• Gathered and preprocessed customer interaction data from various channels, ensuring data quality and consistency.\n",
    "• Analyzed results to identify effective marketing channels and optimize strategies.\n",
    "Faurecia, Pune, India September 2021 - May 2022\n",
    "Data Science Intern\n",
    "• Assisted in the development of machine learning algorithms to automate the process of measurement of inner car door panel\n",
    "thickness, utilizing data sourced from CAD software.\n",
    "• Performed data cleaning and feature engineering to enhance the quality of the dataset for model building. Employed data\n",
    "visualization techniques for exploratory data analysis in Python.\n",
    "• Developed effective models using tree-based algorithms (Random Forest and XGBoost), resulting in an MAE of\n",
    "approximately 0.2. Adopted a new method that utilized 2D images of the data and Convolutional Neural Networks, leading to\n",
    "a significant 50% improvement in MAE.\n",
    "Scads Technologies, Pune, India February 2021 - May 2021\n",
    "Data Analyst Intern\n",
    "• Utilized Python and SQL to manipulate large datasets and uncover trends and patterns that could inform marketing strategies.\n",
    "• Created BI dashboard in Power BI to analyze supermarket sales data and identify trends and opportunities for increased\n",
    "profitability. Utilized Power BI to extract insights from a Facebook ad campaign and suggest ways to improve profitability by\n",
    "discontinuing certain campaigns.\n",
    "PROJECTS\n",
    "Personal Project, California Hotspot Wildfire Prediction January 2022 - January 2022\n",
    "• Developed a predictive model to identify potential hotspots for wildfires in California leveraging LightGBM algorithm.\n",
    "Processed and analyzed satellite data to generate features for the model.\n",
    "• Achieved an accuracy of 93% and a f1-score of 92% on test dataset, outperforming previous models. Deployed the model\n",
    "using streamlit library.\n",
    "Personal Project, Attendance System using Facial Recognition December 2022 - December 2022\n",
    "• Developed a facial recognition algorithm using Deep Learning model and Extended Binary Patterns Histogram algorithm.\n",
    "• The model built achieved high accuracy (>95%) for facial detection.\n",
    "Northeastern University, Road Sign Detection November 2022 - December 2022\n",
    "• Created a road sign detection system using Convolutional Neural Networks (CNN) for recognizing road signs. Trained the\n",
    "model with a dataset of 50,000 images and attained an accuracy of 95%.\n",
    "• Employed OpenCV for image pre-processing, Matplotlib for visualization, and TensorFlow for training CNN model.'''\n",
    "\n",
    "text = clean_txt(text)\n",
    "\n",
    "print(text)"
   ]
  },
  {
   "cell_type": "code",
   "execution_count": 127,
   "id": "d626348e-46d8-45f9-8a29-ac4e78fb998f",
   "metadata": {},
   "outputs": [
    {
     "data": {
      "text/plain": [
       "(('__label__Python_Developer',), array([0.88108867]))"
      ]
     },
     "execution_count": 127,
     "metadata": {},
     "output_type": "execute_result"
    }
   ],
   "source": [
    "fasttext_model.predict(text)"
   ]
  },
  {
   "cell_type": "code",
   "execution_count": 147,
   "id": "9fc611a0-d6f1-4c51-ad3b-84c231c3a11e",
   "metadata": {
    "scrolled": true
   },
   "outputs": [
    {
     "data": {
      "text/plain": [
       "'Database Administrator <span class=\"hl\">Database</span> <span class=\"hl\">Administrator</span> Database Administrator - Family Private Care LLC Lawrenceville, GA A self-motivated Production SQL Server Database Administrator who possesses strong analytical and problem solving skills. My experience includes SQL Server 2005, 2008 and 2012, 2014, SSIS, as well as clustering, mirroring, and high availability solutions in OLTP environments. I am proficient in database backup, recovery, performance tuning, maintenance tasks, security, and consolidation. I am confident that I would make a beneficial addition to any company. Over the course of my career thus far, I have designed databases to fit a variety of needs, successfully ensured the security of those databases, problem-solved in order to meet both back-end and front-end needs, installed and tested new versions database management systems, customized and installed applications and meticulously monitored performance for the smoothest front-end experience possible. During my 5 to 6 years working with databases. Work Experience Database Administrator Family Private Care LLC - Roswell, GA April 2017 to Present Confirm that backups have been made and successfully saved to a secure location Planning for backup and recovery of database information. Maintaining archived data Backing up and restoring databases, Contacting database vendor for technical support Generating various reports by querying from database as per needed. Managing and monitoring data replication. Acting as liaison with users High Availability or Disaster Recovery Logs - Check your high availability and/or disaster recovery process logs. Depending on the solution (Log Shipping, Clustering, Replication, Database Mirroring, CDP, etc.) that you are using dictates what needs to be checked. Correcting errors and make necessary modification Modify existing databases and database management systems or direct programmers and analysts to make changes. Work as part of a project team to coordinate database development and see termite project scope and limitations Train Users and answers questions. Approve, schedule, plan, and supervise the installation and testing of new products and improvements to computer systems, such as the installation of new databases. Review Procedures in Database management system manuals for making changes to database. Select and enter codes to monitor database performance and to create production database. Check the backup failure alerts, correct the errors and rerun the backups. Review the average duration of backup, any significant changes occurred investigates on this. Most of the time it happens due to networking low bandwidth Validate the backup files using restore verify only. I create jobs to take care of the task and to send a notification if it fails to verify any backup. Monitoring all backup and log history is cleaning when designed. Find out the newly added databases and define the backup plan. I do verify the free space on each drive on all servers, If there is significant variance in free space from the day before, research the cause of the free space fluctuation and resolve if necessary, Often times, log files will grow because of monthly jobs automate through a job. The job runs for every one hour and reports any drive which is having less than 15 % of free space. I can design a SSRS report to showcase and review the delta values. Confirm all servers/databases are up and running fine. Usually in an Enterprise Database Environment Third Party Tools are used to monitor Servers. For database monitoring, I can design a native SQL Server solution using T-SQL code and a maintenance plan, it run min by min and send an email to DBA team if it is not able to connect to any of the database in the instance. I do design a native scripts using T-SQL to monitor Replication, Mirroring, Log shipping. Database Administrator Incomm Alpharetta - Alpharetta, GA January 2014 to February 2017 * Responsible for administering and maintaining over 150 database servers of Production and Test environment. * Analyzes the current database environment to determine recommended database maintenance, security, and Microsoft SQL Server best practices. * Monitors and troubleshoots production environments using Idera SQLdm. * Creates and maintains documentation for DBA standard operating procedures. * Ensures that all code changes made in the production environment are SOX compliance before they are deployed. * Analyses and migrates data using ETL into SQL Server databases to support customer\\'s implementation. * Works closely with infrastructure team for patching and hardware upgrades, and ensures that both production and test servers are up to date by applying Windows and SQL Server patches. * Upgrades servers as required from SQL Server 2005 to SQL Server 2008, 2012., and 2014. * Completes database administration maintenance projects as required * Provides 24/7 on call support as needed. * Coordinates and configures new nodes for production server clusters for high availability. * Periodically restores backup files in test environment to check for corruption. * Reviews security, performance, and disk space and recommend corrective actions where needed. * Assists application team in the creation of databases, construction of queries, modification of database tables, and troubleshooting data issues. * Monitors servers for resources utilization (disk space, memory, CPU, etc.) * Creates and Executes a migration/decommission plan for over 500 databases within a 4 month project window. Education Bachelor of Science Lead City University July 2013 Skills Database administration, Database, Ms sql server, Ms sql server 2005, Sql server, Sql server 2005, Sql server 2008, Sql server 2008 r2, Sql server 2012, Sql, Sql queries, Stored procedures, Clustering, Backups, T-sql, Virtualization, R2, Maintenance, Problem solving, Shipping Additional Information SKILLS Installation and Building Server Running Backups Recovering and Restoring Models Support various MS SQL Server MS SQL Server 2005/2008 environments from SQL Server /2008R2R2/2012/2014 2005 thru SQL Server 2008r2 as administration including well as with SQL Server 2012 on installation, configuration, Windows Server 2003, 2003r2, upgrades, capacity planning, 2008, 2008r2, 2012 and 2014. performance tuning, backup and recovery. Familiar with virtualization and Work with developers to Identify, managing SQL databases in a debug, and tune problem stored virtual environment. procedures, T-SQL Queries, etc. Management of users including Knowledge of High Availability of creation/alteration, grant of database servers using Database system/DB roles and permissions mirroring, replications, Log on various database objects. Shipping and Always On Availability Group. Design and implement SQL Server 201, databases for mission-critical 2005, SQL Server 2008 R2, business. Experience in creating tables, Environment transition planning views, indexes, stored procedures (development, test, stage, and more. production). Import and export data to and from Perform routine backup and the database servers. recovery testing and documenting recovery scenarios. Database administration including Use SQL Profiler for installation, configuration, troubleshooting, monitoring, and upgrades, capacity planning, optimization of SQL Server and performance tuning, backup and SQL code. recovery, index maintenance. Modify stored procedures, queries, Manage the production and views, indexes, and functions to development databases including handle business rules, history data performance tuning, capacity and audit analysis. planning, SQL Server clustering, database security configuration, and database continuity. Excellent analytical, Strong decision making and communication skills, work ethics problem solving skills. and ability to work in a team environment with strong determination and commitment to the deliverables. Highly motivated self-starter with the ability to work independently.'"
      ]
     },
     "execution_count": 147,
     "metadata": {},
     "output_type": "execute_result"
    }
   ],
   "source": [
    "df['txt'][0].strip()"
   ]
  },
  {
   "cell_type": "markdown",
   "id": "406a4b08-bea6-4b37-9d08-9ba9ab0891bd",
   "metadata": {},
   "source": [
    "### Fasttext Word Embeddings\n",
    "    Working with cleaned text i.e(all text processing and stop word removal)\n",
    "    except text isn't lemmitized"
   ]
  },
  {
   "cell_type": "code",
   "execution_count": 160,
   "id": "de2a4d5a-54a1-434d-b8d1-7771c0ffcb32",
   "metadata": {},
   "outputs": [],
   "source": [
    "df['no_lemm_cleaned_txt_without_labels'].to_csv('resume_fasttext_embeddings.txt', header=False, index= False)"
   ]
  },
  {
   "cell_type": "code",
   "execution_count": 13,
   "id": "1844ca16-087d-40e4-8a82-a98585857f97",
   "metadata": {},
   "outputs": [
    {
     "data": {
      "text/plain": [
       "0        database administrator database administrator ...\n",
       "1        database administrator sql server database adm...\n",
       "2        oracle database administrator oracle oracle da...\n",
       "3        amazon redshift administrator etl developer bu...\n",
       "4        scrum master scrum master scrum master richmon...\n",
       "                               ...                        \n",
       "29030    servicenow developer servicenow servicenow dev...\n",
       "29031    android developer android android developer hc...\n",
       "29032    ui developer ui ui developer cotiviti health c...\n",
       "29033    web developer los angeles ca work experience w...\n",
       "29034    sr software engineer sr software engineer sr s...\n",
       "Name: cleaned_txt, Length: 29035, dtype: object"
      ]
     },
     "execution_count": 13,
     "metadata": {},
     "output_type": "execute_result"
    }
   ],
   "source": [
    "df['cleaned_txt']"
   ]
  },
  {
   "cell_type": "code",
   "execution_count": 15,
   "id": "d8e86ea3-d0f4-4f2a-868a-69525f33d738",
   "metadata": {},
   "outputs": [
    {
     "name": "stderr",
     "output_type": "stream",
     "text": [
      "Read 20M words\n",
      "Number of words:  46745\n",
      "Number of labels: 0\n",
      "Progress: 100.0% words/sec/thread:  166437 lr:  0.000000 avg.loss:  1.138276 ETA:   0h 0m 0s avg.loss:  1.841190 ETA:   0h 1m15s\n"
     ]
    }
   ],
   "source": [
    "fasttext_embeddings =fasttext.train_unsupervised('resume_fasttext_embeddings.txt', epoch = 10,dim = 50)"
   ]
  },
  {
   "cell_type": "code",
   "execution_count": 168,
   "id": "003962a1-cd5f-4a5f-84ac-3537d30db692",
   "metadata": {
    "scrolled": true
   },
   "outputs": [
    {
     "data": {
      "text/plain": [
       "['using',\n",
       " 'data',\n",
       " 'web',\n",
       " 'experience',\n",
       " 'application',\n",
       " 'used',\n",
       " 'development',\n",
       " 'developed',\n",
       " 'database',\n",
       " 'management',\n",
       " 'server',\n",
       " 'project',\n",
       " 'system',\n",
       " 'software',\n",
       " 'security',\n",
       " 'sql',\n",
       " 'services',\n",
       " 'years',\n",
       " 'systems',\n",
       " 'design',\n",
       " 'python',\n",
       " 'developer',\n",
       " 'support',\n",
       " 'html',\n",
       " 'javascript',\n",
       " 'css',\n",
       " 'business',\n",
       " 'applications',\n",
       " 'network',\n",
       " 'java',\n",
       " 'work',\n",
       " 'worked',\n",
       " 'team',\n",
       " 'information',\n",
       " 'new',\n",
       " 'testing',\n",
       " 'oracle',\n",
       " 'skills',\n",
       " 'environment',\n",
       " 'implemented',\n",
       " 'spring',\n",
       " 'created',\n",
       " 'user',\n",
       " 'windows',\n",
       " 'service',\n",
       " 'jquery',\n",
       " 'framework',\n",
       " 'like',\n",
       " 'technical',\n",
       " 'involved',\n",
       " 'various',\n",
       " 'test',\n",
       " 'code',\n",
       " 'tools',\n",
       " 'designed',\n",
       " 'end',\n",
       " 'xml',\n",
       " 'servers',\n",
       " 'based',\n",
       " 'including',\n",
       " 'issues',\n",
       " 'requirements',\n",
       " 'mysql',\n",
       " 'manager',\n",
       " 'analysis',\n",
       " 'administrator',\n",
       " 'ajax',\n",
       " 'client',\n",
       " 'responsible',\n",
       " 'performance',\n",
       " 'process',\n",
       " 'responsibilities',\n",
       " 'present',\n",
       " 'developing',\n",
       " 'ui',\n",
       " 'access',\n",
       " 'c',\n",
       " 'technologies',\n",
       " 'linux',\n",
       " 'managed',\n",
       " 'microsoft',\n",
       " 'projects',\n",
       " 'customer',\n",
       " 'technology',\n",
       " 'angular',\n",
       " 'databases',\n",
       " 'implementation',\n",
       " 'working',\n",
       " 'users',\n",
       " 'computer',\n",
       " 'procedures',\n",
       " 'control',\n",
       " 'education',\n",
       " 'django',\n",
       " 'reports',\n",
       " 'json',\n",
       " 'may',\n",
       " 'university',\n",
       " 'solutions',\n",
       " 'mvc',\n",
       " '</s>',\n",
       " 'agile',\n",
       " 'integration',\n",
       " 'knowledge',\n",
       " 'bootstrap',\n",
       " 'august',\n",
       " 'aws',\n",
       " 'create',\n",
       " 'configuration',\n",
       " 'administration',\n",
       " 'june',\n",
       " 'creating',\n",
       " 'front',\n",
       " 'performed',\n",
       " 'production',\n",
       " 'maintenance',\n",
       " 'api',\n",
       " 'js',\n",
       " 'engineer',\n",
       " 'components',\n",
       " 'different',\n",
       " 'git',\n",
       " 'january',\n",
       " 'build',\n",
       " 'scripts',\n",
       " 'provided',\n",
       " 'cloud',\n",
       " 'hibernate',\n",
       " 'manage',\n",
       " 'develop',\n",
       " 'ms',\n",
       " 'architecture',\n",
       " 'provide',\n",
       " 'multiple',\n",
       " 'office',\n",
       " 'jsp',\n",
       " 'apache',\n",
       " 'clients',\n",
       " 'custom',\n",
       " 'use',\n",
       " 'company',\n",
       " 'angularjs',\n",
       " 'enterprise',\n",
       " 'deployment',\n",
       " 'troubleshooting',\n",
       " 'maintained',\n",
       " 'monitoring',\n",
       " 'hardware',\n",
       " 'year',\n",
       " 'cisco',\n",
       " 'rest',\n",
       " 'pages',\n",
       " 'maintain',\n",
       " 'operations',\n",
       " 'infrastructure',\n",
       " 'senior',\n",
       " 'july',\n",
       " 'website',\n",
       " 'september',\n",
       " 'interface',\n",
       " 'active',\n",
       " 'march',\n",
       " 'december',\n",
       " 'ensure',\n",
       " 'well',\n",
       " 'configured',\n",
       " 'analyst',\n",
       " 'science',\n",
       " 'programming',\n",
       " 'us',\n",
       " 'unit',\n",
       " 'lead',\n",
       " 'time',\n",
       " 'ca',\n",
       " 'queries',\n",
       " 'april',\n",
       " 'tool',\n",
       " 'eclipse',\n",
       " 'teams',\n",
       " 'october',\n",
       " 'product',\n",
       " 'february',\n",
       " 'restful',\n",
       " 'additional',\n",
       " 'customers',\n",
       " 'php',\n",
       " 'soap',\n",
       " 'existing',\n",
       " 'documentation',\n",
       " 'training',\n",
       " 'experienced',\n",
       " 'modules',\n",
       " 'directory',\n",
       " 'db',\n",
       " 'files',\n",
       " 'also',\n",
       " 'level',\n",
       " 'version',\n",
       " 'internal',\n",
       " 'implementing',\n",
       " 'processes',\n",
       " 'unix',\n",
       " 'communication',\n",
       " 'etc',\n",
       " 'planning',\n",
       " 'full',\n",
       " 'writing',\n",
       " 'stored',\n",
       " 'jee',\n",
       " 'jira',\n",
       " 'daily',\n",
       " 'environments',\n",
       " 'reporting',\n",
       " 'quality',\n",
       " 'good',\n",
       " 'center',\n",
       " 'backup',\n",
       " 'high',\n",
       " 'november',\n",
       " 'visual',\n",
       " 'installation',\n",
       " 'inc',\n",
       " 'related',\n",
       " 'nodejs',\n",
       " 'page',\n",
       " 'designing',\n",
       " 'backend',\n",
       " 'engineering',\n",
       " 'within',\n",
       " 'site',\n",
       " 'features',\n",
       " 'jenkins',\n",
       " 'implement',\n",
       " 'wrote',\n",
       " 'apis',\n",
       " 'tasks',\n",
       " 'scrum',\n",
       " 'standards',\n",
       " 'sr',\n",
       " 'operating',\n",
       " 'built',\n",
       " 'program',\n",
       " 'managing',\n",
       " 'content',\n",
       " 'mobile',\n",
       " 'less',\n",
       " 'expertise',\n",
       " 'platform',\n",
       " 'risk',\n",
       " 'help',\n",
       " 'functions',\n",
       " 'junit',\n",
       " 'migration',\n",
       " 'core',\n",
       " 'perform',\n",
       " 'struts',\n",
       " 'strong',\n",
       " 'g',\n",
       " 'recovery',\n",
       " 'plan',\n",
       " 'compliance',\n",
       " 'across',\n",
       " 'building',\n",
       " 'frontend',\n",
       " 'group',\n",
       " 'objects',\n",
       " 'scripting',\n",
       " 'professional',\n",
       " 'cases',\n",
       " 'model',\n",
       " 'frameworks',\n",
       " 'problems',\n",
       " 'vmware',\n",
       " 'deployed',\n",
       " 'plsql',\n",
       " 'object',\n",
       " 'tx',\n",
       " 'ability',\n",
       " 'net',\n",
       " 'studio',\n",
       " 'documents',\n",
       " 'layer',\n",
       " 'email',\n",
       " 'plans',\n",
       " 'tables',\n",
       " 'script',\n",
       " 'functionality',\n",
       " 'devices',\n",
       " 'exchange',\n",
       " 'maintaining',\n",
       " 'sales',\n",
       " 'automation',\n",
       " 'logic',\n",
       " 'shell',\n",
       " 'amazon',\n",
       " 'remote',\n",
       " 'products',\n",
       " 'complex',\n",
       " 'file',\n",
       " 'maven',\n",
       " 'needs',\n",
       " 'marketing',\n",
       " 'installed',\n",
       " 'mongodb',\n",
       " 'tuning',\n",
       " 'tracking',\n",
       " 'desktop',\n",
       " 'authorized',\n",
       " 'state',\n",
       " 'view',\n",
       " 'react',\n",
       " 'extensive',\n",
       " 'employer',\n",
       " 'setup',\n",
       " 'views',\n",
       " 'extensively',\n",
       " 'required',\n",
       " 'equipment',\n",
       " 'storage',\n",
       " 'ibm',\n",
       " 'svn',\n",
       " 'jdbc',\n",
       " 'providing',\n",
       " 'policies',\n",
       " 'x',\n",
       " 'load',\n",
       " 'life',\n",
       " 'college',\n",
       " 'source',\n",
       " 'department',\n",
       " 'solution',\n",
       " 'controls',\n",
       " 'activities',\n",
       " 'tomcat',\n",
       " 'change',\n",
       " 'excel',\n",
       " 'libraries',\n",
       " 'requests',\n",
       " 'update',\n",
       " 'classes',\n",
       " 'processing',\n",
       " 'servlets',\n",
       " 'monitor',\n",
       " 'methodology',\n",
       " 'staff',\n",
       " 'validation',\n",
       " 'creation',\n",
       " 'cycle',\n",
       " 'automated',\n",
       " 'stack',\n",
       " 'responsive',\n",
       " 'changes',\n",
       " 'functional',\n",
       " 'best',\n",
       " 'health',\n",
       " 'review',\n",
       " 'requirement',\n",
       " 'utilizing',\n",
       " 'integrated',\n",
       " 'order',\n",
       " 'android',\n",
       " 'websites',\n",
       " 'financial',\n",
       " 'adobe',\n",
       " 'meetings',\n",
       " 'supported',\n",
       " 'assisted',\n",
       " 'report',\n",
       " 'forms',\n",
       " 'online',\n",
       " 'aspnet',\n",
       " 'configuring',\n",
       " 'ny',\n",
       " 'sdlc',\n",
       " 'networking',\n",
       " 'understanding',\n",
       " 'via',\n",
       " 'proficient',\n",
       " 'continuous',\n",
       " 'accounts',\n",
       " 'san',\n",
       " 'virtual',\n",
       " 'results',\n",
       " 'methodologies',\n",
       " 'practices',\n",
       " 'excellent',\n",
       " 'part',\n",
       " 'side',\n",
       " 'diagrams',\n",
       " 'utilized',\n",
       " 'developers',\n",
       " 'set',\n",
       " 'several',\n",
       " 'sites',\n",
       " 'resources',\n",
       " 'switches',\n",
       " 'app',\n",
       " 'oriented',\n",
       " 'r',\n",
       " 'patterns',\n",
       " 'languages',\n",
       " 'google',\n",
       " 'document',\n",
       " 'troubleshoot',\n",
       " 'key',\n",
       " 'sharepoint',\n",
       " 'concepts',\n",
       " 'improve',\n",
       " 'coding',\n",
       " 'programs',\n",
       " 'status',\n",
       " 'triggers',\n",
       " 'networks',\n",
       " 'external',\n",
       " 'one',\n",
       " 'media',\n",
       " 'global',\n",
       " 'calls',\n",
       " 'members',\n",
       " 'delivery',\n",
       " 'specialist',\n",
       " 'handling',\n",
       " 'large',\n",
       " 'dynamic',\n",
       " 'include',\n",
       " 'search',\n",
       " 'single',\n",
       " 'module',\n",
       " 'packages',\n",
       " 'make',\n",
       " 'consultant',\n",
       " 'debugging',\n",
       " 'per',\n",
       " 'complete',\n",
       " 'desk',\n",
       " 'platforms',\n",
       " 'organization',\n",
       " 'configure',\n",
       " 'identify',\n",
       " 'participated',\n",
       " 'problem',\n",
       " 'research',\n",
       " 'node',\n",
       " 'jobs',\n",
       " 'analytics',\n",
       " 'updates',\n",
       " 'library',\n",
       " 'boot',\n",
       " 'description',\n",
       " 'needed',\n",
       " 'written',\n",
       " 'os',\n",
       " 'deploy',\n",
       " 'policy',\n",
       " 'groups',\n",
       " 'docker',\n",
       " 'va',\n",
       " 'school',\n",
       " 'templates',\n",
       " 'github',\n",
       " 'links',\n",
       " 'controller',\n",
       " 'assist',\n",
       " 'gathering',\n",
       " 'track',\n",
       " 'corporate',\n",
       " 'current',\n",
       " 'fl',\n",
       " 'rules',\n",
       " 'included',\n",
       " 'wordpress',\n",
       " 'upgrades',\n",
       " 'store',\n",
       " 'roles',\n",
       " 'employees',\n",
       " 'entire',\n",
       " 'backups',\n",
       " 'assessment',\n",
       " 'tests',\n",
       " 'ec',\n",
       " 'master',\n",
       " 'meet',\n",
       " 'reactjs',\n",
       " 'resolve',\n",
       " 'leadership',\n",
       " 'monitored',\n",
       " 'interfaces',\n",
       " 'log',\n",
       " 'driven',\n",
       " 'bank',\n",
       " 'assessments',\n",
       " 'provides',\n",
       " 'bachelors',\n",
       " 'field',\n",
       " 'language',\n",
       " 'tested',\n",
       " 'routers',\n",
       " 'bachelor',\n",
       " 'account',\n",
       " 'certified',\n",
       " 'jms',\n",
       " 'role',\n",
       " 'critical',\n",
       " 'request',\n",
       " 'technician',\n",
       " 'upgrade',\n",
       " 'inventory',\n",
       " 'vendors',\n",
       " 'websphere',\n",
       " 'hadoop',\n",
       " 'supporting',\n",
       " 'communications',\n",
       " 'postgresql',\n",
       " 'digital',\n",
       " 'highly',\n",
       " 'ide',\n",
       " 'case',\n",
       " 'photoshop',\n",
       " 'suite',\n",
       " 'dom',\n",
       " 'york',\n",
       " 'standard',\n",
       " 'local',\n",
       " 'ant',\n",
       " 'many',\n",
       " 'learning',\n",
       " 'qa',\n",
       " 'availability',\n",
       " 'optimization',\n",
       " 'deploying',\n",
       " 'spark',\n",
       " 'expert',\n",
       " 'logj',\n",
       " 'internet',\n",
       " 'insurance',\n",
       " 'disaster',\n",
       " 'basic',\n",
       " 'events',\n",
       " 'physical',\n",
       " 'azure',\n",
       " 'back',\n",
       " 'il',\n",
       " 'vpn',\n",
       " 'install',\n",
       " 'call',\n",
       " 'closely',\n",
       " 'phone',\n",
       " 'along',\n",
       " 'interactive',\n",
       " 'presentation',\n",
       " 'designer',\n",
       " 'vendor',\n",
       " 'flow',\n",
       " 'analyze',\n",
       " 'associate',\n",
       " 'successfully',\n",
       " 'budget',\n",
       " 'models',\n",
       " 'mapping',\n",
       " 'flask',\n",
       " 'wireless',\n",
       " 'hands',\n",
       " 'performing',\n",
       " 'contract',\n",
       " 'action',\n",
       " 'response',\n",
       " 'jboss',\n",
       " 'controllers',\n",
       " 'advanced',\n",
       " 'weblogic',\n",
       " 'firewalls',\n",
       " 'hp',\n",
       " 'uml',\n",
       " 'workflow',\n",
       " 'firewall',\n",
       " 'led',\n",
       " 'point',\n",
       " 'day',\n",
       " 'analyzed',\n",
       " 'running',\n",
       " 'specifications',\n",
       " 'portal',\n",
       " 'admin',\n",
       " 'xhtml',\n",
       " 'weekly',\n",
       " 'setting',\n",
       " 'coordinated',\n",
       " 'dns',\n",
       " 'beans',\n",
       " 'connectivity',\n",
       " 'job',\n",
       " 'domain',\n",
       " 'routing',\n",
       " 'managers',\n",
       " 'includes',\n",
       " 'md',\n",
       " 'validations',\n",
       " 'salesforce',\n",
       " 'browser',\n",
       " 'city',\n",
       " 'bug',\n",
       " 'appropriate',\n",
       " 'form',\n",
       " 'certificationslicenses',\n",
       " 'cross',\n",
       " 'release',\n",
       " 'reviews',\n",
       " 'cyber',\n",
       " 'ios',\n",
       " 'phases',\n",
       " 'dhtml',\n",
       " 'automate',\n",
       " 'updated',\n",
       " 'audit',\n",
       " 'industry',\n",
       " 'selenium',\n",
       " 'class',\n",
       " 'tier',\n",
       " 'united',\n",
       " 'making',\n",
       " 'dba',\n",
       " 'query',\n",
       " 'mac',\n",
       " 'computers',\n",
       " 'conducted',\n",
       " 'certification',\n",
       " 'operational',\n",
       " 'ga',\n",
       " 'cluster',\n",
       " 'protocols',\n",
       " 'engine',\n",
       " 'ejb',\n",
       " 'party',\n",
       " 'stakeholders',\n",
       " 'resource',\n",
       " 'resolution',\n",
       " 'analyzing',\n",
       " 'incident',\n",
       " 'states',\n",
       " 'scheduling',\n",
       " 'community',\n",
       " 'improved',\n",
       " 'throughout',\n",
       " 'nj',\n",
       " 'pa',\n",
       " 'batch',\n",
       " 'base',\n",
       " 'open',\n",
       " 'jsf',\n",
       " 'tickets',\n",
       " 'effectively',\n",
       " 'etl',\n",
       " 'techniques',\n",
       " 'schedule',\n",
       " 'strategy',\n",
       " 'rman',\n",
       " 'methods',\n",
       " 'cassandra',\n",
       " 'architect',\n",
       " 'efficient',\n",
       " 'installing',\n",
       " 'logs',\n",
       " 'generated',\n",
       " 'gui',\n",
       " 'effective',\n",
       " 'bugs',\n",
       " 'specific',\n",
       " 'pandas',\n",
       " 'duties',\n",
       " 'assurance',\n",
       " 'hive',\n",
       " 'migrated',\n",
       " 'corporation',\n",
       " 'necessary',\n",
       " 'wsdl',\n",
       " 'vulnerability',\n",
       " 'authentication',\n",
       " 'two',\n",
       " 'scope',\n",
       " 'format',\n",
       " 'orm',\n",
       " 'text',\n",
       " 'coordinate',\n",
       " 'dao',\n",
       " 'run',\n",
       " 'logging',\n",
       " 'visio',\n",
       " 'general',\n",
       " 'javajee',\n",
       " 'designs',\n",
       " 'ensuring',\n",
       " 'records',\n",
       " 'solving',\n",
       " 'goals',\n",
       " 'patches',\n",
       " 'strategies',\n",
       " 'secure',\n",
       " 'package',\n",
       " 'pattern',\n",
       " 'xp',\n",
       " 'cvs',\n",
       " 'lifecycle',\n",
       " 'execution',\n",
       " 'integrity',\n",
       " 'ecommerce',\n",
       " 'get',\n",
       " 'basis',\n",
       " 'analytical',\n",
       " 'prepared',\n",
       " 'applied',\n",
       " 'cost',\n",
       " 'member',\n",
       " 'identified',\n",
       " 'series',\n",
       " 'monthly',\n",
       " 'waterfall',\n",
       " 'component',\n",
       " 'sass',\n",
       " 'completed',\n",
       " 'documented',\n",
       " 'configurations',\n",
       " 'handled',\n",
       " 'tech',\n",
       " 'efficiency',\n",
       " 'areas',\n",
       " 'interact',\n",
       " 'event',\n",
       " 'strategic',\n",
       " 'area',\n",
       " 'first',\n",
       " 'layouts',\n",
       " 'rac',\n",
       " 'power',\n",
       " 'numpy',\n",
       " 'table',\n",
       " 'following',\n",
       " 'major',\n",
       " 'apps',\n",
       " 'soa',\n",
       " 'task',\n",
       " 'legacy',\n",
       " 'executed',\n",
       " 'assistant',\n",
       " 'international',\n",
       " 'better',\n",
       " 'resolved',\n",
       " 'nist',\n",
       " 'deliver',\n",
       " 'modeling',\n",
       " 'overall',\n",
       " 'redux',\n",
       " 'instances',\n",
       " 'ensured',\n",
       " 'printers',\n",
       " 'made',\n",
       " 'rational',\n",
       " 'machine',\n",
       " 'assigned',\n",
       " 'improvement',\n",
       " 'replication',\n",
       " 'sap',\n",
       " 'word',\n",
       " 'measures',\n",
       " 'social',\n",
       " 'communicate',\n",
       " 'personnel',\n",
       " 'cms',\n",
       " 'webbased',\n",
       " 'medical',\n",
       " 'ssis',\n",
       " 'video',\n",
       " 'handle',\n",
       " 'layout',\n",
       " 'typescript',\n",
       " 'helped',\n",
       " 'wide',\n",
       " 'defined',\n",
       " 'repository',\n",
       " 'consulting',\n",
       " 'dhcp',\n",
       " 'perl',\n",
       " 'third',\n",
       " 'nc',\n",
       " 'fixing',\n",
       " 'screens',\n",
       " 'solaris',\n",
       " 'llc',\n",
       " 'onsite',\n",
       " 'lan',\n",
       " 'established',\n",
       " 'small',\n",
       " 'microservices',\n",
       " 'errors',\n",
       " 'multithreading',\n",
       " 'co',\n",
       " 'check',\n",
       " 'issue',\n",
       " 'workstations',\n",
       " 'oh',\n",
       " 'record',\n",
       " 'leading',\n",
       " 'director',\n",
       " 'locations',\n",
       " 'enhancements',\n",
       " 'national',\n",
       " 'http',\n",
       " 'care',\n",
       " 'schema',\n",
       " 'line',\n",
       " 'companies',\n",
       " 'images',\n",
       " 'nosql',\n",
       " 'apex',\n",
       " 'guidelines',\n",
       " 'progress',\n",
       " 'session',\n",
       " 'red',\n",
       " 'operation',\n",
       " 'future',\n",
       " 'machines',\n",
       " 'students',\n",
       " 'understand',\n",
       " 'splunk',\n",
       " 'sources',\n",
       " 'tcpip',\n",
       " 'ip',\n",
       " 'mongo',\n",
       " 'warehouse',\n",
       " 'jasmine',\n",
       " 'distributed',\n",
       " 'updating',\n",
       " 'servicenow',\n",
       " 'dependency',\n",
       " 'pc',\n",
       " 'transfer',\n",
       " 'sprint',\n",
       " 'dashboard',\n",
       " 'institute',\n",
       " 'iis',\n",
       " 'added',\n",
       " 'relational',\n",
       " 'intern',\n",
       " 'real',\n",
       " 'xslt',\n",
       " 'according',\n",
       " 'followed',\n",
       " 'voip',\n",
       " 'public',\n",
       " 'write',\n",
       " 'compatibility',\n",
       " 'asset',\n",
       " 'timely',\n",
       " 'directives',\n",
       " 'position',\n",
       " 'dell',\n",
       " 'usage',\n",
       " 'primary',\n",
       " 'device',\n",
       " 'integrating',\n",
       " 'administered',\n",
       " 'departments',\n",
       " 'trained',\n",
       " 'deliverables',\n",
       " 'crm',\n",
       " 'increase',\n",
       " 'metrics',\n",
       " 'citrix',\n",
       " 'generate',\n",
       " 'reduce',\n",
       " 'detailed',\n",
       " 'ad',\n",
       " 'bash',\n",
       " 'organizational',\n",
       " 'actions',\n",
       " 'repair',\n",
       " 'workflows',\n",
       " 'flash',\n",
       " 'employee',\n",
       " 'main',\n",
       " 'grid',\n",
       " 'force',\n",
       " 'levels',\n",
       " 'indexes',\n",
       " 'kafka',\n",
       " 'space',\n",
       " 'express',\n",
       " 'display',\n",
       " 'customized',\n",
       " 'meeting',\n",
       " 'traffic',\n",
       " 'big',\n",
       " 'relationships',\n",
       " 'collaborated',\n",
       " 'structure',\n",
       " 'graphic',\n",
       " 'tdd',\n",
       " 'entity',\n",
       " 'companys',\n",
       " 'regular',\n",
       " 'credit',\n",
       " 'ie',\n",
       " 'ruby',\n",
       " 'determine',\n",
       " 'candidates',\n",
       " 'intelligence',\n",
       " 'deployments',\n",
       " 'variety',\n",
       " 'toad',\n",
       " 'clientside',\n",
       " 'resolving',\n",
       " 'micro',\n",
       " 'retrieve',\n",
       " 'list',\n",
       " 'contact',\n",
       " 'payment',\n",
       " 'injection',\n",
       " 'chicago',\n",
       " 'upgraded',\n",
       " 'ssrs',\n",
       " 'proper',\n",
       " 'foundation',\n",
       " 'integrate',\n",
       " 'reusable',\n",
       " 'administrative',\n",
       " 'able',\n",
       " 'aspects',\n",
       " 'activity',\n",
       " 'v',\n",
       " 'government',\n",
       " 'recommendations',\n",
       " 'efforts',\n",
       " 'successful',\n",
       " 'capacity',\n",
       " 'creative',\n",
       " 'types',\n",
       " 'transactions',\n",
       " 'hat',\n",
       " 'engineers',\n",
       " 'tsql',\n",
       " 'vulnerabilities',\n",
       " 'license',\n",
       " 'template',\n",
       " 'risks',\n",
       " 'messaging',\n",
       " 'collection',\n",
       " 'fixed',\n",
       " 'alerts',\n",
       " 'loading',\n",
       " 'interaction',\n",
       " 'frame',\n",
       " 'logical',\n",
       " 'dashboards',\n",
       " 'command',\n",
       " 'sessions',\n",
       " 'every',\n",
       " 'healthcare',\n",
       " 'persistence',\n",
       " 'collections',\n",
       " 'masters',\n",
       " 'federal',\n",
       " 'ticketing',\n",
       " 'potential',\n",
       " 'done',\n",
       " 'details',\n",
       " 'elastic',\n",
       " 'patch',\n",
       " 'distribution',\n",
       " 'enhance',\n",
       " 'scheduled',\n",
       " 'dreamweaver',\n",
       " 'impact',\n",
       " 'drupal',\n",
       " 'served',\n",
       " 'tableau',\n",
       " 'k',\n",
       " 'reviewed',\n",
       " 'around',\n",
       " 'message',\n",
       " 'feature',\n",
       " 'ii',\n",
       " 'hdfs',\n",
       " 'powershell',\n",
       " 'achieve',\n",
       " 'conduct',\n",
       " 'transaction',\n",
       " 'jstl',\n",
       " 'home',\n",
       " 'direct',\n",
       " 'authorization',\n",
       " 'delivered',\n",
       " 'approach',\n",
       " 'identifying',\n",
       " 'actively',\n",
       " 'clear',\n",
       " 'guard',\n",
       " 'asp',\n",
       " 'messages',\n",
       " 'ioc',\n",
       " 'router',\n",
       " 'location',\n",
       " ...]"
      ]
     },
     "execution_count": 168,
     "metadata": {},
     "output_type": "execute_result"
    }
   ],
   "source": [
    "fasttext_embeddings.words"
   ]
  },
  {
   "cell_type": "code",
   "execution_count": 20,
   "id": "19ec4f99-4fff-4384-b01e-680da0ad7c89",
   "metadata": {
    "scrolled": true
   },
   "outputs": [
    {
     "data": {
      "text/plain": [
       "[(0.8706909418106079, 'django'),\n",
       " (0.8578535318374634, 'pythonzope'),\n",
       " (0.8468846082687378, 'pythonr'),\n",
       " (0.8405252695083618, 'pythonsql'),\n",
       " (0.8215827941894531, 'usedpython'),\n",
       " (0.8213180303573608, 'flask'),\n",
       " (0.817460834980011, 'pythonxx'),\n",
       " (0.8167125582695007, 'pythonusing'),\n",
       " (0.8153729438781738, 'djangotasty'),\n",
       " (0.8143796324729919, 'pythonui')]"
      ]
     },
     "execution_count": 20,
     "metadata": {},
     "output_type": "execute_result"
    }
   ],
   "source": [
    "fasttext_embeddings.get_nearest_neighbors('python')"
   ]
  },
  {
   "cell_type": "code",
   "execution_count": 180,
   "id": "277bb0a8-e9cd-4cbb-aedf-e616ab2380c9",
   "metadata": {},
   "outputs": [
    {
     "data": {
      "text/plain": [
       "(100,)"
      ]
     },
     "execution_count": 180,
     "metadata": {},
     "output_type": "execute_result"
    }
   ],
   "source": [
    "fasttext_embeddings.get_word_vector('python').shape"
   ]
  },
  {
   "cell_type": "code",
   "execution_count": 181,
   "id": "a9226acc-d0e3-4727-9972-97972884638c",
   "metadata": {
    "scrolled": true
   },
   "outputs": [
    {
     "data": {
      "text/plain": [
       "array([-0.11841694,  0.00251289, -0.18797322, -0.02824611, -0.12439402,\n",
       "        0.03823343,  0.03490164,  0.30208895,  0.2092921 ,  0.02387697,\n",
       "       -0.1361955 ,  0.04145336,  0.16480707, -0.10956548,  0.24872775,\n",
       "       -0.03500133, -0.19671924, -0.12656195, -0.18538976,  0.07284143,\n",
       "       -0.2064975 ,  0.02058234, -0.13841984, -0.15905975,  0.17309552,\n",
       "        0.16841993,  0.1813726 , -0.13907816,  0.07181233, -0.1045317 ,\n",
       "        0.13362192,  0.34332004,  0.14159073,  0.0308621 ,  0.4604683 ,\n",
       "       -0.06974063, -0.07335603,  0.02945566,  0.2907613 , -0.04809903,\n",
       "       -0.18419552,  0.13182552,  0.24286188,  0.3027462 ,  0.17602538,\n",
       "        0.05088642,  0.06618877,  0.25914332, -0.2206771 ,  0.03351273,\n",
       "       -0.25254005,  0.31022793, -0.03806229,  0.16743307, -0.08991843,\n",
       "       -0.04978978,  0.12773485,  0.20728111, -0.1556067 ,  0.04634518,\n",
       "       -0.32477075,  0.17130068, -0.23144558, -0.1457063 , -0.4120804 ,\n",
       "        0.33578914, -0.49939632,  0.03709019,  0.06643151, -0.20359753,\n",
       "       -0.15292825,  0.09135802, -0.09162416, -0.21384266, -0.0969993 ,\n",
       "        0.15112352, -0.03273794,  0.06753738,  0.18866828, -0.17724685,\n",
       "       -0.06639643, -0.00540529, -0.06481411,  0.0113442 , -0.07861356,\n",
       "       -0.08624779,  0.09118567,  0.01739179,  0.171928  , -0.06733312,\n",
       "        0.20328113, -0.05619145,  0.1545904 , -0.1632032 , -0.37539208,\n",
       "        0.08546944,  0.08709726, -0.04848631, -0.03527981,  0.06603663],\n",
       "      dtype=float32)"
      ]
     },
     "execution_count": 181,
     "metadata": {},
     "output_type": "execute_result"
    }
   ],
   "source": [
    "fasttext_embeddings.get_word_vector('nikhil')"
   ]
  },
  {
   "cell_type": "code",
   "execution_count": 189,
   "id": "dc5cf19c-b90b-4bed-b244-915984d6dd67",
   "metadata": {},
   "outputs": [],
   "source": [
    "#Saving the ebeddings model\n",
    "#fasttext_embeddings.save_model('fasttext_embeddings.bin')"
   ]
  },
  {
   "cell_type": "code",
   "execution_count": 11,
   "id": "fcaa5f9a-196f-453a-ad92-67cd6b3dfbe0",
   "metadata": {},
   "outputs": [
    {
     "name": "stderr",
     "output_type": "stream",
     "text": [
      "Warning : `load_model` does not return WordVectorModel or SupervisedModel any more, but a `FastText` object which is very similar.\n"
     ]
    }
   ],
   "source": [
    "fasttext_embeddings_model = fasttext.load_model('fasttext_embeddings.bin')"
   ]
  },
  {
   "cell_type": "code",
   "execution_count": 190,
   "id": "1c8a4b80-14b0-4148-aa14-f56821c01f0b",
   "metadata": {},
   "outputs": [],
   "source": [
    "#saving the dataframe for future purposes.\n",
    "# df.to_csv('resume_cleaned_With&Without_labels.csv',index=False)"
   ]
  },
  {
   "cell_type": "code",
   "execution_count": 12,
   "id": "6d9d9151-5258-455c-a367-547271a53e5f",
   "metadata": {},
   "outputs": [],
   "source": [
    "def get_embeddings(txt):\n",
    "    txt_list = np.array(fasttext.tokenize(txt))\n",
    "\n",
    "    z = [fasttext_embeddings_model.get_word_vector(token) for token in txt_list]\n",
    "\n",
    "    return np.array(z)"
   ]
  },
  {
   "cell_type": "code",
   "execution_count": 13,
   "id": "66abbc21-4a6c-48ed-81ba-7ace3275beea",
   "metadata": {},
   "outputs": [],
   "source": [
    "embeddings_dic = {}\n",
    "for row in range(df.shape[0]):\n",
    "    embeddings_dic[row] = get_embeddings(df['no_lemm_cleaned_txt_without_labels'][row])\n",
    "\n",
    "## we cacnnot convert the dictionary values into array bcoz of the varing length on the resumes. "
   ]
  },
  {
   "cell_type": "code",
   "execution_count": 16,
   "id": "4882edd0-f18d-4af3-85b6-79329abf8dd3",
   "metadata": {},
   "outputs": [
    {
     "name": "stdout",
     "output_type": "stream",
     "text": [
      "9493\n"
     ]
    }
   ],
   "source": [
    "# to tackle this issue we will do the padding with zeros\n",
    "resume_lengths = []\n",
    "for values in embeddings_dic.values():\n",
    "    resume_lengths.append(len(values))\n",
    "\n",
    "print(max(resume_lengths))\n",
    "resume_lengths = np.array(resume_lengths)"
   ]
  },
  {
   "cell_type": "code",
   "execution_count": 9,
   "id": "62ca060b-c795-416f-bf14-1b9b6b12144c",
   "metadata": {},
   "outputs": [
    {
     "data": {
      "text/plain": [
       "<Axes: ylabel='Count'>"
      ]
     },
     "execution_count": 9,
     "metadata": {},
     "output_type": "execute_result"
    },
    {
     "data": {
      "image/png": "[encoded data removed]",
      "text/plain": [
       "<Figure size 640x480 with 1 Axes>"
      ]
     },
     "metadata": {},
     "output_type": "display_data"
    }
   ],
   "source": [
    "import matplotlib.pyplot as plt\n",
    "import seaborn as sns \n",
    "\n",
    "sns.histplot(resume_lengths)"
   ]
  },
  {
   "cell_type": "code",
   "execution_count": 10,
   "id": "9c0eee87-84d1-4076-bbd9-f5e143ba8f00",
   "metadata": {},
   "outputs": [
    {
     "data": {
      "text/plain": [
       "<Axes: ylabel='Count'>"
      ]
     },
     "execution_count": 10,
     "metadata": {},
     "output_type": "execute_result"
    },
    {
     "data": {
      "image/png": "[encoded data removed]",
      "text/plain": [
       "<Figure size 640x480 with 1 Axes>"
      ]
     },
     "metadata": {},
     "output_type": "display_data"
    }
   ],
   "source": [
    "sns.histplot(resume_lengths, binrange=(0,1800))"
   ]
  },
  {
   "cell_type": "code",
   "execution_count": 17,
   "id": "040e8f05-0c21-4244-af32-8b6dfa49fc07",
   "metadata": {},
   "outputs": [
    {
     "data": {
      "text/plain": [
       "(27002,)"
      ]
     },
     "execution_count": 17,
     "metadata": {},
     "output_type": "execute_result"
    }
   ],
   "source": [
    "np.where(resume_lengths< 1800)[0].shape"
   ]
  },
  {
   "cell_type": "code",
   "execution_count": 18,
   "id": "746dee95-80ec-40eb-a6e8-cd201682886b",
   "metadata": {},
   "outputs": [],
   "source": [
    "## removing those resume which have word count greater than 1800 words\n",
    "resume_lengths_indx = np.where(resume_lengths< 1800)[0]"
   ]
  },
  {
   "cell_type": "code",
   "execution_count": 13,
   "id": "a370b673-e7a9-4772-8c8d-ac04a7680eed",
   "metadata": {},
   "outputs": [],
   "source": [
    "new_embeddings_dic = {}\n",
    "\n",
    "for indx in resume_lengths_indx:\n",
    "    if indx in embeddings_dic.keys():\n",
    "        new_embeddings_dic[indx] = embeddings_dic[indx]"
   ]
  },
  {
   "cell_type": "code",
   "execution_count": 14,
   "id": "e8a828d8-56ea-4604-b09d-9454b0d1bf3a",
   "metadata": {},
   "outputs": [
    {
     "data": {
      "text/plain": [
       "27002"
      ]
     },
     "execution_count": 14,
     "metadata": {},
     "output_type": "execute_result"
    }
   ],
   "source": [
    "len(new_embeddings_dic)"
   ]
  },
  {
   "cell_type": "code",
   "execution_count": 15,
   "id": "db90aa96-fdee-4017-8045-e121cbafd75f",
   "metadata": {},
   "outputs": [
    {
     "name": "stdout",
     "output_type": "stream",
     "text": [
      "1799\n"
     ]
    }
   ],
   "source": [
    "max_len = 0\n",
    "for values in new_embeddings_dic.values():\n",
    "    if len(values) > max_len:\n",
    "        max_len = len(values)\n",
    "print(max_len)"
   ]
  },
  {
   "cell_type": "code",
   "execution_count": 16,
   "id": "79145a92-c362-4998-861a-8eae1049407c",
   "metadata": {},
   "outputs": [],
   "source": [
    "for key in new_embeddings_dic.keys():\n",
    "    len_difference = max_len - len(new_embeddings_dic[key])\n",
    "\n",
    "    pad = np.zeros(shape = (len_difference,100)) #100 bcoz for the size of each word vector is 100\n",
    "\n",
    "    new_embeddings_dic[key] = np.concatenate([new_embeddings_dic[key], pad])"
   ]
  },
  {
   "cell_type": "code",
   "execution_count": 17,
   "id": "364a880e-032f-4d04-83a7-4812178709e3",
   "metadata": {},
   "outputs": [],
   "source": [
    "embeddings = np.array(list(new_embeddings_dic.values()))"
   ]
  },
  {
   "cell_type": "code",
   "execution_count": 26,
   "id": "a9839412-2434-47f9-9b2d-55a677b2ea5c",
   "metadata": {},
   "outputs": [
    {
     "data": {
      "text/plain": [
       "(27002, 1799, 100)"
      ]
     },
     "execution_count": 26,
     "metadata": {},
     "output_type": "execute_result"
    }
   ],
   "source": [
    "embeddings.shape"
   ]
  },
  {
   "cell_type": "code",
   "execution_count": 28,
   "id": "c56c54ce-dca5-4cab-82b2-ce1a46819e53",
   "metadata": {},
   "outputs": [],
   "source": [
    "np.save('fasttext_embeddings_vec',embeddings)"
   ]
  },
  {
   "cell_type": "code",
   "execution_count": 38,
   "id": "26357ff3-8771-4889-94b4-d51aa48a3cf5",
   "metadata": {},
   "outputs": [
    {
     "data": {
      "text/plain": [
       "0        1\n",
       "1        1\n",
       "2        1\n",
       "3        1\n",
       "4        1\n",
       "        ..\n",
       "29028    9\n",
       "29029    9\n",
       "29031    9\n",
       "29033    9\n",
       "29034    7\n",
       "Name: labeled_class, Length: 27002, dtype: int64"
      ]
     },
     "execution_count": 38,
     "metadata": {},
     "output_type": "execute_result"
    }
   ],
   "source": [
    "df['labeled_class'][resume_lengths_indx]"
   ]
  },
  {
   "cell_type": "code",
   "execution_count": 20,
   "id": "a854f572-a5b0-4e5c-89d7-3e979a477fbe",
   "metadata": {},
   "outputs": [],
   "source": [
    "#np.save('resume_lengths_indx',resume_lengths_indx)\n",
    "#saving indexes "
   ]
  },
  {
   "cell_type": "markdown",
   "id": "90fa3014-8c7d-42e2-b743-65f2b779f696",
   "metadata": {},
   "source": [
    "## RNN & LSTM Model"
   ]
  },
  {
   "cell_type": "code",
   "execution_count": 3,
   "id": "1f5c7f80-f8cb-4f6a-bca7-76b28133e566",
   "metadata": {},
   "outputs": [],
   "source": [
    "embeddings = np.load('fasttext_embeddings_vec.npy')\n",
    "df = pd.read_csv('resume_cleaned_With&Without_labels.csv')\n",
    "resume_lengths_indx = np.load('resume_lengths_indx.npy')"
   ]
  },
  {
   "cell_type": "code",
   "execution_count": 1,
   "id": "ac054711-d657-48f7-b925-cbc496448877",
   "metadata": {},
   "outputs": [],
   "source": [
    "import concurrent.futures\n",
    "import pandas as pd \n",
    "import numpy as np \n",
    "import spacy\n",
    "import os \n",
    "from nltk.corpus import stopwords\n",
    "from nltk.tokenize import word_tokenize\n",
    "from nltk.stem import WordNetLemmatizer\n",
    "import re \n",
    "from sklearn.model_selection import train_test_split\n",
    "from sklearn.preprocessing import LabelEncoder \n",
    "\n",
    "import fasttext"
   ]
  },
  {
   "cell_type": "code",
   "execution_count": 2,
   "id": "ffe79fcd-7aa4-4c68-aed8-b5d334b62b07",
   "metadata": {},
   "outputs": [],
   "source": [
    "import os \n",
    "os.environ['TF_CPP_MIN_LOG_LEVEL'] = '3'  "
   ]
  },
  {
   "cell_type": "code",
   "execution_count": 2,
   "id": "565f4f6b-b73a-4c29-af59-c0a24433af60",
   "metadata": {},
   "outputs": [],
   "source": [
    "# from silence_tensorflow import silence_tensorflow\n",
    "# silence_tensorflow()\n",
    "import tensorflow as tf\n",
    "\n",
    "import dask.array as da \n",
    "from keras.models import Sequential\n",
    "from keras.layers import SimpleRNN, Dense, Input\n",
    "import warnings \n",
    "warnings.filterwarnings('ignore')"
   ]
  },
  {
   "cell_type": "code",
   "execution_count": 3,
   "id": "1624a0c2-8ce9-4dd0-98cd-7d7ff97da8a4",
   "metadata": {},
   "outputs": [
    {
     "data": {
      "text/plain": [
       "[PhysicalDevice(name='/physical_device:GPU:0', device_type='GPU')]"
      ]
     },
     "execution_count": 3,
     "metadata": {},
     "output_type": "execute_result"
    }
   ],
   "source": [
    "tf.config.list_physical_devices('GPU')"
   ]
  },
  {
   "cell_type": "code",
   "execution_count": 4,
   "id": "a82fd350-a13f-4dd6-997d-09f223b4641e",
   "metadata": {},
   "outputs": [
    {
     "name": "stdout",
     "output_type": "stream",
     "text": [
      "WARNING:tensorflow:From /var/folders/9c/xy4p20v91hv95n64yflzlj4c0000gn/T/ipykernel_4494/4051444505.py:1: is_gpu_available (from tensorflow.python.framework.test_util) is deprecated and will be removed in a future version.\n",
      "Instructions for updating:\n",
      "Use `tf.config.list_physical_devices('GPU')` instead.\n",
      "GPU is available and TensorFlow is using it.\n"
     ]
    },
    {
     "name": "stderr",
     "output_type": "stream",
     "text": [
      "2023-12-01 19:41:53.519904: I metal_plugin/src/device/metal_device.cc:1154] Metal device set to: Apple M2 Pro\n",
      "2023-12-01 19:41:53.519951: I metal_plugin/src/device/metal_device.cc:296] systemMemory: 16.00 GB\n",
      "2023-12-01 19:41:53.519961: I metal_plugin/src/device/metal_device.cc:313] maxCacheSize: 5.33 GB\n",
      "2023-12-01 19:41:53.520035: I tensorflow/core/common_runtime/pluggable_device/pluggable_device_factory.cc:306] Could not identify NUMA node of platform GPU ID 0, defaulting to 0. Your kernel may not have been built with NUMA support.\n",
      "2023-12-01 19:41:53.520066: I tensorflow/core/common_runtime/pluggable_device/pluggable_device_factory.cc:272] Created TensorFlow device (/device:GPU:0 with 0 MB memory) -> physical PluggableDevice (device: 0, name: METAL, pci bus id: <undefined>)\n"
     ]
    }
   ],
   "source": [
    "if tf.test.is_gpu_available():\n",
    "    print(\"GPU is available and TensorFlow is using it.\")\n",
    "else:\n",
    "    print(\"GPU is not available. TensorFlow is using CPU.\")"
   ]
  },
  {
   "cell_type": "code",
   "execution_count": 1,
   "id": "909b4884-bd59-4e79-9c95-03d15d151abf",
   "metadata": {},
   "outputs": [],
   "source": [
    "import logging\n",
    "logging.getLogger(\"tensorflow\").setLevel(logging.ERROR)"
   ]
  },
  {
   "cell_type": "code",
   "execution_count": 15,
   "id": "5782b742-fffe-468f-bc9a-47c50e8341aa",
   "metadata": {
    "scrolled": true
   },
   "outputs": [],
   "source": [
    "x_train, x_test, y_train, y_test = train_test_split(embeddings, df['labeled_class'][resume_lengths_indx], test_size=0.3, random_state=42)"
   ]
  },
  {
   "cell_type": "code",
   "execution_count": 5,
   "id": "44978b68-24db-4fcf-b5ae-59eb88cd8324",
   "metadata": {
    "scrolled": true
   },
   "outputs": [],
   "source": [
    "# np.save('x_train',x_train)\n",
    "# np.save('x_test',x_test)\n",
    "# np.save('y_train',y_train)\n",
    "# np.save('y_test',y_test)\n",
    "\n",
    "x_train = np.load('x_train.npy')\n",
    "y_train = np.load('y_train.npy')\n",
    "x_test = np.load('x_test.npy')\n",
    "y_test = np.load('y_test.npy')"
   ]
  },
  {
   "cell_type": "code",
   "execution_count": 6,
   "id": "5af6ebf0-abf0-4a9f-9e8a-1f0e8f5a0edf",
   "metadata": {},
   "outputs": [],
   "source": [
    "y_train = np.array(y_train).reshape(-1,1)\n",
    "y_test =  np.array(y_test).reshape(-1,1)"
   ]
  },
  {
   "cell_type": "code",
   "execution_count": 7,
   "id": "90849ffa-c654-482f-8a23-f705651e64f0",
   "metadata": {},
   "outputs": [],
   "source": [
    "x_train = da.from_array(x_train, chunks = (1000,1000,1000)) # text time try 100 from 3rd dimension\n",
    "x_test = da.from_array(x_test, chunks = (1000,1000,1000))"
   ]
  },
  {
   "cell_type": "code",
   "execution_count": 8,
   "id": "9ac6a65f-c635-4e01-8012-af704ad5bd28",
   "metadata": {},
   "outputs": [
    {
     "data": {
      "text/html": [
       "<table>\n",
       "    <tr>\n",
       "        <td>\n",
       "            <table style=\"border-collapse: collapse;\">\n",
       "                <thead>\n",
       "                    <tr>\n",
       "                        <td> </td>\n",
       "                        <th> Array </th>\n",
       "                        <th> Chunk </th>\n",
       "                    </tr>\n",
       "                </thead>\n",
       "                <tbody>\n",
       "                    \n",
       "                    <tr>\n",
       "                        <th> Bytes </th>\n",
       "                        <td> 25.33 GiB </td>\n",
       "                        <td> 762.94 MiB </td>\n",
       "                    </tr>\n",
       "                    \n",
       "                    <tr>\n",
       "                        <th> Shape </th>\n",
       "                        <td> (18901, 1799, 100) </td>\n",
       "                        <td> (1000, 1000, 100) </td>\n",
       "                    </tr>\n",
       "                    <tr>\n",
       "                        <th> Dask graph </th>\n",
       "                        <td colspan=\"2\"> 38 chunks in 1 graph layer </td>\n",
       "                    </tr>\n",
       "                    <tr>\n",
       "                        <th> Data type </th>\n",
       "                        <td colspan=\"2\"> float64 numpy.ndarray </td>\n",
       "                    </tr>\n",
       "                </tbody>\n",
       "            </table>\n",
       "        </td>\n",
       "        <td>\n",
       "        <svg width=\"156\" height=\"158\" style=\"stroke:rgb(0,0,0);stroke-width:1\" >\n",
       "\n",
       "  <!-- Horizontal lines -->\n",
       "  <line x1=\"10\" y1=\"0\" x2=\"80\" y2=\"70\" style=\"stroke-width:2\" />\n",
       "  <line x1=\"10\" y1=\"21\" x2=\"80\" y2=\"91\" />\n",
       "  <line x1=\"10\" y1=\"38\" x2=\"80\" y2=\"108\" style=\"stroke-width:2\" />\n",
       "\n",
       "  <!-- Vertical lines -->\n",
       "  <line x1=\"10\" y1=\"0\" x2=\"10\" y2=\"38\" style=\"stroke-width:2\" />\n",
       "  <line x1=\"13\" y1=\"3\" x2=\"13\" y2=\"42\" />\n",
       "  <line x1=\"17\" y1=\"7\" x2=\"17\" y2=\"45\" />\n",
       "  <line x1=\"21\" y1=\"11\" x2=\"21\" y2=\"49\" />\n",
       "  <line x1=\"24\" y1=\"14\" x2=\"24\" y2=\"53\" />\n",
       "  <line x1=\"28\" y1=\"18\" x2=\"28\" y2=\"56\" />\n",
       "  <line x1=\"32\" y1=\"22\" x2=\"32\" y2=\"60\" />\n",
       "  <line x1=\"36\" y1=\"26\" x2=\"36\" y2=\"64\" />\n",
       "  <line x1=\"39\" y1=\"29\" x2=\"39\" y2=\"68\" />\n",
       "  <line x1=\"43\" y1=\"33\" x2=\"43\" y2=\"71\" />\n",
       "  <line x1=\"47\" y1=\"37\" x2=\"47\" y2=\"75\" />\n",
       "  <line x1=\"51\" y1=\"41\" x2=\"51\" y2=\"79\" />\n",
       "  <line x1=\"54\" y1=\"44\" x2=\"54\" y2=\"83\" />\n",
       "  <line x1=\"58\" y1=\"48\" x2=\"58\" y2=\"86\" />\n",
       "  <line x1=\"62\" y1=\"52\" x2=\"62\" y2=\"90\" />\n",
       "  <line x1=\"66\" y1=\"56\" x2=\"66\" y2=\"94\" />\n",
       "  <line x1=\"69\" y1=\"59\" x2=\"69\" y2=\"98\" />\n",
       "  <line x1=\"73\" y1=\"63\" x2=\"73\" y2=\"101\" />\n",
       "  <line x1=\"77\" y1=\"67\" x2=\"77\" y2=\"105\" />\n",
       "  <line x1=\"80\" y1=\"70\" x2=\"80\" y2=\"108\" style=\"stroke-width:2\" />\n",
       "\n",
       "  <!-- Colored Rectangle -->\n",
       "  <polygon points=\"10.0,0.0 80.58823529411765,70.58823529411765 80.58823529411765,108.90955680827804 10.0,38.321321514160395\" style=\"fill:#8B4903A0;stroke-width:0\"/>\n",
       "\n",
       "  <!-- Horizontal lines -->\n",
       "  <line x1=\"10\" y1=\"0\" x2=\"35\" y2=\"0\" style=\"stroke-width:2\" />\n",
       "  <line x1=\"13\" y1=\"3\" x2=\"39\" y2=\"3\" />\n",
       "  <line x1=\"17\" y1=\"7\" x2=\"42\" y2=\"7\" />\n",
       "  <line x1=\"21\" y1=\"11\" x2=\"46\" y2=\"11\" />\n",
       "  <line x1=\"24\" y1=\"14\" x2=\"50\" y2=\"14\" />\n",
       "  <line x1=\"28\" y1=\"18\" x2=\"54\" y2=\"18\" />\n",
       "  <line x1=\"32\" y1=\"22\" x2=\"57\" y2=\"22\" />\n",
       "  <line x1=\"36\" y1=\"26\" x2=\"61\" y2=\"26\" />\n",
       "  <line x1=\"39\" y1=\"29\" x2=\"65\" y2=\"29\" />\n",
       "  <line x1=\"43\" y1=\"33\" x2=\"69\" y2=\"33\" />\n",
       "  <line x1=\"47\" y1=\"37\" x2=\"72\" y2=\"37\" />\n",
       "  <line x1=\"51\" y1=\"41\" x2=\"76\" y2=\"41\" />\n",
       "  <line x1=\"54\" y1=\"44\" x2=\"80\" y2=\"44\" />\n",
       "  <line x1=\"58\" y1=\"48\" x2=\"83\" y2=\"48\" />\n",
       "  <line x1=\"62\" y1=\"52\" x2=\"87\" y2=\"52\" />\n",
       "  <line x1=\"66\" y1=\"56\" x2=\"91\" y2=\"56\" />\n",
       "  <line x1=\"69\" y1=\"59\" x2=\"95\" y2=\"59\" />\n",
       "  <line x1=\"73\" y1=\"63\" x2=\"98\" y2=\"63\" />\n",
       "  <line x1=\"77\" y1=\"67\" x2=\"102\" y2=\"67\" />\n",
       "  <line x1=\"80\" y1=\"70\" x2=\"106\" y2=\"70\" style=\"stroke-width:2\" />\n",
       "\n",
       "  <!-- Vertical lines -->\n",
       "  <line x1=\"10\" y1=\"0\" x2=\"80\" y2=\"70\" style=\"stroke-width:2\" />\n",
       "  <line x1=\"35\" y1=\"0\" x2=\"106\" y2=\"70\" style=\"stroke-width:2\" />\n",
       "\n",
       "  <!-- Colored Rectangle -->\n",
       "  <polygon points=\"10.0,0.0 35.41261651458249,0.0 106.00085180870013,70.58823529411765 80.58823529411765,70.58823529411765\" style=\"fill:#8B4903A0;stroke-width:0\"/>\n",
       "\n",
       "  <!-- Horizontal lines -->\n",
       "  <line x1=\"80\" y1=\"70\" x2=\"106\" y2=\"70\" style=\"stroke-width:2\" />\n",
       "  <line x1=\"80\" y1=\"91\" x2=\"106\" y2=\"91\" />\n",
       "  <line x1=\"80\" y1=\"108\" x2=\"106\" y2=\"108\" style=\"stroke-width:2\" />\n",
       "\n",
       "  <!-- Vertical lines -->\n",
       "  <line x1=\"80\" y1=\"70\" x2=\"80\" y2=\"108\" style=\"stroke-width:2\" />\n",
       "  <line x1=\"106\" y1=\"70\" x2=\"106\" y2=\"108\" style=\"stroke-width:2\" />\n",
       "\n",
       "  <!-- Colored Rectangle -->\n",
       "  <polygon points=\"80.58823529411765,70.58823529411765 106.00085180870013,70.58823529411765 106.00085180870013,108.90955680827804 80.58823529411765,108.90955680827804\" style=\"fill:#ECB172A0;stroke-width:0\"/>\n",
       "\n",
       "  <!-- Text -->\n",
       "  <text x=\"93.294544\" y=\"128.909557\" font-size=\"1.0rem\" font-weight=\"100\" text-anchor=\"middle\" >100</text>\n",
       "  <text x=\"126.000852\" y=\"89.748896\" font-size=\"1.0rem\" font-weight=\"100\" text-anchor=\"middle\" transform=\"rotate(-90,126.000852,89.748896)\">1799</text>\n",
       "  <text x=\"35.294118\" y=\"93.615439\" font-size=\"1.0rem\" font-weight=\"100\" text-anchor=\"middle\" transform=\"rotate(45,35.294118,93.615439)\">18901</text>\n",
       "</svg>\n",
       "        </td>\n",
       "    </tr>\n",
       "</table>"
      ],
      "text/plain": [
       "dask.array<array, shape=(18901, 1799, 100), dtype=float64, chunksize=(1000, 1000, 100), chunktype=numpy.ndarray>"
      ]
     },
     "execution_count": 8,
     "metadata": {},
     "output_type": "execute_result"
    }
   ],
   "source": [
    "x_train "
   ]
  },
  {
   "cell_type": "code",
   "execution_count": 3,
   "id": "dbfbaba3-733a-4c4a-8e0b-01fe65fe5e23",
   "metadata": {},
   "outputs": [
    {
     "name": "stdout",
     "output_type": "stream",
     "text": [
      "1 Physical GPUs, 1 Logical GPUs\n"
     ]
    },
    {
     "name": "stderr",
     "output_type": "stream",
     "text": [
      "2023-12-01 17:09:06.185082: I metal_plugin/src/device/metal_device.cc:1154] Metal device set to: Apple M2 Pro\n",
      "2023-12-01 17:09:06.185122: I metal_plugin/src/device/metal_device.cc:296] systemMemory: 16.00 GB\n",
      "2023-12-01 17:09:06.185132: I metal_plugin/src/device/metal_device.cc:313] maxCacheSize: 5.33 GB\n",
      "2023-12-01 17:09:06.185187: I tensorflow/core/common_runtime/pluggable_device/pluggable_device_factory.cc:306] Could not identify NUMA node of platform GPU ID 0, defaulting to 0. Your kernel may not have been built with NUMA support.\n",
      "2023-12-01 17:09:06.185215: I tensorflow/core/common_runtime/pluggable_device/pluggable_device_factory.cc:272] Created TensorFlow device (/job:localhost/replica:0/task:0/device:GPU:0 with 0 MB memory) -> physical PluggableDevice (device: 0, name: METAL, pci bus id: <undefined>)\n"
     ]
    }
   ],
   "source": [
    "# gpus = tf.config.list_physical_devices('GPU')\n",
    "# if gpus:\n",
    "#   # Restrict TensorFlow to only allocate 1GB of memory on the first GPU\n",
    "#   try:\n",
    "#     tf.config.set_logical_device_configuration(\n",
    "#         gpus[0],\n",
    "#         [tf.config.LogicalDeviceConfiguration(memory_limit=3072)])\n",
    "#     logical_gpus = tf.config.list_logical_devices('GPU')\n",
    "#     print(len(gpus), \"Physical GPUs,\", len(logical_gpus), \"Logical GPUs\")\n",
    "#   except RuntimeError as e:\n",
    "#     # Virtual devices must be set before GPUs have been initialized\n",
    "#     print(e)"
   ]
  },
  {
   "cell_type": "code",
   "execution_count": 9,
   "id": "eb003d30-7697-477e-8098-b9f742d47585",
   "metadata": {},
   "outputs": [
    {
     "name": "stderr",
     "output_type": "stream",
     "text": [
      "2023-12-01 19:43:17.276163: I tensorflow/core/common_runtime/pluggable_device/pluggable_device_factory.cc:306] Could not identify NUMA node of platform GPU ID 0, defaulting to 0. Your kernel may not have been built with NUMA support.\n",
      "2023-12-01 19:43:17.276792: I tensorflow/core/common_runtime/pluggable_device/pluggable_device_factory.cc:272] Created TensorFlow device (/job:localhost/replica:0/task:0/device:GPU:0 with 0 MB memory) -> physical PluggableDevice (device: 0, name: METAL, pci bus id: <undefined>)\n"
     ]
    }
   ],
   "source": [
    "model = Sequential()\n",
    "model.add(Input(shape=(1799,100)))\n",
    "model.add(SimpleRNN(64, activation='relu'))\n",
    "model.add(Dense(9, activation='softmax'))  "
   ]
  },
  {
   "cell_type": "code",
   "execution_count": 10,
   "id": "f99fdc6c-f6fb-41b1-b061-d98b9d994735",
   "metadata": {},
   "outputs": [
    {
     "name": "stdout",
     "output_type": "stream",
     "text": [
      "Model: \"sequential\"\n",
      "_________________________________________________________________\n",
      " Layer (type)                Output Shape              Param #   \n",
      "=================================================================\n",
      " simple_rnn (SimpleRNN)      (None, 64)                10560     \n",
      "                                                                 \n",
      " dense (Dense)               (None, 9)                 585       \n",
      "                                                                 \n",
      "=================================================================\n",
      "Total params: 11145 (43.54 KB)\n",
      "Trainable params: 11145 (43.54 KB)\n",
      "Non-trainable params: 0 (0.00 Byte)\n",
      "_________________________________________________________________\n"
     ]
    }
   ],
   "source": [
    "model.summary()"
   ]
  },
  {
   "cell_type": "code",
   "execution_count": 11,
   "id": "06952ef7-8de7-4723-8ea2-4b9f37f526ed",
   "metadata": {},
   "outputs": [
    {
     "name": "stdout",
     "output_type": "stream",
     "text": [
      "WARNING:tensorflow:Keras is training/fitting/evaluating on array-like data. Keras may not be optimized for this format, so if your input data format is supported by TensorFlow I/O (https://github.com/tensorflow/io) we recommend using that to load a Dataset instead.\n",
      "Epoch 1/10\n"
     ]
    },
    {
     "name": "stderr",
     "output_type": "stream",
     "text": [
      "2023-12-01 19:43:18.190019: I tensorflow/core/grappler/optimizers/custom_graph_optimizer_registry.cc:117] Plugin optimizer for device_type GPU is enabled.\n"
     ]
    },
    {
     "name": "stdout",
     "output_type": "stream",
     "text": [
      "  1/591 [..............................] - ETA: 107:47:10 - loss: 2.1286 - accuracy: 0.0000e+00"
     ]
    },
    {
     "ename": "KeyboardInterrupt",
     "evalue": "",
     "output_type": "error",
     "traceback": [
      "\u001b[0;31m---------------------------------------------------------------------------\u001b[0m",
      "\u001b[0;31mKeyboardInterrupt\u001b[0m                         Traceback (most recent call last)",
      "Cell \u001b[0;32mIn[11], line 5\u001b[0m\n\u001b[1;32m      2\u001b[0m model\u001b[38;5;241m.\u001b[39mcompile(optimizer\u001b[38;5;241m=\u001b[39m\u001b[38;5;124m'\u001b[39m\u001b[38;5;124madam\u001b[39m\u001b[38;5;124m'\u001b[39m, loss\u001b[38;5;241m=\u001b[39m\u001b[38;5;124m'\u001b[39m\u001b[38;5;124msparse_categorical_crossentropy\u001b[39m\u001b[38;5;124m'\u001b[39m, metrics\u001b[38;5;241m=\u001b[39m[\u001b[38;5;124m'\u001b[39m\u001b[38;5;124maccuracy\u001b[39m\u001b[38;5;124m'\u001b[39m])\n\u001b[1;32m      4\u001b[0m \u001b[38;5;66;03m# Train the model\u001b[39;00m\n\u001b[0;32m----> 5\u001b[0m \u001b[43mmodel\u001b[49m\u001b[38;5;241;43m.\u001b[39;49m\u001b[43mfit\u001b[49m\u001b[43m(\u001b[49m\u001b[43mx_train\u001b[49m\u001b[43m,\u001b[49m\u001b[43m \u001b[49m\u001b[43my_train\u001b[49m\u001b[43m,\u001b[49m\u001b[43m \u001b[49m\u001b[43mepochs\u001b[49m\u001b[38;5;241;43m=\u001b[39;49m\u001b[38;5;241;43m10\u001b[39;49m\u001b[43m,\u001b[49m\u001b[43m \u001b[49m\u001b[43mbatch_size\u001b[49m\u001b[38;5;241;43m=\u001b[39;49m\u001b[38;5;241;43m32\u001b[39;49m\u001b[43m,\u001b[49m\u001b[43m \u001b[49m\u001b[43mverbose\u001b[49m\u001b[38;5;241;43m=\u001b[39;49m\u001b[43m \u001b[49m\u001b[38;5;241;43m1\u001b[39;49m\u001b[43m,\u001b[49m\u001b[43mvalidation_data\u001b[49m\u001b[38;5;241;43m=\u001b[39;49m\u001b[43m(\u001b[49m\u001b[43mx_test\u001b[49m\u001b[43m,\u001b[49m\u001b[43m \u001b[49m\u001b[43my_test\u001b[49m\u001b[43m)\u001b[49m\u001b[43m)\u001b[49m\n",
      "File \u001b[0;32m~/anaconda3/envs/env2/lib/python3.10/site-packages/keras/src/utils/traceback_utils.py:65\u001b[0m, in \u001b[0;36mfilter_traceback.<locals>.error_handler\u001b[0;34m(*args, **kwargs)\u001b[0m\n\u001b[1;32m     63\u001b[0m filtered_tb \u001b[38;5;241m=\u001b[39m \u001b[38;5;28;01mNone\u001b[39;00m\n\u001b[1;32m     64\u001b[0m \u001b[38;5;28;01mtry\u001b[39;00m:\n\u001b[0;32m---> 65\u001b[0m     \u001b[38;5;28;01mreturn\u001b[39;00m \u001b[43mfn\u001b[49m\u001b[43m(\u001b[49m\u001b[38;5;241;43m*\u001b[39;49m\u001b[43margs\u001b[49m\u001b[43m,\u001b[49m\u001b[43m \u001b[49m\u001b[38;5;241;43m*\u001b[39;49m\u001b[38;5;241;43m*\u001b[39;49m\u001b[43mkwargs\u001b[49m\u001b[43m)\u001b[49m\n\u001b[1;32m     66\u001b[0m \u001b[38;5;28;01mexcept\u001b[39;00m \u001b[38;5;167;01mException\u001b[39;00m \u001b[38;5;28;01mas\u001b[39;00m e:\n\u001b[1;32m     67\u001b[0m     filtered_tb \u001b[38;5;241m=\u001b[39m _process_traceback_frames(e\u001b[38;5;241m.\u001b[39m__traceback__)\n",
      "File \u001b[0;32m~/anaconda3/envs/env2/lib/python3.10/site-packages/keras/src/engine/training.py:1807\u001b[0m, in \u001b[0;36mModel.fit\u001b[0;34m(self, x, y, batch_size, epochs, verbose, callbacks, validation_split, validation_data, shuffle, class_weight, sample_weight, initial_epoch, steps_per_epoch, validation_steps, validation_batch_size, validation_freq, max_queue_size, workers, use_multiprocessing)\u001b[0m\n\u001b[1;32m   1799\u001b[0m \u001b[38;5;28;01mwith\u001b[39;00m tf\u001b[38;5;241m.\u001b[39mprofiler\u001b[38;5;241m.\u001b[39mexperimental\u001b[38;5;241m.\u001b[39mTrace(\n\u001b[1;32m   1800\u001b[0m     \u001b[38;5;124m\"\u001b[39m\u001b[38;5;124mtrain\u001b[39m\u001b[38;5;124m\"\u001b[39m,\n\u001b[1;32m   1801\u001b[0m     epoch_num\u001b[38;5;241m=\u001b[39mepoch,\n\u001b[0;32m   (...)\u001b[0m\n\u001b[1;32m   1804\u001b[0m     _r\u001b[38;5;241m=\u001b[39m\u001b[38;5;241m1\u001b[39m,\n\u001b[1;32m   1805\u001b[0m ):\n\u001b[1;32m   1806\u001b[0m     callbacks\u001b[38;5;241m.\u001b[39mon_train_batch_begin(step)\n\u001b[0;32m-> 1807\u001b[0m     tmp_logs \u001b[38;5;241m=\u001b[39m \u001b[38;5;28;43mself\u001b[39;49m\u001b[38;5;241;43m.\u001b[39;49m\u001b[43mtrain_function\u001b[49m\u001b[43m(\u001b[49m\u001b[43miterator\u001b[49m\u001b[43m)\u001b[49m\n\u001b[1;32m   1808\u001b[0m     \u001b[38;5;28;01mif\u001b[39;00m data_handler\u001b[38;5;241m.\u001b[39mshould_sync:\n\u001b[1;32m   1809\u001b[0m         context\u001b[38;5;241m.\u001b[39masync_wait()\n",
      "File \u001b[0;32m~/anaconda3/envs/env2/lib/python3.10/site-packages/tensorflow/python/util/traceback_utils.py:150\u001b[0m, in \u001b[0;36mfilter_traceback.<locals>.error_handler\u001b[0;34m(*args, **kwargs)\u001b[0m\n\u001b[1;32m    148\u001b[0m filtered_tb \u001b[38;5;241m=\u001b[39m \u001b[38;5;28;01mNone\u001b[39;00m\n\u001b[1;32m    149\u001b[0m \u001b[38;5;28;01mtry\u001b[39;00m:\n\u001b[0;32m--> 150\u001b[0m   \u001b[38;5;28;01mreturn\u001b[39;00m \u001b[43mfn\u001b[49m\u001b[43m(\u001b[49m\u001b[38;5;241;43m*\u001b[39;49m\u001b[43margs\u001b[49m\u001b[43m,\u001b[49m\u001b[43m \u001b[49m\u001b[38;5;241;43m*\u001b[39;49m\u001b[38;5;241;43m*\u001b[39;49m\u001b[43mkwargs\u001b[49m\u001b[43m)\u001b[49m\n\u001b[1;32m    151\u001b[0m \u001b[38;5;28;01mexcept\u001b[39;00m \u001b[38;5;167;01mException\u001b[39;00m \u001b[38;5;28;01mas\u001b[39;00m e:\n\u001b[1;32m    152\u001b[0m   filtered_tb \u001b[38;5;241m=\u001b[39m _process_traceback_frames(e\u001b[38;5;241m.\u001b[39m__traceback__)\n",
      "File \u001b[0;32m~/anaconda3/envs/env2/lib/python3.10/site-packages/tensorflow/python/eager/polymorphic_function/polymorphic_function.py:832\u001b[0m, in \u001b[0;36mFunction.__call__\u001b[0;34m(self, *args, **kwds)\u001b[0m\n\u001b[1;32m    829\u001b[0m compiler \u001b[38;5;241m=\u001b[39m \u001b[38;5;124m\"\u001b[39m\u001b[38;5;124mxla\u001b[39m\u001b[38;5;124m\"\u001b[39m \u001b[38;5;28;01mif\u001b[39;00m \u001b[38;5;28mself\u001b[39m\u001b[38;5;241m.\u001b[39m_jit_compile \u001b[38;5;28;01melse\u001b[39;00m \u001b[38;5;124m\"\u001b[39m\u001b[38;5;124mnonXla\u001b[39m\u001b[38;5;124m\"\u001b[39m\n\u001b[1;32m    831\u001b[0m \u001b[38;5;28;01mwith\u001b[39;00m OptionalXlaContext(\u001b[38;5;28mself\u001b[39m\u001b[38;5;241m.\u001b[39m_jit_compile):\n\u001b[0;32m--> 832\u001b[0m   result \u001b[38;5;241m=\u001b[39m \u001b[38;5;28;43mself\u001b[39;49m\u001b[38;5;241;43m.\u001b[39;49m\u001b[43m_call\u001b[49m\u001b[43m(\u001b[49m\u001b[38;5;241;43m*\u001b[39;49m\u001b[43margs\u001b[49m\u001b[43m,\u001b[49m\u001b[43m \u001b[49m\u001b[38;5;241;43m*\u001b[39;49m\u001b[38;5;241;43m*\u001b[39;49m\u001b[43mkwds\u001b[49m\u001b[43m)\u001b[49m\n\u001b[1;32m    834\u001b[0m new_tracing_count \u001b[38;5;241m=\u001b[39m \u001b[38;5;28mself\u001b[39m\u001b[38;5;241m.\u001b[39mexperimental_get_tracing_count()\n\u001b[1;32m    835\u001b[0m without_tracing \u001b[38;5;241m=\u001b[39m (tracing_count \u001b[38;5;241m==\u001b[39m new_tracing_count)\n",
      "File \u001b[0;32m~/anaconda3/envs/env2/lib/python3.10/site-packages/tensorflow/python/eager/polymorphic_function/polymorphic_function.py:868\u001b[0m, in \u001b[0;36mFunction._call\u001b[0;34m(self, *args, **kwds)\u001b[0m\n\u001b[1;32m    865\u001b[0m   \u001b[38;5;28mself\u001b[39m\u001b[38;5;241m.\u001b[39m_lock\u001b[38;5;241m.\u001b[39mrelease()\n\u001b[1;32m    866\u001b[0m   \u001b[38;5;66;03m# In this case we have created variables on the first call, so we run the\u001b[39;00m\n\u001b[1;32m    867\u001b[0m   \u001b[38;5;66;03m# defunned version which is guaranteed to never create variables.\u001b[39;00m\n\u001b[0;32m--> 868\u001b[0m   \u001b[38;5;28;01mreturn\u001b[39;00m \u001b[43mtracing_compilation\u001b[49m\u001b[38;5;241;43m.\u001b[39;49m\u001b[43mcall_function\u001b[49m\u001b[43m(\u001b[49m\n\u001b[1;32m    869\u001b[0m \u001b[43m      \u001b[49m\u001b[43margs\u001b[49m\u001b[43m,\u001b[49m\u001b[43m \u001b[49m\u001b[43mkwds\u001b[49m\u001b[43m,\u001b[49m\u001b[43m \u001b[49m\u001b[38;5;28;43mself\u001b[39;49m\u001b[38;5;241;43m.\u001b[39;49m\u001b[43m_no_variable_creation_config\u001b[49m\n\u001b[1;32m    870\u001b[0m \u001b[43m  \u001b[49m\u001b[43m)\u001b[49m\n\u001b[1;32m    871\u001b[0m \u001b[38;5;28;01melif\u001b[39;00m \u001b[38;5;28mself\u001b[39m\u001b[38;5;241m.\u001b[39m_variable_creation_config \u001b[38;5;129;01mis\u001b[39;00m \u001b[38;5;129;01mnot\u001b[39;00m \u001b[38;5;28;01mNone\u001b[39;00m:\n\u001b[1;32m    872\u001b[0m   \u001b[38;5;66;03m# Release the lock early so that multiple threads can perform the call\u001b[39;00m\n\u001b[1;32m    873\u001b[0m   \u001b[38;5;66;03m# in parallel.\u001b[39;00m\n\u001b[1;32m    874\u001b[0m   \u001b[38;5;28mself\u001b[39m\u001b[38;5;241m.\u001b[39m_lock\u001b[38;5;241m.\u001b[39mrelease()\n",
      "File \u001b[0;32m~/anaconda3/envs/env2/lib/python3.10/site-packages/tensorflow/python/eager/polymorphic_function/tracing_compilation.py:139\u001b[0m, in \u001b[0;36mcall_function\u001b[0;34m(args, kwargs, tracing_options)\u001b[0m\n\u001b[1;32m    137\u001b[0m bound_args \u001b[38;5;241m=\u001b[39m function\u001b[38;5;241m.\u001b[39mfunction_type\u001b[38;5;241m.\u001b[39mbind(\u001b[38;5;241m*\u001b[39margs, \u001b[38;5;241m*\u001b[39m\u001b[38;5;241m*\u001b[39mkwargs)\n\u001b[1;32m    138\u001b[0m flat_inputs \u001b[38;5;241m=\u001b[39m function\u001b[38;5;241m.\u001b[39mfunction_type\u001b[38;5;241m.\u001b[39munpack_inputs(bound_args)\n\u001b[0;32m--> 139\u001b[0m \u001b[38;5;28;01mreturn\u001b[39;00m \u001b[43mfunction\u001b[49m\u001b[38;5;241;43m.\u001b[39;49m\u001b[43m_call_flat\u001b[49m\u001b[43m(\u001b[49m\u001b[43m  \u001b[49m\u001b[38;5;66;43;03m# pylint: disable=protected-access\u001b[39;49;00m\n\u001b[1;32m    140\u001b[0m \u001b[43m    \u001b[49m\u001b[43mflat_inputs\u001b[49m\u001b[43m,\u001b[49m\u001b[43m \u001b[49m\u001b[43mcaptured_inputs\u001b[49m\u001b[38;5;241;43m=\u001b[39;49m\u001b[43mfunction\u001b[49m\u001b[38;5;241;43m.\u001b[39;49m\u001b[43mcaptured_inputs\u001b[49m\n\u001b[1;32m    141\u001b[0m \u001b[43m\u001b[49m\u001b[43m)\u001b[49m\n",
      "File \u001b[0;32m~/anaconda3/envs/env2/lib/python3.10/site-packages/tensorflow/python/eager/polymorphic_function/concrete_function.py:1323\u001b[0m, in \u001b[0;36mConcreteFunction._call_flat\u001b[0;34m(self, tensor_inputs, captured_inputs)\u001b[0m\n\u001b[1;32m   1319\u001b[0m possible_gradient_type \u001b[38;5;241m=\u001b[39m gradients_util\u001b[38;5;241m.\u001b[39mPossibleTapeGradientTypes(args)\n\u001b[1;32m   1320\u001b[0m \u001b[38;5;28;01mif\u001b[39;00m (possible_gradient_type \u001b[38;5;241m==\u001b[39m gradients_util\u001b[38;5;241m.\u001b[39mPOSSIBLE_GRADIENT_TYPES_NONE\n\u001b[1;32m   1321\u001b[0m     \u001b[38;5;129;01mand\u001b[39;00m executing_eagerly):\n\u001b[1;32m   1322\u001b[0m   \u001b[38;5;66;03m# No tape is watching; skip to running the function.\u001b[39;00m\n\u001b[0;32m-> 1323\u001b[0m   \u001b[38;5;28;01mreturn\u001b[39;00m \u001b[38;5;28;43mself\u001b[39;49m\u001b[38;5;241;43m.\u001b[39;49m\u001b[43m_inference_function\u001b[49m\u001b[38;5;241;43m.\u001b[39;49m\u001b[43mcall_preflattened\u001b[49m\u001b[43m(\u001b[49m\u001b[43margs\u001b[49m\u001b[43m)\u001b[49m\n\u001b[1;32m   1324\u001b[0m forward_backward \u001b[38;5;241m=\u001b[39m \u001b[38;5;28mself\u001b[39m\u001b[38;5;241m.\u001b[39m_select_forward_and_backward_functions(\n\u001b[1;32m   1325\u001b[0m     args,\n\u001b[1;32m   1326\u001b[0m     possible_gradient_type,\n\u001b[1;32m   1327\u001b[0m     executing_eagerly)\n\u001b[1;32m   1328\u001b[0m forward_function, args_with_tangents \u001b[38;5;241m=\u001b[39m forward_backward\u001b[38;5;241m.\u001b[39mforward()\n",
      "File \u001b[0;32m~/anaconda3/envs/env2/lib/python3.10/site-packages/tensorflow/python/eager/polymorphic_function/atomic_function.py:216\u001b[0m, in \u001b[0;36mAtomicFunction.call_preflattened\u001b[0;34m(self, args)\u001b[0m\n\u001b[1;32m    214\u001b[0m \u001b[38;5;28;01mdef\u001b[39;00m \u001b[38;5;21mcall_preflattened\u001b[39m(\u001b[38;5;28mself\u001b[39m, args: Sequence[core\u001b[38;5;241m.\u001b[39mTensor]) \u001b[38;5;241m-\u001b[39m\u001b[38;5;241m>\u001b[39m Any:\n\u001b[1;32m    215\u001b[0m \u001b[38;5;250m  \u001b[39m\u001b[38;5;124;03m\"\"\"Calls with flattened tensor inputs and returns the structured output.\"\"\"\u001b[39;00m\n\u001b[0;32m--> 216\u001b[0m   flat_outputs \u001b[38;5;241m=\u001b[39m \u001b[38;5;28;43mself\u001b[39;49m\u001b[38;5;241;43m.\u001b[39;49m\u001b[43mcall_flat\u001b[49m\u001b[43m(\u001b[49m\u001b[38;5;241;43m*\u001b[39;49m\u001b[43margs\u001b[49m\u001b[43m)\u001b[49m\n\u001b[1;32m    217\u001b[0m   \u001b[38;5;28;01mreturn\u001b[39;00m \u001b[38;5;28mself\u001b[39m\u001b[38;5;241m.\u001b[39mfunction_type\u001b[38;5;241m.\u001b[39mpack_output(flat_outputs)\n",
      "File \u001b[0;32m~/anaconda3/envs/env2/lib/python3.10/site-packages/tensorflow/python/eager/polymorphic_function/atomic_function.py:251\u001b[0m, in \u001b[0;36mAtomicFunction.call_flat\u001b[0;34m(self, *args)\u001b[0m\n\u001b[1;32m    249\u001b[0m \u001b[38;5;28;01mwith\u001b[39;00m record\u001b[38;5;241m.\u001b[39mstop_recording():\n\u001b[1;32m    250\u001b[0m   \u001b[38;5;28;01mif\u001b[39;00m \u001b[38;5;28mself\u001b[39m\u001b[38;5;241m.\u001b[39m_bound_context\u001b[38;5;241m.\u001b[39mexecuting_eagerly():\n\u001b[0;32m--> 251\u001b[0m     outputs \u001b[38;5;241m=\u001b[39m \u001b[38;5;28;43mself\u001b[39;49m\u001b[38;5;241;43m.\u001b[39;49m\u001b[43m_bound_context\u001b[49m\u001b[38;5;241;43m.\u001b[39;49m\u001b[43mcall_function\u001b[49m\u001b[43m(\u001b[49m\n\u001b[1;32m    252\u001b[0m \u001b[43m        \u001b[49m\u001b[38;5;28;43mself\u001b[39;49m\u001b[38;5;241;43m.\u001b[39;49m\u001b[43mname\u001b[49m\u001b[43m,\u001b[49m\n\u001b[1;32m    253\u001b[0m \u001b[43m        \u001b[49m\u001b[38;5;28;43mlist\u001b[39;49m\u001b[43m(\u001b[49m\u001b[43margs\u001b[49m\u001b[43m)\u001b[49m\u001b[43m,\u001b[49m\n\u001b[1;32m    254\u001b[0m \u001b[43m        \u001b[49m\u001b[38;5;28;43mlen\u001b[39;49m\u001b[43m(\u001b[49m\u001b[38;5;28;43mself\u001b[39;49m\u001b[38;5;241;43m.\u001b[39;49m\u001b[43mfunction_type\u001b[49m\u001b[38;5;241;43m.\u001b[39;49m\u001b[43mflat_outputs\u001b[49m\u001b[43m)\u001b[49m\u001b[43m,\u001b[49m\n\u001b[1;32m    255\u001b[0m \u001b[43m    \u001b[49m\u001b[43m)\u001b[49m\n\u001b[1;32m    256\u001b[0m   \u001b[38;5;28;01melse\u001b[39;00m:\n\u001b[1;32m    257\u001b[0m     outputs \u001b[38;5;241m=\u001b[39m make_call_op_in_graph(\n\u001b[1;32m    258\u001b[0m         \u001b[38;5;28mself\u001b[39m,\n\u001b[1;32m    259\u001b[0m         \u001b[38;5;28mlist\u001b[39m(args),\n\u001b[1;32m    260\u001b[0m         \u001b[38;5;28mself\u001b[39m\u001b[38;5;241m.\u001b[39m_bound_context\u001b[38;5;241m.\u001b[39mfunction_call_options\u001b[38;5;241m.\u001b[39mas_attrs(),\n\u001b[1;32m    261\u001b[0m     )\n",
      "File \u001b[0;32m~/anaconda3/envs/env2/lib/python3.10/site-packages/tensorflow/python/eager/context.py:1486\u001b[0m, in \u001b[0;36mContext.call_function\u001b[0;34m(self, name, tensor_inputs, num_outputs)\u001b[0m\n\u001b[1;32m   1484\u001b[0m cancellation_context \u001b[38;5;241m=\u001b[39m cancellation\u001b[38;5;241m.\u001b[39mcontext()\n\u001b[1;32m   1485\u001b[0m \u001b[38;5;28;01mif\u001b[39;00m cancellation_context \u001b[38;5;129;01mis\u001b[39;00m \u001b[38;5;28;01mNone\u001b[39;00m:\n\u001b[0;32m-> 1486\u001b[0m   outputs \u001b[38;5;241m=\u001b[39m \u001b[43mexecute\u001b[49m\u001b[38;5;241;43m.\u001b[39;49m\u001b[43mexecute\u001b[49m\u001b[43m(\u001b[49m\n\u001b[1;32m   1487\u001b[0m \u001b[43m      \u001b[49m\u001b[43mname\u001b[49m\u001b[38;5;241;43m.\u001b[39;49m\u001b[43mdecode\u001b[49m\u001b[43m(\u001b[49m\u001b[38;5;124;43m\"\u001b[39;49m\u001b[38;5;124;43mutf-8\u001b[39;49m\u001b[38;5;124;43m\"\u001b[39;49m\u001b[43m)\u001b[49m\u001b[43m,\u001b[49m\n\u001b[1;32m   1488\u001b[0m \u001b[43m      \u001b[49m\u001b[43mnum_outputs\u001b[49m\u001b[38;5;241;43m=\u001b[39;49m\u001b[43mnum_outputs\u001b[49m\u001b[43m,\u001b[49m\n\u001b[1;32m   1489\u001b[0m \u001b[43m      \u001b[49m\u001b[43minputs\u001b[49m\u001b[38;5;241;43m=\u001b[39;49m\u001b[43mtensor_inputs\u001b[49m\u001b[43m,\u001b[49m\n\u001b[1;32m   1490\u001b[0m \u001b[43m      \u001b[49m\u001b[43mattrs\u001b[49m\u001b[38;5;241;43m=\u001b[39;49m\u001b[43mattrs\u001b[49m\u001b[43m,\u001b[49m\n\u001b[1;32m   1491\u001b[0m \u001b[43m      \u001b[49m\u001b[43mctx\u001b[49m\u001b[38;5;241;43m=\u001b[39;49m\u001b[38;5;28;43mself\u001b[39;49m\u001b[43m,\u001b[49m\n\u001b[1;32m   1492\u001b[0m \u001b[43m  \u001b[49m\u001b[43m)\u001b[49m\n\u001b[1;32m   1493\u001b[0m \u001b[38;5;28;01melse\u001b[39;00m:\n\u001b[1;32m   1494\u001b[0m   outputs \u001b[38;5;241m=\u001b[39m execute\u001b[38;5;241m.\u001b[39mexecute_with_cancellation(\n\u001b[1;32m   1495\u001b[0m       name\u001b[38;5;241m.\u001b[39mdecode(\u001b[38;5;124m\"\u001b[39m\u001b[38;5;124mutf-8\u001b[39m\u001b[38;5;124m\"\u001b[39m),\n\u001b[1;32m   1496\u001b[0m       num_outputs\u001b[38;5;241m=\u001b[39mnum_outputs,\n\u001b[0;32m   (...)\u001b[0m\n\u001b[1;32m   1500\u001b[0m       cancellation_manager\u001b[38;5;241m=\u001b[39mcancellation_context,\n\u001b[1;32m   1501\u001b[0m   )\n",
      "File \u001b[0;32m~/anaconda3/envs/env2/lib/python3.10/site-packages/tensorflow/python/eager/execute.py:53\u001b[0m, in \u001b[0;36mquick_execute\u001b[0;34m(op_name, num_outputs, inputs, attrs, ctx, name)\u001b[0m\n\u001b[1;32m     51\u001b[0m \u001b[38;5;28;01mtry\u001b[39;00m:\n\u001b[1;32m     52\u001b[0m   ctx\u001b[38;5;241m.\u001b[39mensure_initialized()\n\u001b[0;32m---> 53\u001b[0m   tensors \u001b[38;5;241m=\u001b[39m \u001b[43mpywrap_tfe\u001b[49m\u001b[38;5;241;43m.\u001b[39;49m\u001b[43mTFE_Py_Execute\u001b[49m\u001b[43m(\u001b[49m\u001b[43mctx\u001b[49m\u001b[38;5;241;43m.\u001b[39;49m\u001b[43m_handle\u001b[49m\u001b[43m,\u001b[49m\u001b[43m \u001b[49m\u001b[43mdevice_name\u001b[49m\u001b[43m,\u001b[49m\u001b[43m \u001b[49m\u001b[43mop_name\u001b[49m\u001b[43m,\u001b[49m\n\u001b[1;32m     54\u001b[0m \u001b[43m                                      \u001b[49m\u001b[43minputs\u001b[49m\u001b[43m,\u001b[49m\u001b[43m \u001b[49m\u001b[43mattrs\u001b[49m\u001b[43m,\u001b[49m\u001b[43m \u001b[49m\u001b[43mnum_outputs\u001b[49m\u001b[43m)\u001b[49m\n\u001b[1;32m     55\u001b[0m \u001b[38;5;28;01mexcept\u001b[39;00m core\u001b[38;5;241m.\u001b[39m_NotOkStatusException \u001b[38;5;28;01mas\u001b[39;00m e:\n\u001b[1;32m     56\u001b[0m   \u001b[38;5;28;01mif\u001b[39;00m name \u001b[38;5;129;01mis\u001b[39;00m \u001b[38;5;129;01mnot\u001b[39;00m \u001b[38;5;28;01mNone\u001b[39;00m:\n",
      "\u001b[0;31mKeyboardInterrupt\u001b[0m: "
     ]
    }
   ],
   "source": [
    "# Compile the model (adjust loss and metrics based on your task)\n",
    "model.compile(optimizer='adam', loss='sparse_categorical_crossentropy', metrics=['accuracy'])\n",
    "\n",
    "# Train the model\n",
    "model.fit(x_train, y_train, epochs=10, batch_size=32, verbose= 1,validation_data=(x_test, y_test))"
   ]
  },
  {
   "cell_type": "code",
   "execution_count": 3,
   "id": "0850cfb1-c656-4f97-8895-8b13c9d58b7c",
   "metadata": {},
   "outputs": [],
   "source": []
  },
  {
   "cell_type": "code",
   "execution_count": null,
   "id": "650126be-bf5d-4ff4-aa8b-18d06d440230",
   "metadata": {},
   "outputs": [],
   "source": []
  },
  {
   "cell_type": "code",
   "execution_count": 1,
   "id": "311a87ba-2d3d-4771-835b-2598dfc2de96",
   "metadata": {},
   "outputs": [],
   "source": []
  },
  {
   "cell_type": "code",
   "execution_count": 21,
   "id": "99a07c4b-5472-4bfd-adc1-861da5e9c5a1",
   "metadata": {},
   "outputs": [],
   "source": [
    "from sklearn.datasets import make_multilabel_classification\n",
    "X, y = make_multilabel_classification(n_samples=1000, n_features=10, n_classes=3, n_labels=2, random_state=1)"
   ]
  },
  {
   "cell_type": "code",
   "execution_count": 27,
   "id": "5472e9dd-ed64-4702-b99d-775606e3efa1",
   "metadata": {},
   "outputs": [
    {
     "data": {
      "text/plain": [
       "array([1, 1, 0])"
      ]
     },
     "execution_count": 27,
     "metadata": {},
     "output_type": "execute_result"
    }
   ],
   "source": [
    "y[0]"
   ]
  },
  {
   "cell_type": "code",
   "execution_count": null,
   "id": "81c834cb-2b62-4fb1-b565-2003a354d54c",
   "metadata": {},
   "outputs": [],
   "source": []
  },
  {
   "cell_type": "code",
   "execution_count": null,
   "id": "a23cdfca-486c-4033-80cf-95e8cee58338",
   "metadata": {},
   "outputs": [],
   "source": []
  }
 ],
 "metadata": {
  "kernelspec": {
   "display_name": "Python [conda env:env2]",
   "language": "python",
   "name": "conda-env-env2-py"
  },
  "language_info": {
   "codemirror_mode": {
    "name": "ipython",
    "version": 3
   },
   "file_extension": ".py",
   "mimetype": "text/x-python",
   "name": "python",
   "nbconvert_exporter": "python",
   "pygments_lexer": "ipython3",
   "version": "3.10.13"
  }
 },
 "nbformat": 4,
 "nbformat_minor": 5
}

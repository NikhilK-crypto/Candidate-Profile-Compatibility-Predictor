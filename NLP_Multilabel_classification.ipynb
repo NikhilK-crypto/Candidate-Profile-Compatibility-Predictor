{
 "cells": [
  {
   "cell_type": "code",
   "execution_count": 1,
   "id": "7db79222-22d8-42ce-8e72-5b6eb8712128",
   "metadata": {},
   "outputs": [],
   "source": [
    "import pandas as pd \n",
    "import numpy as np \n",
    "import spacy\n",
    "import os \n",
    "import seaborn as sns \n",
    "import matplotlib.pyplot as plt \n",
    "import h5py\n",
    "\n",
    "\n",
    "from sklearn.model_selection import train_test_split\n",
    "from sklearn.preprocessing import LabelEncoder, OneHotEncoder\n",
    "from sklearn.metrics import classification_report, confusion_matrix"
   ]
  },
  {
   "cell_type": "code",
   "execution_count": 2,
   "id": "f1b9c6dd-f92e-451b-b2df-dc37129239ee",
   "metadata": {},
   "outputs": [],
   "source": [
    "import re \n",
    "from nltk.corpus import stopwords\n",
    "from nltk.tokenize import word_tokenize\n",
    "from nltk.stem import WordNetLemmatizer\n",
    "import spacy\n",
    "import fasttext"
   ]
  },
  {
   "cell_type": "markdown",
   "id": "b905d977-7e6f-4df8-80d2-c2027cbd34f0",
   "metadata": {},
   "source": [
    "# Data analysis and manupilation"
   ]
  },
  {
   "cell_type": "code",
   "execution_count": 3,
   "id": "178b03ba-69a4-4039-85e3-52c82b208431",
   "metadata": {},
   "outputs": [
    {
     "data": {
      "text/html": [
       "<div>\n",
       "<style scoped>\n",
       "    .dataframe tbody tr th:only-of-type {\n",
       "        vertical-align: middle;\n",
       "    }\n",
       "\n",
       "    .dataframe tbody tr th {\n",
       "        vertical-align: top;\n",
       "    }\n",
       "\n",
       "    .dataframe thead th {\n",
       "        text-align: right;\n",
       "    }\n",
       "</style>\n",
       "<table border=\"1\" class=\"dataframe\">\n",
       "  <thead>\n",
       "    <tr style=\"text-align: right;\">\n",
       "      <th></th>\n",
       "      <th>txt</th>\n",
       "      <th>lab</th>\n",
       "      <th>cleaned_lab</th>\n",
       "    </tr>\n",
       "  </thead>\n",
       "  <tbody>\n",
       "    <tr>\n",
       "      <th>0</th>\n",
       "      <td>Database Administrator &lt;span class=\"hl\"&gt;Databa...</td>\n",
       "      <td>Database_Administrator</td>\n",
       "      <td>[Database_Administrator]</td>\n",
       "    </tr>\n",
       "    <tr>\n",
       "      <th>1</th>\n",
       "      <td>Database Administrator &lt;span class=\"hl\"&gt;Databa...</td>\n",
       "      <td>Database_Administrator</td>\n",
       "      <td>[Database_Administrator]</td>\n",
       "    </tr>\n",
       "    <tr>\n",
       "      <th>2</th>\n",
       "      <td>Oracle Database Administrator Oracle &lt;span cla...</td>\n",
       "      <td>Database_Administrator</td>\n",
       "      <td>[Database_Administrator]</td>\n",
       "    </tr>\n",
       "    <tr>\n",
       "      <th>3</th>\n",
       "      <td>Amazon Redshift Administrator and ETL Develope...</td>\n",
       "      <td>Database_Administrator</td>\n",
       "      <td>[Database_Administrator]</td>\n",
       "    </tr>\n",
       "    <tr>\n",
       "      <th>4</th>\n",
       "      <td>Scrum Master Scrum Master Scrum Master Richmon...</td>\n",
       "      <td>Database_Administrator</td>\n",
       "      <td>[Database_Administrator]</td>\n",
       "    </tr>\n",
       "  </tbody>\n",
       "</table>\n",
       "</div>"
      ],
      "text/plain": [
       "                                                 txt                     lab  \\\n",
       "0  Database Administrator <span class=\"hl\">Databa...  Database_Administrator   \n",
       "1  Database Administrator <span class=\"hl\">Databa...  Database_Administrator   \n",
       "2  Oracle Database Administrator Oracle <span cla...  Database_Administrator   \n",
       "3  Amazon Redshift Administrator and ETL Develope...  Database_Administrator   \n",
       "4  Scrum Master Scrum Master Scrum Master Richmon...  Database_Administrator   \n",
       "\n",
       "                cleaned_lab  \n",
       "0  [Database_Administrator]  \n",
       "1  [Database_Administrator]  \n",
       "2  [Database_Administrator]  \n",
       "3  [Database_Administrator]  \n",
       "4  [Database_Administrator]  "
      ]
     },
     "execution_count": 3,
     "metadata": {},
     "output_type": "execute_result"
    }
   ],
   "source": [
    "df = pd.read_csv('resume_df')\n",
    "df = df[['txt','lab']]\n",
    "df['cleaned_lab'] = df['lab'].str.split(' ,')\n",
    "df.head()"
   ]
  },
  {
   "cell_type": "code",
   "execution_count": 4,
   "id": "0619fda3-3f00-4556-aaa0-717f9be3edda",
   "metadata": {},
   "outputs": [
    {
     "name": "stdout",
     "output_type": "stream",
     "text": [
      "{'Database_Administrator': 0, 'Software_Developer': 1, 'Systems_Administrator': 2, 'Project_manager': 3, 'Security_Analyst': 4, 'Web_Developer': 5, 'Network_Administrator': 6, 'Front_End_Developer': 7, 'Java_Developer': 8, 'Python_Developer': 9}\n"
     ]
    }
   ],
   "source": [
    "## to get all the unique labels present in Dataframe\n",
    "unique_labels = []\n",
    "for row in df['cleaned_lab']:\n",
    "    for label in row:\n",
    "        if label not in unique_labels:\n",
    "            unique_labels.append(label)\n",
    "\n",
    "\n",
    "\n",
    "## mapping each label to a integer\n",
    "label_mapping = {}\n",
    "for indx,label in enumerate(unique_labels):\n",
    "    label_mapping[label] = indx\n",
    "\n",
    "print(label_mapping)\n",
    "\n",
    "\n",
    "\n",
    "# onehotencoding of the output features\n",
    "def map_label(label_list):\n",
    "    label_encoded = np.array([label_mapping[label] for label in label_list])\n",
    "    label_vector = np.zeros(shape=(10), dtype = 'int8')\n",
    "    \n",
    "    for label in label_encoded:\n",
    "        label_vector[label] = 1\n",
    "        \n",
    "    return label_vector"
   ]
  },
  {
   "cell_type": "code",
   "execution_count": 5,
   "id": "505a5d2e-6b0f-4a8d-ade5-a11e113d7f0f",
   "metadata": {
    "scrolled": true
   },
   "outputs": [
    {
     "data": {
      "text/html": [
       "<div>\n",
       "<style scoped>\n",
       "    .dataframe tbody tr th:only-of-type {\n",
       "        vertical-align: middle;\n",
       "    }\n",
       "\n",
       "    .dataframe tbody tr th {\n",
       "        vertical-align: top;\n",
       "    }\n",
       "\n",
       "    .dataframe thead th {\n",
       "        text-align: right;\n",
       "    }\n",
       "</style>\n",
       "<table border=\"1\" class=\"dataframe\">\n",
       "  <thead>\n",
       "    <tr style=\"text-align: right;\">\n",
       "      <th></th>\n",
       "      <th>txt</th>\n",
       "      <th>lab</th>\n",
       "      <th>cleaned_lab</th>\n",
       "    </tr>\n",
       "  </thead>\n",
       "  <tbody>\n",
       "    <tr>\n",
       "      <th>0</th>\n",
       "      <td>Database Administrator &lt;span class=\"hl\"&gt;Databa...</td>\n",
       "      <td>Database_Administrator</td>\n",
       "      <td>[1, 0, 0, 0, 0, 0, 0, 0, 0, 0]</td>\n",
       "    </tr>\n",
       "    <tr>\n",
       "      <th>1</th>\n",
       "      <td>Database Administrator &lt;span class=\"hl\"&gt;Databa...</td>\n",
       "      <td>Database_Administrator</td>\n",
       "      <td>[1, 0, 0, 0, 0, 0, 0, 0, 0, 0]</td>\n",
       "    </tr>\n",
       "    <tr>\n",
       "      <th>2</th>\n",
       "      <td>Oracle Database Administrator Oracle &lt;span cla...</td>\n",
       "      <td>Database_Administrator</td>\n",
       "      <td>[1, 0, 0, 0, 0, 0, 0, 0, 0, 0]</td>\n",
       "    </tr>\n",
       "    <tr>\n",
       "      <th>3</th>\n",
       "      <td>Amazon Redshift Administrator and ETL Develope...</td>\n",
       "      <td>Database_Administrator</td>\n",
       "      <td>[1, 0, 0, 0, 0, 0, 0, 0, 0, 0]</td>\n",
       "    </tr>\n",
       "    <tr>\n",
       "      <th>4</th>\n",
       "      <td>Scrum Master Scrum Master Scrum Master Richmon...</td>\n",
       "      <td>Database_Administrator</td>\n",
       "      <td>[1, 0, 0, 0, 0, 0, 0, 0, 0, 0]</td>\n",
       "    </tr>\n",
       "  </tbody>\n",
       "</table>\n",
       "</div>"
      ],
      "text/plain": [
       "                                                 txt                     lab  \\\n",
       "0  Database Administrator <span class=\"hl\">Databa...  Database_Administrator   \n",
       "1  Database Administrator <span class=\"hl\">Databa...  Database_Administrator   \n",
       "2  Oracle Database Administrator Oracle <span cla...  Database_Administrator   \n",
       "3  Amazon Redshift Administrator and ETL Develope...  Database_Administrator   \n",
       "4  Scrum Master Scrum Master Scrum Master Richmon...  Database_Administrator   \n",
       "\n",
       "                      cleaned_lab  \n",
       "0  [1, 0, 0, 0, 0, 0, 0, 0, 0, 0]  \n",
       "1  [1, 0, 0, 0, 0, 0, 0, 0, 0, 0]  \n",
       "2  [1, 0, 0, 0, 0, 0, 0, 0, 0, 0]  \n",
       "3  [1, 0, 0, 0, 0, 0, 0, 0, 0, 0]  \n",
       "4  [1, 0, 0, 0, 0, 0, 0, 0, 0, 0]  "
      ]
     },
     "execution_count": 5,
     "metadata": {},
     "output_type": "execute_result"
    }
   ],
   "source": [
    "df['cleaned_lab'] = df['cleaned_lab'].apply(map_label)\n",
    "df.head()"
   ]
  },
  {
   "cell_type": "code",
   "execution_count": 6,
   "id": "5d6eecaf-5e9b-44d9-abd8-b45551b1fcd5",
   "metadata": {},
   "outputs": [
    {
     "data": {
      "text/html": [
       "<div>\n",
       "<style scoped>\n",
       "    .dataframe tbody tr th:only-of-type {\n",
       "        vertical-align: middle;\n",
       "    }\n",
       "\n",
       "    .dataframe tbody tr th {\n",
       "        vertical-align: top;\n",
       "    }\n",
       "\n",
       "    .dataframe thead th {\n",
       "        text-align: right;\n",
       "    }\n",
       "</style>\n",
       "<table border=\"1\" class=\"dataframe\">\n",
       "  <thead>\n",
       "    <tr style=\"text-align: right;\">\n",
       "      <th></th>\n",
       "      <th>txt</th>\n",
       "      <th>lab</th>\n",
       "      <th>cleaned_lab</th>\n",
       "    </tr>\n",
       "  </thead>\n",
       "  <tbody>\n",
       "    <tr>\n",
       "      <th>0</th>\n",
       "      <td>Database Administrator &lt;span class=\"hl\"&gt;Databa...</td>\n",
       "      <td>Database_Administrator</td>\n",
       "      <td>[1, 0, 0, 0, 0, 0, 0, 0, 0, 0]</td>\n",
       "    </tr>\n",
       "    <tr>\n",
       "      <th>1</th>\n",
       "      <td>Database Administrator &lt;span class=\"hl\"&gt;Databa...</td>\n",
       "      <td>Database_Administrator</td>\n",
       "      <td>[1, 0, 0, 0, 0, 0, 0, 0, 0, 0]</td>\n",
       "    </tr>\n",
       "    <tr>\n",
       "      <th>2</th>\n",
       "      <td>Oracle Database Administrator Oracle &lt;span cla...</td>\n",
       "      <td>Database_Administrator</td>\n",
       "      <td>[1, 0, 0, 0, 0, 0, 0, 0, 0, 0]</td>\n",
       "    </tr>\n",
       "    <tr>\n",
       "      <th>3</th>\n",
       "      <td>Amazon Redshift Administrator and ETL Develope...</td>\n",
       "      <td>Database_Administrator</td>\n",
       "      <td>[1, 0, 0, 0, 0, 0, 0, 0, 0, 0]</td>\n",
       "    </tr>\n",
       "    <tr>\n",
       "      <th>4</th>\n",
       "      <td>Scrum Master Scrum Master Scrum Master Richmon...</td>\n",
       "      <td>Database_Administrator</td>\n",
       "      <td>[1, 0, 0, 0, 0, 0, 0, 0, 0, 0]</td>\n",
       "    </tr>\n",
       "    <tr>\n",
       "      <th>...</th>\n",
       "      <td>...</td>\n",
       "      <td>...</td>\n",
       "      <td>...</td>\n",
       "    </tr>\n",
       "    <tr>\n",
       "      <th>29030</th>\n",
       "      <td>ServiceNow Developer ServiceNow &lt;span class=\"h...</td>\n",
       "      <td>Java_Developer ,Web_Developer ,Software_Developer</td>\n",
       "      <td>[0, 1, 0, 0, 0, 1, 0, 0, 1, 0]</td>\n",
       "    </tr>\n",
       "    <tr>\n",
       "      <th>29031</th>\n",
       "      <td>Android Developer Android &lt;span class=\"hl\"&gt;Dev...</td>\n",
       "      <td>Web_Developer ,Software_Developer</td>\n",
       "      <td>[0, 1, 0, 0, 0, 1, 0, 0, 0, 0]</td>\n",
       "    </tr>\n",
       "    <tr>\n",
       "      <th>29032</th>\n",
       "      <td>UI Developer UI &lt;span class=\"hl\"&gt;Developer&lt;/sp...</td>\n",
       "      <td>Software_Developer ,Front_End_Developer ,Web_D...</td>\n",
       "      <td>[0, 1, 0, 0, 0, 1, 0, 1, 0, 0]</td>\n",
       "    </tr>\n",
       "    <tr>\n",
       "      <th>29033</th>\n",
       "      <td>Web Developer &lt;span class=\"hl\"&gt;Web&lt;/span&gt; &lt;spa...</td>\n",
       "      <td>Web_Developer ,Software_Developer</td>\n",
       "      <td>[0, 1, 0, 0, 0, 1, 0, 0, 0, 0]</td>\n",
       "    </tr>\n",
       "    <tr>\n",
       "      <th>29034</th>\n",
       "      <td>Sr. Software Engineer Sr. Software Engineer Sr...</td>\n",
       "      <td>Software_Developer ,Web_Developer</td>\n",
       "      <td>[0, 1, 0, 0, 0, 1, 0, 0, 0, 0]</td>\n",
       "    </tr>\n",
       "  </tbody>\n",
       "</table>\n",
       "<p>29035 rows × 3 columns</p>\n",
       "</div>"
      ],
      "text/plain": [
       "                                                     txt  \\\n",
       "0      Database Administrator <span class=\"hl\">Databa...   \n",
       "1      Database Administrator <span class=\"hl\">Databa...   \n",
       "2      Oracle Database Administrator Oracle <span cla...   \n",
       "3      Amazon Redshift Administrator and ETL Develope...   \n",
       "4      Scrum Master Scrum Master Scrum Master Richmon...   \n",
       "...                                                  ...   \n",
       "29030  ServiceNow Developer ServiceNow <span class=\"h...   \n",
       "29031  Android Developer Android <span class=\"hl\">Dev...   \n",
       "29032  UI Developer UI <span class=\"hl\">Developer</sp...   \n",
       "29033  Web Developer <span class=\"hl\">Web</span> <spa...   \n",
       "29034  Sr. Software Engineer Sr. Software Engineer Sr...   \n",
       "\n",
       "                                                     lab  \\\n",
       "0                                 Database_Administrator   \n",
       "1                                 Database_Administrator   \n",
       "2                                 Database_Administrator   \n",
       "3                                 Database_Administrator   \n",
       "4                                 Database_Administrator   \n",
       "...                                                  ...   \n",
       "29030  Java_Developer ,Web_Developer ,Software_Developer   \n",
       "29031                  Web_Developer ,Software_Developer   \n",
       "29032  Software_Developer ,Front_End_Developer ,Web_D...   \n",
       "29033                  Web_Developer ,Software_Developer   \n",
       "29034                  Software_Developer ,Web_Developer   \n",
       "\n",
       "                          cleaned_lab  \n",
       "0      [1, 0, 0, 0, 0, 0, 0, 0, 0, 0]  \n",
       "1      [1, 0, 0, 0, 0, 0, 0, 0, 0, 0]  \n",
       "2      [1, 0, 0, 0, 0, 0, 0, 0, 0, 0]  \n",
       "3      [1, 0, 0, 0, 0, 0, 0, 0, 0, 0]  \n",
       "4      [1, 0, 0, 0, 0, 0, 0, 0, 0, 0]  \n",
       "...                               ...  \n",
       "29030  [0, 1, 0, 0, 0, 1, 0, 0, 1, 0]  \n",
       "29031  [0, 1, 0, 0, 0, 1, 0, 0, 0, 0]  \n",
       "29032  [0, 1, 0, 0, 0, 1, 0, 1, 0, 0]  \n",
       "29033  [0, 1, 0, 0, 0, 1, 0, 0, 0, 0]  \n",
       "29034  [0, 1, 0, 0, 0, 1, 0, 0, 0, 0]  \n",
       "\n",
       "[29035 rows x 3 columns]"
      ]
     },
     "execution_count": 6,
     "metadata": {},
     "output_type": "execute_result"
    }
   ],
   "source": [
    "df"
   ]
  },
  {
   "cell_type": "code",
   "execution_count": 7,
   "id": "4007f00b-93c9-4db4-9a52-ca9ba32d0767",
   "metadata": {},
   "outputs": [],
   "source": [
    "# check = np.array([0,0,0,0,0,0,0,0,0,0])\n",
    "# for i in range(len(df)):\n",
    "#     if np.array_equal(df['cleaned_lab'][i], check):\n",
    "#         print(i)\n",
    "# # df['cleaned_lab'][0]"
   ]
  },
  {
   "cell_type": "code",
   "execution_count": 8,
   "id": "79bd09c6-c1f9-449e-a12a-c36240c9aa6d",
   "metadata": {},
   "outputs": [],
   "source": [
    "def clean_txt(text):\n",
    "    '''\n",
    "    function to clean the text\n",
    "    -- lowercasing the text, removing email ids and website links, stop words and special characters\n",
    "    -- also it will do lemmi\n",
    "    tization of the words for better accuray of our model. \n",
    "    '''\n",
    "    # Remove sentences that start with '<span' and end with 'span>'\n",
    "    cleaned_text = re.sub(r'<span.*?span>', '', text.strip())\n",
    "\n",
    "    cleaned_text = cleaned_text.lower()# Lowercasing\n",
    "\n",
    "    cleaned_text = re.sub(r'http\\S+|www\\S+|https\\S+', '', cleaned_text, flags=re.MULTILINE)# Removing hyperlinks\n",
    "\n",
    "    cleaned_text = re.sub(r'\\S+@\\S+', '', cleaned_text, flags=re.MULTILINE)# Removing email addresses\n",
    "\n",
    "    # Removing special characters, numbers, and punctuation\n",
    "    cleaned_text = re.sub(r'[^a-zA-Z\\s]', '', cleaned_text)\n",
    "\n",
    "    # Tokenization\n",
    "    tokens = word_tokenize(cleaned_text.strip())\n",
    "\n",
    "    # Removing stop words\n",
    "    stop_words = set(stopwords.words('english'))\n",
    "    tokens = [word for word in tokens if word not in stop_words]\n",
    "\n",
    "    return ' '.join(tokens)"
   ]
  },
  {
   "cell_type": "code",
   "execution_count": 9,
   "id": "2b7dde32-c571-4579-b2e2-d327ca540f23",
   "metadata": {},
   "outputs": [],
   "source": [
    "df['cleaned_txt'] = df['txt'].apply(clean_txt)"
   ]
  },
  {
   "cell_type": "code",
   "execution_count": 15,
   "id": "9dd89530-4261-4bfb-b74e-6a8c0349c5c1",
   "metadata": {
    "scrolled": true
   },
   "outputs": [],
   "source": [
    "# df[['cleaned_txt','lab','cleaned_lab']].to_csv('Cleaned_Resumes_n_lab.csv')"
   ]
  },
  {
   "cell_type": "code",
   "execution_count": 15,
   "id": "b23ff16c-928f-4eff-be30-b5f5339ad9fd",
   "metadata": {},
   "outputs": [
    {
     "data": {
      "text/html": [
       "<div>\n",
       "<style scoped>\n",
       "    .dataframe tbody tr th:only-of-type {\n",
       "        vertical-align: middle;\n",
       "    }\n",
       "\n",
       "    .dataframe tbody tr th {\n",
       "        vertical-align: top;\n",
       "    }\n",
       "\n",
       "    .dataframe thead th {\n",
       "        text-align: right;\n",
       "    }\n",
       "</style>\n",
       "<table border=\"1\" class=\"dataframe\">\n",
       "  <thead>\n",
       "    <tr style=\"text-align: right;\">\n",
       "      <th></th>\n",
       "      <th>txt</th>\n",
       "      <th>lab</th>\n",
       "      <th>cleaned_lab</th>\n",
       "      <th>cleaned_txt</th>\n",
       "    </tr>\n",
       "  </thead>\n",
       "  <tbody>\n",
       "    <tr>\n",
       "      <th>0</th>\n",
       "      <td>Database Administrator &lt;span class=\"hl\"&gt;Databa...</td>\n",
       "      <td>Database_Administrator</td>\n",
       "      <td>[1, 0, 0, 0, 0, 0, 0, 0, 0, 0]</td>\n",
       "      <td>database administrator database administrator ...</td>\n",
       "    </tr>\n",
       "    <tr>\n",
       "      <th>1</th>\n",
       "      <td>Database Administrator &lt;span class=\"hl\"&gt;Databa...</td>\n",
       "      <td>Database_Administrator</td>\n",
       "      <td>[1, 0, 0, 0, 0, 0, 0, 0, 0, 0]</td>\n",
       "      <td>database administrator sql server database adm...</td>\n",
       "    </tr>\n",
       "    <tr>\n",
       "      <th>2</th>\n",
       "      <td>Oracle Database Administrator Oracle &lt;span cla...</td>\n",
       "      <td>Database_Administrator</td>\n",
       "      <td>[1, 0, 0, 0, 0, 0, 0, 0, 0, 0]</td>\n",
       "      <td>oracle database administrator oracle oracle da...</td>\n",
       "    </tr>\n",
       "    <tr>\n",
       "      <th>3</th>\n",
       "      <td>Amazon Redshift Administrator and ETL Develope...</td>\n",
       "      <td>Database_Administrator</td>\n",
       "      <td>[1, 0, 0, 0, 0, 0, 0, 0, 0, 0]</td>\n",
       "      <td>amazon redshift administrator etl developer bu...</td>\n",
       "    </tr>\n",
       "    <tr>\n",
       "      <th>4</th>\n",
       "      <td>Scrum Master Scrum Master Scrum Master Richmon...</td>\n",
       "      <td>Database_Administrator</td>\n",
       "      <td>[1, 0, 0, 0, 0, 0, 0, 0, 0, 0]</td>\n",
       "      <td>scrum master scrum master scrum master richmon...</td>\n",
       "    </tr>\n",
       "    <tr>\n",
       "      <th>...</th>\n",
       "      <td>...</td>\n",
       "      <td>...</td>\n",
       "      <td>...</td>\n",
       "      <td>...</td>\n",
       "    </tr>\n",
       "    <tr>\n",
       "      <th>29030</th>\n",
       "      <td>ServiceNow Developer ServiceNow &lt;span class=\"h...</td>\n",
       "      <td>Java_Developer ,Web_Developer ,Software_Developer</td>\n",
       "      <td>[0, 1, 0, 0, 0, 1, 0, 0, 1, 0]</td>\n",
       "      <td>servicenow developer servicenow servicenow dev...</td>\n",
       "    </tr>\n",
       "    <tr>\n",
       "      <th>29031</th>\n",
       "      <td>Android Developer Android &lt;span class=\"hl\"&gt;Dev...</td>\n",
       "      <td>Web_Developer ,Software_Developer</td>\n",
       "      <td>[0, 1, 0, 0, 0, 1, 0, 0, 0, 0]</td>\n",
       "      <td>android developer android android developer hc...</td>\n",
       "    </tr>\n",
       "    <tr>\n",
       "      <th>29032</th>\n",
       "      <td>UI Developer UI &lt;span class=\"hl\"&gt;Developer&lt;/sp...</td>\n",
       "      <td>Software_Developer ,Front_End_Developer ,Web_D...</td>\n",
       "      <td>[0, 1, 0, 0, 0, 1, 0, 1, 0, 0]</td>\n",
       "      <td>ui developer ui ui developer cotiviti health c...</td>\n",
       "    </tr>\n",
       "    <tr>\n",
       "      <th>29033</th>\n",
       "      <td>Web Developer &lt;span class=\"hl\"&gt;Web&lt;/span&gt; &lt;spa...</td>\n",
       "      <td>Web_Developer ,Software_Developer</td>\n",
       "      <td>[0, 1, 0, 0, 0, 1, 0, 0, 0, 0]</td>\n",
       "      <td>web developer los angeles ca work experience w...</td>\n",
       "    </tr>\n",
       "    <tr>\n",
       "      <th>29034</th>\n",
       "      <td>Sr. Software Engineer Sr. Software Engineer Sr...</td>\n",
       "      <td>Software_Developer ,Web_Developer</td>\n",
       "      <td>[0, 1, 0, 0, 0, 1, 0, 0, 0, 0]</td>\n",
       "      <td>sr software engineer sr software engineer sr s...</td>\n",
       "    </tr>\n",
       "  </tbody>\n",
       "</table>\n",
       "<p>29035 rows × 4 columns</p>\n",
       "</div>"
      ],
      "text/plain": [
       "                                                     txt  \\\n",
       "0      Database Administrator <span class=\"hl\">Databa...   \n",
       "1      Database Administrator <span class=\"hl\">Databa...   \n",
       "2      Oracle Database Administrator Oracle <span cla...   \n",
       "3      Amazon Redshift Administrator and ETL Develope...   \n",
       "4      Scrum Master Scrum Master Scrum Master Richmon...   \n",
       "...                                                  ...   \n",
       "29030  ServiceNow Developer ServiceNow <span class=\"h...   \n",
       "29031  Android Developer Android <span class=\"hl\">Dev...   \n",
       "29032  UI Developer UI <span class=\"hl\">Developer</sp...   \n",
       "29033  Web Developer <span class=\"hl\">Web</span> <spa...   \n",
       "29034  Sr. Software Engineer Sr. Software Engineer Sr...   \n",
       "\n",
       "                                                     lab  \\\n",
       "0                                 Database_Administrator   \n",
       "1                                 Database_Administrator   \n",
       "2                                 Database_Administrator   \n",
       "3                                 Database_Administrator   \n",
       "4                                 Database_Administrator   \n",
       "...                                                  ...   \n",
       "29030  Java_Developer ,Web_Developer ,Software_Developer   \n",
       "29031                  Web_Developer ,Software_Developer   \n",
       "29032  Software_Developer ,Front_End_Developer ,Web_D...   \n",
       "29033                  Web_Developer ,Software_Developer   \n",
       "29034                  Software_Developer ,Web_Developer   \n",
       "\n",
       "                          cleaned_lab  \\\n",
       "0      [1, 0, 0, 0, 0, 0, 0, 0, 0, 0]   \n",
       "1      [1, 0, 0, 0, 0, 0, 0, 0, 0, 0]   \n",
       "2      [1, 0, 0, 0, 0, 0, 0, 0, 0, 0]   \n",
       "3      [1, 0, 0, 0, 0, 0, 0, 0, 0, 0]   \n",
       "4      [1, 0, 0, 0, 0, 0, 0, 0, 0, 0]   \n",
       "...                               ...   \n",
       "29030  [0, 1, 0, 0, 0, 1, 0, 0, 1, 0]   \n",
       "29031  [0, 1, 0, 0, 0, 1, 0, 0, 0, 0]   \n",
       "29032  [0, 1, 0, 0, 0, 1, 0, 1, 0, 0]   \n",
       "29033  [0, 1, 0, 0, 0, 1, 0, 0, 0, 0]   \n",
       "29034  [0, 1, 0, 0, 0, 1, 0, 0, 0, 0]   \n",
       "\n",
       "                                             cleaned_txt  \n",
       "0      database administrator database administrator ...  \n",
       "1      database administrator sql server database adm...  \n",
       "2      oracle database administrator oracle oracle da...  \n",
       "3      amazon redshift administrator etl developer bu...  \n",
       "4      scrum master scrum master scrum master richmon...  \n",
       "...                                                  ...  \n",
       "29030  servicenow developer servicenow servicenow dev...  \n",
       "29031  android developer android android developer hc...  \n",
       "29032  ui developer ui ui developer cotiviti health c...  \n",
       "29033  web developer los angeles ca work experience w...  \n",
       "29034  sr software engineer sr software engineer sr s...  \n",
       "\n",
       "[29035 rows x 4 columns]"
      ]
     },
     "execution_count": 15,
     "metadata": {},
     "output_type": "execute_result"
    }
   ],
   "source": [
    "df"
   ]
  },
  {
   "cell_type": "code",
   "execution_count": 10,
   "id": "acbe926a-de64-43a8-99b9-97a230e594b4",
   "metadata": {},
   "outputs": [
    {
     "data": {
      "text/plain": [
       "array([ 774,  205,  372, ..., 1869,   84,  479])"
      ]
     },
     "execution_count": 10,
     "metadata": {},
     "output_type": "execute_result"
    }
   ],
   "source": [
    "lengths = df['cleaned_txt'].str.split(' ')\n",
    "str_lengths = np.array([len(row) for row in lengths])\n",
    "str_lengths"
   ]
  },
  {
   "cell_type": "code",
   "execution_count": 12,
   "id": "7c65a833-b11b-4448-94e9-8f60cbbde807",
   "metadata": {},
   "outputs": [],
   "source": [
    "# df.to_csv('cleaned_labels_resumes.csv')"
   ]
  },
  {
   "cell_type": "code",
   "execution_count": 13,
   "id": "0d202fed-b823-4777-b4c1-47996ceea5e0",
   "metadata": {
    "scrolled": true
   },
   "outputs": [
    {
     "name": "stdout",
     "output_type": "stream",
     "text": [
      "max words in a resume -  9493\n"
     ]
    },
    {
     "data": {
      "image/png": "[encoded data removed]",
      "text/plain": [
       "<Figure size 1200x800 with 1 Axes>"
      ]
     },
     "metadata": {},
     "output_type": "display_data"
    }
   ],
   "source": [
    "print('max words in a resume - ',max(str_lengths))\n",
    "plt.figure(figsize=(12,8))\n",
    "sns.histplot(str_lengths, bins = 20)\n",
    "plt.show()"
   ]
  },
  {
   "cell_type": "code",
   "execution_count": 16,
   "id": "e82b4625-5c66-4a60-9960-b1617d12c9b5",
   "metadata": {
    "scrolled": true
   },
   "outputs": [
    {
     "data": {
      "text/plain": [
       "<Axes: ylabel='Count'>"
      ]
     },
     "execution_count": 16,
     "metadata": {},
     "output_type": "execute_result"
    },
    {
     "data": {
      "image/png": "[encoded data removed]",
      "text/plain": [
       "<Figure size 640x480 with 1 Axes>"
      ]
     },
     "metadata": {},
     "output_type": "display_data"
    }
   ],
   "source": [
    "sns.histplot(str_lengths, binrange=(0,2000))"
   ]
  },
  {
   "cell_type": "code",
   "execution_count": 17,
   "id": "b8f3a447-9164-47e1-85cb-19cec59094df",
   "metadata": {
    "scrolled": true
   },
   "outputs": [
    {
     "data": {
      "text/plain": [
       "<Axes: ylabel='Count'>"
      ]
     },
     "execution_count": 17,
     "metadata": {},
     "output_type": "execute_result"
    },
    {
     "data": {
      "image/png": "[encoded data removed]",
      "text/plain": [
       "<Figure size 640x480 with 1 Axes>"
      ]
     },
     "metadata": {},
     "output_type": "display_data"
    }
   ],
   "source": [
    "sns.histplot(str_lengths, binrange=(2000,7000))"
   ]
  },
  {
   "cell_type": "code",
   "execution_count": 18,
   "id": "2289a62d-033e-4c08-913f-a5395f916130",
   "metadata": {},
   "outputs": [
    {
     "data": {
      "text/plain": [
       "<Axes: ylabel='Count'>"
      ]
     },
     "execution_count": 18,
     "metadata": {},
     "output_type": "execute_result"
    },
    {
     "data": {
      "image/png": "[encoded data removed]",
      "text/plain": [
       "<Figure size 640x480 with 1 Axes>"
      ]
     },
     "metadata": {},
     "output_type": "display_data"
    }
   ],
   "source": [
    "sns.histplot(str_lengths, binrange=(1500,2000))"
   ]
  },
  {
   "cell_type": "code",
   "execution_count": 19,
   "id": "c0b463a9-252b-46f8-8028-8328a81ba4b9",
   "metadata": {},
   "outputs": [
    {
     "data": {
      "text/plain": [
       "<Axes: ylabel='Count'>"
      ]
     },
     "execution_count": 19,
     "metadata": {},
     "output_type": "execute_result"
    },
    {
     "data": {
      "image/png": "[encoded data removed]",
      "text/plain": [
       "<Figure size 640x480 with 1 Axes>"
      ]
     },
     "metadata": {},
     "output_type": "display_data"
    }
   ],
   "source": [
    "sns.histplot(str_lengths, binrange=(0,1500))"
   ]
  },
  {
   "cell_type": "code",
   "execution_count": 11,
   "id": "b3f4517c-097e-49bf-a09c-066e1ad314b7",
   "metadata": {},
   "outputs": [
    {
     "data": {
      "text/plain": [
       "array([    0,     1,     2, ..., 29031, 29033, 29034])"
      ]
     },
     "execution_count": 11,
     "metadata": {},
     "output_type": "execute_result"
    }
   ],
   "source": [
    "#taking index of those rows which have word count less than 1500 words. \n",
    "indx_1500 = np.where(str_lengths<1500)[0]\n",
    "indx_1500"
   ]
  },
  {
   "cell_type": "code",
   "execution_count": 12,
   "id": "c6fe9acd-3d3e-4017-a00f-28db5f776b9d",
   "metadata": {
    "scrolled": true
   },
   "outputs": [
    {
     "data": {
      "text/html": [
       "<div>\n",
       "<style scoped>\n",
       "    .dataframe tbody tr th:only-of-type {\n",
       "        vertical-align: middle;\n",
       "    }\n",
       "\n",
       "    .dataframe tbody tr th {\n",
       "        vertical-align: top;\n",
       "    }\n",
       "\n",
       "    .dataframe thead th {\n",
       "        text-align: right;\n",
       "    }\n",
       "</style>\n",
       "<table border=\"1\" class=\"dataframe\">\n",
       "  <thead>\n",
       "    <tr style=\"text-align: right;\">\n",
       "      <th></th>\n",
       "      <th>index</th>\n",
       "      <th>txt</th>\n",
       "      <th>lab</th>\n",
       "      <th>cleaned_lab</th>\n",
       "      <th>cleaned_txt</th>\n",
       "    </tr>\n",
       "  </thead>\n",
       "  <tbody>\n",
       "    <tr>\n",
       "      <th>0</th>\n",
       "      <td>0</td>\n",
       "      <td>Database Administrator &lt;span class=\"hl\"&gt;Databa...</td>\n",
       "      <td>Database_Administrator</td>\n",
       "      <td>[1, 0, 0, 0, 0, 0, 0, 0, 0, 0]</td>\n",
       "      <td>database administrator database administrator ...</td>\n",
       "    </tr>\n",
       "    <tr>\n",
       "      <th>1</th>\n",
       "      <td>1</td>\n",
       "      <td>Database Administrator &lt;span class=\"hl\"&gt;Databa...</td>\n",
       "      <td>Database_Administrator</td>\n",
       "      <td>[1, 0, 0, 0, 0, 0, 0, 0, 0, 0]</td>\n",
       "      <td>database administrator sql server database adm...</td>\n",
       "    </tr>\n",
       "    <tr>\n",
       "      <th>2</th>\n",
       "      <td>2</td>\n",
       "      <td>Oracle Database Administrator Oracle &lt;span cla...</td>\n",
       "      <td>Database_Administrator</td>\n",
       "      <td>[1, 0, 0, 0, 0, 0, 0, 0, 0, 0]</td>\n",
       "      <td>oracle database administrator oracle oracle da...</td>\n",
       "    </tr>\n",
       "    <tr>\n",
       "      <th>3</th>\n",
       "      <td>3</td>\n",
       "      <td>Amazon Redshift Administrator and ETL Develope...</td>\n",
       "      <td>Database_Administrator</td>\n",
       "      <td>[1, 0, 0, 0, 0, 0, 0, 0, 0, 0]</td>\n",
       "      <td>amazon redshift administrator etl developer bu...</td>\n",
       "    </tr>\n",
       "    <tr>\n",
       "      <th>4</th>\n",
       "      <td>4</td>\n",
       "      <td>Scrum Master Scrum Master Scrum Master Richmon...</td>\n",
       "      <td>Database_Administrator</td>\n",
       "      <td>[1, 0, 0, 0, 0, 0, 0, 0, 0, 0]</td>\n",
       "      <td>scrum master scrum master scrum master richmon...</td>\n",
       "    </tr>\n",
       "    <tr>\n",
       "      <th>...</th>\n",
       "      <td>...</td>\n",
       "      <td>...</td>\n",
       "      <td>...</td>\n",
       "      <td>...</td>\n",
       "      <td>...</td>\n",
       "    </tr>\n",
       "    <tr>\n",
       "      <th>25815</th>\n",
       "      <td>29028</td>\n",
       "      <td>WordPress Developer/ Web Designer (Free-lancer...</td>\n",
       "      <td>Web_Developer ,Software_Developer</td>\n",
       "      <td>[0, 1, 0, 0, 0, 1, 0, 0, 0, 0]</td>\n",
       "      <td>wordpress developer web designer freelancer wo...</td>\n",
       "    </tr>\n",
       "    <tr>\n",
       "      <th>25816</th>\n",
       "      <td>29029</td>\n",
       "      <td>Web Developer and Designer &lt;span class=\"hl\"&gt;We...</td>\n",
       "      <td>Web_Developer ,Software_Developer ,Front_End_D...</td>\n",
       "      <td>[0, 1, 0, 0, 0, 1, 0, 1, 0, 0]</td>\n",
       "      <td>web developer designer designer web developer ...</td>\n",
       "    </tr>\n",
       "    <tr>\n",
       "      <th>25817</th>\n",
       "      <td>29031</td>\n",
       "      <td>Android Developer Android &lt;span class=\"hl\"&gt;Dev...</td>\n",
       "      <td>Web_Developer ,Software_Developer</td>\n",
       "      <td>[0, 1, 0, 0, 0, 1, 0, 0, 0, 0]</td>\n",
       "      <td>android developer android android developer hc...</td>\n",
       "    </tr>\n",
       "    <tr>\n",
       "      <th>25818</th>\n",
       "      <td>29033</td>\n",
       "      <td>Web Developer &lt;span class=\"hl\"&gt;Web&lt;/span&gt; &lt;spa...</td>\n",
       "      <td>Web_Developer ,Software_Developer</td>\n",
       "      <td>[0, 1, 0, 0, 0, 1, 0, 0, 0, 0]</td>\n",
       "      <td>web developer los angeles ca work experience w...</td>\n",
       "    </tr>\n",
       "    <tr>\n",
       "      <th>25819</th>\n",
       "      <td>29034</td>\n",
       "      <td>Sr. Software Engineer Sr. Software Engineer Sr...</td>\n",
       "      <td>Software_Developer ,Web_Developer</td>\n",
       "      <td>[0, 1, 0, 0, 0, 1, 0, 0, 0, 0]</td>\n",
       "      <td>sr software engineer sr software engineer sr s...</td>\n",
       "    </tr>\n",
       "  </tbody>\n",
       "</table>\n",
       "<p>25820 rows × 5 columns</p>\n",
       "</div>"
      ],
      "text/plain": [
       "       index                                                txt  \\\n",
       "0          0  Database Administrator <span class=\"hl\">Databa...   \n",
       "1          1  Database Administrator <span class=\"hl\">Databa...   \n",
       "2          2  Oracle Database Administrator Oracle <span cla...   \n",
       "3          3  Amazon Redshift Administrator and ETL Develope...   \n",
       "4          4  Scrum Master Scrum Master Scrum Master Richmon...   \n",
       "...      ...                                                ...   \n",
       "25815  29028  WordPress Developer/ Web Designer (Free-lancer...   \n",
       "25816  29029  Web Developer and Designer <span class=\"hl\">We...   \n",
       "25817  29031  Android Developer Android <span class=\"hl\">Dev...   \n",
       "25818  29033  Web Developer <span class=\"hl\">Web</span> <spa...   \n",
       "25819  29034  Sr. Software Engineer Sr. Software Engineer Sr...   \n",
       "\n",
       "                                                     lab  \\\n",
       "0                                 Database_Administrator   \n",
       "1                                 Database_Administrator   \n",
       "2                                 Database_Administrator   \n",
       "3                                 Database_Administrator   \n",
       "4                                 Database_Administrator   \n",
       "...                                                  ...   \n",
       "25815                  Web_Developer ,Software_Developer   \n",
       "25816  Web_Developer ,Software_Developer ,Front_End_D...   \n",
       "25817                  Web_Developer ,Software_Developer   \n",
       "25818                  Web_Developer ,Software_Developer   \n",
       "25819                  Software_Developer ,Web_Developer   \n",
       "\n",
       "                          cleaned_lab  \\\n",
       "0      [1, 0, 0, 0, 0, 0, 0, 0, 0, 0]   \n",
       "1      [1, 0, 0, 0, 0, 0, 0, 0, 0, 0]   \n",
       "2      [1, 0, 0, 0, 0, 0, 0, 0, 0, 0]   \n",
       "3      [1, 0, 0, 0, 0, 0, 0, 0, 0, 0]   \n",
       "4      [1, 0, 0, 0, 0, 0, 0, 0, 0, 0]   \n",
       "...                               ...   \n",
       "25815  [0, 1, 0, 0, 0, 1, 0, 0, 0, 0]   \n",
       "25816  [0, 1, 0, 0, 0, 1, 0, 1, 0, 0]   \n",
       "25817  [0, 1, 0, 0, 0, 1, 0, 0, 0, 0]   \n",
       "25818  [0, 1, 0, 0, 0, 1, 0, 0, 0, 0]   \n",
       "25819  [0, 1, 0, 0, 0, 1, 0, 0, 0, 0]   \n",
       "\n",
       "                                             cleaned_txt  \n",
       "0      database administrator database administrator ...  \n",
       "1      database administrator sql server database adm...  \n",
       "2      oracle database administrator oracle oracle da...  \n",
       "3      amazon redshift administrator etl developer bu...  \n",
       "4      scrum master scrum master scrum master richmon...  \n",
       "...                                                  ...  \n",
       "25815  wordpress developer web designer freelancer wo...  \n",
       "25816  web developer designer designer web developer ...  \n",
       "25817  android developer android android developer hc...  \n",
       "25818  web developer los angeles ca work experience w...  \n",
       "25819  sr software engineer sr software engineer sr s...  \n",
       "\n",
       "[25820 rows x 5 columns]"
      ]
     },
     "execution_count": 12,
     "metadata": {},
     "output_type": "execute_result"
    }
   ],
   "source": [
    "df_1500 = df.iloc[indx_1500]\n",
    "df_1500.reset_index(inplace = True)\n",
    "df_1500"
   ]
  },
  {
   "cell_type": "code",
   "execution_count": 13,
   "id": "5a2c7cf7-683e-42b3-b612-d2bf0b7275e6",
   "metadata": {},
   "outputs": [],
   "source": [
    "# df_1500[['cleaned_txt','lab','cleaned_lab']].to_csv('Cleaned_Resumes_n_lab_limit_1500.csv', index = False)\n",
    "# saving the file"
   ]
  },
  {
   "cell_type": "code",
   "execution_count": 14,
   "id": "5b6c3826-edb2-4955-9abb-24f028181a96",
   "metadata": {
    "scrolled": true
   },
   "outputs": [
    {
     "data": {
      "text/html": [
       "<div>\n",
       "<style scoped>\n",
       "    .dataframe tbody tr th:only-of-type {\n",
       "        vertical-align: middle;\n",
       "    }\n",
       "\n",
       "    .dataframe tbody tr th {\n",
       "        vertical-align: top;\n",
       "    }\n",
       "\n",
       "    .dataframe thead th {\n",
       "        text-align: right;\n",
       "    }\n",
       "</style>\n",
       "<table border=\"1\" class=\"dataframe\">\n",
       "  <thead>\n",
       "    <tr style=\"text-align: right;\">\n",
       "      <th></th>\n",
       "      <th>index</th>\n",
       "      <th>txt</th>\n",
       "      <th>lab</th>\n",
       "      <th>cleaned_lab</th>\n",
       "      <th>cleaned_txt</th>\n",
       "    </tr>\n",
       "  </thead>\n",
       "  <tbody>\n",
       "    <tr>\n",
       "      <th>0</th>\n",
       "      <td>0</td>\n",
       "      <td>Database Administrator &lt;span class=\"hl\"&gt;Databa...</td>\n",
       "      <td>Database_Administrator</td>\n",
       "      <td>[1, 0, 0, 0, 0, 0, 0, 0, 0, 0]</td>\n",
       "      <td>database administrator database administrator ...</td>\n",
       "    </tr>\n",
       "    <tr>\n",
       "      <th>1</th>\n",
       "      <td>1</td>\n",
       "      <td>Database Administrator &lt;span class=\"hl\"&gt;Databa...</td>\n",
       "      <td>Database_Administrator</td>\n",
       "      <td>[1, 0, 0, 0, 0, 0, 0, 0, 0, 0]</td>\n",
       "      <td>database administrator sql server database adm...</td>\n",
       "    </tr>\n",
       "    <tr>\n",
       "      <th>2</th>\n",
       "      <td>2</td>\n",
       "      <td>Oracle Database Administrator Oracle &lt;span cla...</td>\n",
       "      <td>Database_Administrator</td>\n",
       "      <td>[1, 0, 0, 0, 0, 0, 0, 0, 0, 0]</td>\n",
       "      <td>oracle database administrator oracle oracle da...</td>\n",
       "    </tr>\n",
       "    <tr>\n",
       "      <th>3</th>\n",
       "      <td>3</td>\n",
       "      <td>Amazon Redshift Administrator and ETL Develope...</td>\n",
       "      <td>Database_Administrator</td>\n",
       "      <td>[1, 0, 0, 0, 0, 0, 0, 0, 0, 0]</td>\n",
       "      <td>amazon redshift administrator etl developer bu...</td>\n",
       "    </tr>\n",
       "    <tr>\n",
       "      <th>4</th>\n",
       "      <td>4</td>\n",
       "      <td>Scrum Master Scrum Master Scrum Master Richmon...</td>\n",
       "      <td>Database_Administrator</td>\n",
       "      <td>[1, 0, 0, 0, 0, 0, 0, 0, 0, 0]</td>\n",
       "      <td>scrum master scrum master scrum master richmon...</td>\n",
       "    </tr>\n",
       "    <tr>\n",
       "      <th>...</th>\n",
       "      <td>...</td>\n",
       "      <td>...</td>\n",
       "      <td>...</td>\n",
       "      <td>...</td>\n",
       "      <td>...</td>\n",
       "    </tr>\n",
       "    <tr>\n",
       "      <th>25815</th>\n",
       "      <td>29028</td>\n",
       "      <td>WordPress Developer/ Web Designer (Free-lancer...</td>\n",
       "      <td>Web_Developer ,Software_Developer</td>\n",
       "      <td>[0, 1, 0, 0, 0, 1, 0, 0, 0, 0]</td>\n",
       "      <td>wordpress developer web designer freelancer wo...</td>\n",
       "    </tr>\n",
       "    <tr>\n",
       "      <th>25816</th>\n",
       "      <td>29029</td>\n",
       "      <td>Web Developer and Designer &lt;span class=\"hl\"&gt;We...</td>\n",
       "      <td>Web_Developer ,Software_Developer ,Front_End_D...</td>\n",
       "      <td>[0, 1, 0, 0, 0, 1, 0, 1, 0, 0]</td>\n",
       "      <td>web developer designer designer web developer ...</td>\n",
       "    </tr>\n",
       "    <tr>\n",
       "      <th>25817</th>\n",
       "      <td>29031</td>\n",
       "      <td>Android Developer Android &lt;span class=\"hl\"&gt;Dev...</td>\n",
       "      <td>Web_Developer ,Software_Developer</td>\n",
       "      <td>[0, 1, 0, 0, 0, 1, 0, 0, 0, 0]</td>\n",
       "      <td>android developer android android developer hc...</td>\n",
       "    </tr>\n",
       "    <tr>\n",
       "      <th>25818</th>\n",
       "      <td>29033</td>\n",
       "      <td>Web Developer &lt;span class=\"hl\"&gt;Web&lt;/span&gt; &lt;spa...</td>\n",
       "      <td>Web_Developer ,Software_Developer</td>\n",
       "      <td>[0, 1, 0, 0, 0, 1, 0, 0, 0, 0]</td>\n",
       "      <td>web developer los angeles ca work experience w...</td>\n",
       "    </tr>\n",
       "    <tr>\n",
       "      <th>25819</th>\n",
       "      <td>29034</td>\n",
       "      <td>Sr. Software Engineer Sr. Software Engineer Sr...</td>\n",
       "      <td>Software_Developer ,Web_Developer</td>\n",
       "      <td>[0, 1, 0, 0, 0, 1, 0, 0, 0, 0]</td>\n",
       "      <td>sr software engineer sr software engineer sr s...</td>\n",
       "    </tr>\n",
       "  </tbody>\n",
       "</table>\n",
       "<p>25820 rows × 5 columns</p>\n",
       "</div>"
      ],
      "text/plain": [
       "       index                                                txt  \\\n",
       "0          0  Database Administrator <span class=\"hl\">Databa...   \n",
       "1          1  Database Administrator <span class=\"hl\">Databa...   \n",
       "2          2  Oracle Database Administrator Oracle <span cla...   \n",
       "3          3  Amazon Redshift Administrator and ETL Develope...   \n",
       "4          4  Scrum Master Scrum Master Scrum Master Richmon...   \n",
       "...      ...                                                ...   \n",
       "25815  29028  WordPress Developer/ Web Designer (Free-lancer...   \n",
       "25816  29029  Web Developer and Designer <span class=\"hl\">We...   \n",
       "25817  29031  Android Developer Android <span class=\"hl\">Dev...   \n",
       "25818  29033  Web Developer <span class=\"hl\">Web</span> <spa...   \n",
       "25819  29034  Sr. Software Engineer Sr. Software Engineer Sr...   \n",
       "\n",
       "                                                     lab  \\\n",
       "0                                 Database_Administrator   \n",
       "1                                 Database_Administrator   \n",
       "2                                 Database_Administrator   \n",
       "3                                 Database_Administrator   \n",
       "4                                 Database_Administrator   \n",
       "...                                                  ...   \n",
       "25815                  Web_Developer ,Software_Developer   \n",
       "25816  Web_Developer ,Software_Developer ,Front_End_D...   \n",
       "25817                  Web_Developer ,Software_Developer   \n",
       "25818                  Web_Developer ,Software_Developer   \n",
       "25819                  Software_Developer ,Web_Developer   \n",
       "\n",
       "                          cleaned_lab  \\\n",
       "0      [1, 0, 0, 0, 0, 0, 0, 0, 0, 0]   \n",
       "1      [1, 0, 0, 0, 0, 0, 0, 0, 0, 0]   \n",
       "2      [1, 0, 0, 0, 0, 0, 0, 0, 0, 0]   \n",
       "3      [1, 0, 0, 0, 0, 0, 0, 0, 0, 0]   \n",
       "4      [1, 0, 0, 0, 0, 0, 0, 0, 0, 0]   \n",
       "...                               ...   \n",
       "25815  [0, 1, 0, 0, 0, 1, 0, 0, 0, 0]   \n",
       "25816  [0, 1, 0, 0, 0, 1, 0, 1, 0, 0]   \n",
       "25817  [0, 1, 0, 0, 0, 1, 0, 0, 0, 0]   \n",
       "25818  [0, 1, 0, 0, 0, 1, 0, 0, 0, 0]   \n",
       "25819  [0, 1, 0, 0, 0, 1, 0, 0, 0, 0]   \n",
       "\n",
       "                                             cleaned_txt  \n",
       "0      database administrator database administrator ...  \n",
       "1      database administrator sql server database adm...  \n",
       "2      oracle database administrator oracle oracle da...  \n",
       "3      amazon redshift administrator etl developer bu...  \n",
       "4      scrum master scrum master scrum master richmon...  \n",
       "...                                                  ...  \n",
       "25815  wordpress developer web designer freelancer wo...  \n",
       "25816  web developer designer designer web developer ...  \n",
       "25817  android developer android android developer hc...  \n",
       "25818  web developer los angeles ca work experience w...  \n",
       "25819  sr software engineer sr software engineer sr s...  \n",
       "\n",
       "[25820 rows x 5 columns]"
      ]
     },
     "execution_count": 14,
     "metadata": {},
     "output_type": "execute_result"
    }
   ],
   "source": [
    "df_1500"
   ]
  },
  {
   "cell_type": "markdown",
   "id": "98b4a939-1e6c-479e-966a-89caa1730ab4",
   "metadata": {},
   "source": [
    "# Embeddings & converting text to vectors"
   ]
  },
  {
   "cell_type": "code",
   "execution_count": 101,
   "id": "635a3e2f-b9ca-4772-85c4-360b596712e9",
   "metadata": {},
   "outputs": [],
   "source": [
    "# # saving all the text for embeddings\n",
    "# df['cleaned_txt'].to_csv('Cleaned_resumes_without_lemm.txt',header = False, index = False)"
   ]
  },
  {
   "cell_type": "code",
   "execution_count": 99,
   "id": "7f1d760b-a6e2-467d-a40d-766b8391e5f7",
   "metadata": {},
   "outputs": [],
   "source": [
    "# # saving cleaned text for Model building\n",
    "# df_1500['cleaned_txt'].to_csv('Cleaned_resumes_without_lemm_1500words.txt',header = False, index = False)"
   ]
  },
  {
   "cell_type": "markdown",
   "id": "159ed245-dd95-43b0-bc53-842bdd638b2f",
   "metadata": {},
   "source": [
    "## EMbeddings"
   ]
  },
  {
   "cell_type": "code",
   "execution_count": 16,
   "id": "49e529e2-e93e-469a-90ca-5d131ff8d5ed",
   "metadata": {
    "scrolled": true
   },
   "outputs": [
    {
     "name": "stderr",
     "output_type": "stream",
     "text": [
      "Read 20M words\n",
      "Number of words:  46745\n",
      "Number of labels: 0\n",
      "Progress: 100.0% words/sec/thread:   74351 lr:  0.000000 avg.loss:  0.763505 ETA:   0h 0m 0s1.7% words/sec/thread:   74015 lr:  0.049171 avg.loss:  1.854010 ETA:   0h 8m 6s avg.loss:  1.255602 ETA:   0h 4m28s  0h 3m29s\n"
     ]
    }
   ],
   "source": [
    "ft_embeddings_150D = fasttext.train_unsupervised('Cleaned_resumes_without_lemm.txt', epoch = 20,dim = 150)\n",
    "# ft_embeddings_200D = fasttext.load_model('ft_embeddings_200D.bin')"
   ]
  },
  {
   "cell_type": "code",
   "execution_count": 26,
   "id": "2ef6c255-bd2a-40a0-809a-135f0eeff726",
   "metadata": {
    "scrolled": true
   },
   "outputs": [
    {
     "data": {
      "text/plain": [
       "[(0.8184384107589722, 'django'),\n",
       " (0.7285428047180176, 'pythonxx'),\n",
       " (0.7064573764801025, 'pythonzope'),\n",
       " (0.7017067074775696, 'pythonui'),\n",
       " (0.7003216743469238, 'pythonusing'),\n",
       " (0.6878448724746704, 'pythonpostgresql'),\n",
       " (0.6863393783569336, 'flask'),\n",
       " (0.6840647459030151, 'usedpython'),\n",
       " (0.6818186044692993, 'pythonand'),\n",
       " (0.6792433261871338, 'pythonaws')]"
      ]
     },
     "execution_count": 26,
     "metadata": {},
     "output_type": "execute_result"
    }
   ],
   "source": [
    "ft_embeddings_150D.get_nearest_neighbors('python')"
   ]
  },
  {
   "cell_type": "code",
   "execution_count": 17,
   "id": "2c7c16a3-5e56-4455-aae3-b2039a7f694f",
   "metadata": {},
   "outputs": [],
   "source": [
    "ft_embeddings_150D.save_model('ft_embeddings_150D.bin')"
   ]
  },
  {
   "cell_type": "markdown",
   "id": "67e713a0-572e-449e-b680-6a54d378a65a",
   "metadata": {},
   "source": [
    "## Converting resume text to vectors "
   ]
  },
  {
   "cell_type": "code",
   "execution_count": 19,
   "id": "d04dddc6-281f-46c4-b41c-dbfa2cc65bec",
   "metadata": {},
   "outputs": [],
   "source": [
    "def get_embeddings(txt):\n",
    "    txt_list = np.array(fasttext.tokenize(txt))\n",
    "\n",
    "    z = [ft_embeddings_150D.get_word_vector(token) for token in txt_list]\n",
    "\n",
    "    return np.array(z)"
   ]
  },
  {
   "cell_type": "code",
   "execution_count": 20,
   "id": "7498960c-a332-45ee-95f8-d371e55c06ab",
   "metadata": {},
   "outputs": [],
   "source": [
    "embeddings = {}\n",
    "for row in range(df_1500.shape[0]):\n",
    "    embeddings[row] = get_embeddings(df_1500['cleaned_txt'][row])"
   ]
  },
  {
   "cell_type": "markdown",
   "id": "11559497-74c5-4652-a16e-77e4cc8f0537",
   "metadata": {},
   "source": [
    "    we cannot convert the dictionary values into array bcoz of the varing length on the resumes. \n",
    "    \n",
    "    to tackle this issue we will do the padding with zeros"
   ]
  },
  {
   "cell_type": "code",
   "execution_count": 21,
   "id": "8f6a77a2-7bee-4de4-b357-f1edc0839813",
   "metadata": {},
   "outputs": [
    {
     "name": "stdout",
     "output_type": "stream",
     "text": [
      "1499\n"
     ]
    }
   ],
   "source": [
    "max_len = max(str_lengths[np.where(str_lengths<1500)[0]])\n",
    "print(max_len)\n",
    "\n",
    "# so max word count in resumes under 1500 words in 1499 "
   ]
  },
  {
   "cell_type": "code",
   "execution_count": 22,
   "id": "ae8143de-9689-450c-8ad6-86374376a3ea",
   "metadata": {},
   "outputs": [],
   "source": [
    "for key in embeddings.keys():\n",
    "    len_difference = max_len - len(embeddings[key])\n",
    "\n",
    "    pad = np.zeros(shape = (len_difference,150)) #because for the size of each word vector is 200\n",
    "\n",
    "    embeddings[key] = np.concatenate([embeddings[key], pad])"
   ]
  },
  {
   "cell_type": "code",
   "execution_count": 23,
   "id": "9b896c49-3f76-4d1b-83ed-49f54f2925de",
   "metadata": {},
   "outputs": [],
   "source": [
    "embeddings = np.array(list(embeddings.values()))"
   ]
  },
  {
   "cell_type": "code",
   "execution_count": 27,
   "id": "a3024a7c-d1b1-4b06-b95e-dedbb781d1d4",
   "metadata": {
    "scrolled": true
   },
   "outputs": [
    {
     "data": {
      "text/plain": [
       "(25820, 1499, 150)"
      ]
     },
     "execution_count": 27,
     "metadata": {},
     "output_type": "execute_result"
    }
   ],
   "source": [
    "embeddings.shape"
   ]
  },
  {
   "cell_type": "code",
   "execution_count": 3,
   "id": "368a9781-3574-440f-80da-286e6930bf00",
   "metadata": {},
   "outputs": [],
   "source": [
    "import ast \n",
    "df = pd.read_csv('Cleaned_Resumes_n_lab_limit_1500.csv')\n",
    "df['cleaned_lab'] = df['cleaned_lab'].apply(lambda x: x.replace(' ',','))\n",
    "df['cleaned_lab'] = df['cleaned_lab'].apply(lambda x: ast.literal_eval(x))"
   ]
  },
  {
   "cell_type": "code",
   "execution_count": 4,
   "id": "162705ad-cbbd-4507-9750-b235861b1fdc",
   "metadata": {},
   "outputs": [],
   "source": [
    "# converting depended variable to appropriate datatype\n",
    "y = np.vstack(df['cleaned_lab'].values)\n",
    "y.shape\n",
    "del(df)"
   ]
  },
  {
   "cell_type": "code",
   "execution_count": null,
   "id": "a3ec5800-c3b0-4c88-bda8-837643437197",
   "metadata": {},
   "outputs": [],
   "source": []
  },
  {
   "cell_type": "code",
   "execution_count": 6,
   "id": "5e19cd1a-e839-4539-888f-d131455ee6b5",
   "metadata": {},
   "outputs": [],
   "source": [
    "with h5py.File('resume_embeddings_150D.h5', 'r') as hf:\n",
    "    # Access features and labels datasets\n",
    "    x_train = hf['resume_embeddings_150D'][:]"
   ]
  },
  {
   "cell_type": "code",
   "execution_count": 7,
   "id": "504dab0e-7dcd-4943-97f7-69a32bcb6db8",
   "metadata": {},
   "outputs": [],
   "source": [
    "import dask.array as da\n",
    "x_train = da.from_array(x_train, chunks = (1000,1000,1000))"
   ]
  },
  {
   "cell_type": "code",
   "execution_count": 11,
   "id": "7f49a97c-1743-4727-a5d5-ef2a10eff7ab",
   "metadata": {},
   "outputs": [
    {
     "name": "stderr",
     "output_type": "stream",
     "text": [
      "/Users/nikhilkudupudi/anaconda3/envs/env2/lib/python3.10/site-packages/sklearn/utils/__init__.py:184: PerformanceWarning: Slicing with an out-of-order index is generating 764 times more chunks\n",
      "  return array[key] if axis == 0 else array[:, key]\n",
      "/Users/nikhilkudupudi/anaconda3/envs/env2/lib/python3.10/site-packages/sklearn/utils/__init__.py:184: PerformanceWarning: Slicing with an out-of-order index is generating 192 times more chunks\n",
      "  return array[key] if axis == 0 else array[:, key]\n"
     ]
    }
   ],
   "source": [
    "# x_train, x_test, y_train, y_test = train_test_split(embeddings, y, test_size= 0.2, random_state= 42)\n",
    "x_train, x_test, y_train, y_test = train_test_split(x_train, y, test_size= 0.2, random_state= 42)"
   ]
  },
  {
   "cell_type": "code",
   "execution_count": 12,
   "id": "bc3ad3bf-7a5b-4f16-8aa7-b894bd580c28",
   "metadata": {},
   "outputs": [
    {
     "data": {
      "text/plain": [
       "(20656, 1499, 150)"
      ]
     },
     "execution_count": 12,
     "metadata": {},
     "output_type": "execute_result"
    }
   ],
   "source": [
    "x_train.shape"
   ]
  },
  {
   "cell_type": "code",
   "execution_count": 13,
   "id": "e3d3eb7d-b69f-4d7e-aa72-8e079555792e",
   "metadata": {},
   "outputs": [
    {
     "name": "stdout",
     "output_type": "stream",
     "text": [
      "(20656, 1499, 150) (5164, 1499, 150)\n",
      "(20656, 10) (5164, 10)\n"
     ]
    }
   ],
   "source": [
    "print (x_train.shape, x_test.shape)\n",
    "print (y_train.shape, y_test.shape)"
   ]
  },
  {
   "cell_type": "code",
   "execution_count": null,
   "id": "90e63940-7ff1-4d9f-aab9-d3c1f872cd7c",
   "metadata": {},
   "outputs": [],
   "source": []
  },
  {
   "cell_type": "markdown",
   "id": "8aeb653b-cce1-4312-84d1-a7120c2d57d0",
   "metadata": {},
   "source": [
    "## Saving the fasttext model and embeddings array for future use"
   ]
  },
  {
   "cell_type": "code",
   "execution_count": 29,
   "id": "478bc580-7ac6-4c19-aba8-c2358b904606",
   "metadata": {},
   "outputs": [],
   "source": [
    "# saving full embeddings data \n",
    "with h5py.File('resume_embeddings_150D.h5', 'w') as hf:\n",
    "    hf.create_dataset('resume_embeddings_150D', data=embeddings)"
   ]
  },
  {
   "cell_type": "code",
   "execution_count": 97,
   "id": "fd78bf06-0a83-43d5-ae1a-ed7c5998eec4",
   "metadata": {},
   "outputs": [],
   "source": [
    "# # saving training data\n",
    "# with h5py.File('training_data.h5', 'w') as hf:\n",
    "#     hf.create_dataset('x_train', data=x_train)\n",
    "#     hf.create_dataset('y_train', data=y_train)"
   ]
  },
  {
   "cell_type": "code",
   "execution_count": 98,
   "id": "419a4ef6-6663-4ada-bbc8-de9b4404f737",
   "metadata": {},
   "outputs": [],
   "source": [
    "# # saving testing data\n",
    "# with h5py.File('testing_data.h5', 'w') as hf:\n",
    "#     hf.create_dataset('x_test', data=x_test)\n",
    "#     hf.create_dataset('y_test', data=y_test)"
   ]
  },
  {
   "cell_type": "code",
   "execution_count": 100,
   "id": "a954014e-a3bb-41be-bdc3-c7dc73729007",
   "metadata": {},
   "outputs": [],
   "source": [
    "# #saving fasttext embedding model\n",
    "# ft_embeddings_50D.save_model('ft_embeddings_50D')"
   ]
  },
  {
   "cell_type": "code",
   "execution_count": null,
   "id": "b7f87c1a-9596-4c51-b800-c60adffaa45c",
   "metadata": {},
   "outputs": [],
   "source": []
  },
  {
   "cell_type": "markdown",
   "id": "e0b12934-bc7b-49ad-838c-35ad46885e0d",
   "metadata": {},
   "source": [
    "# Model Building"
   ]
  },
  {
   "cell_type": "code",
   "execution_count": null,
   "id": "0ea2e4ce-ed0c-415d-ac0d-c4c1ff0ac889",
   "metadata": {},
   "outputs": [],
   "source": [
    "### Loading .h5 files "
   ]
  },
  {
   "cell_type": "code",
   "execution_count": 3,
   "id": "420981db-5a9d-4b62-b0e8-7ea7b5e56bce",
   "metadata": {},
   "outputs": [
    {
     "name": "stdout",
     "output_type": "stream",
     "text": [
      "Keys:  ['resume_embeddings_50D']\n"
     ]
    }
   ],
   "source": [
    "with h5py.File('resume_embeddings_50D.h5', 'r') as file:\n",
    "    # Print the keys at the root level of the file\n",
    "    print(\"Keys: \", list(file.keys()))"
   ]
  },
  {
   "cell_type": "code",
   "execution_count": 29,
   "id": "de204a43-86b2-4ae9-8b88-55bae8543b6b",
   "metadata": {},
   "outputs": [],
   "source": [
    "# with h5py.File('resume_embeddings_50D.h5', 'r') as hf:\n",
    "#     # Access features and labels datasets\n",
    "#     x_train = hf['x_train'][:]\n",
    "#     y_train = hf['y_train'][:]\n",
    "\n",
    "# with h5py.File('testing_data.h5', 'r') as hf:\n",
    "#     # Access features and labels datasets\n",
    "#     x_test = hf['x_test'][:]\n",
    "#     y_test = hf['y_test'][:]"
   ]
  },
  {
   "cell_type": "code",
   "execution_count": null,
   "id": "9e2d17f3-0533-4d81-a176-27f5d3c4e031",
   "metadata": {},
   "outputs": [],
   "source": [
    "import dask.array as da \n",
    "\n",
    "x_train = da.from_array(x_train, chunks = (1000,1000,1000)) # text time try 100 from 3rd dimension\n",
    "x_test = da.from_array(x_test, chunks = (1000,1000,1000))\n",
    "\n",
    "x_train"
   ]
  },
  {
   "cell_type": "code",
   "execution_count": 39,
   "id": "6dbf2380-ee9a-458f-bda8-7b71ea199104",
   "metadata": {},
   "outputs": [],
   "source": [
    "y_train = da.from_array(y_train, chunks = (1000,1000))\n",
    "y_test = da.from_array(y_test, chunks = (1000,1000))"
   ]
  },
  {
   "cell_type": "code",
   "execution_count": null,
   "id": "bccc7385-5a92-4868-a579-186e721c6da6",
   "metadata": {
    "scrolled": true
   },
   "outputs": [],
   "source": []
  },
  {
   "cell_type": "code",
   "execution_count": 43,
   "id": "4b869ce3-0e58-4df5-bf78-7432e3790512",
   "metadata": {},
   "outputs": [
    {
     "name": "stdout",
     "output_type": "stream",
     "text": [
      "<class 'dask.array.core.Array'>\n"
     ]
    }
   ],
   "source": [
    "print(type(y_train))"
   ]
  },
  {
   "cell_type": "code",
   "execution_count": 41,
   "id": "f7ac5dbb-4420-4c25-b5c8-a2e320378073",
   "metadata": {},
   "outputs": [
    {
     "name": "stdout",
     "output_type": "stream",
     "text": [
      "(20656, 1499, 150) (20656, 10)\n",
      "(5164, 1499, 150) (5164, 10)\n"
     ]
    }
   ],
   "source": [
    "print(x_train.shape,y_train.shape)\n",
    "print(x_test.shape,y_test.shape)"
   ]
  },
  {
   "cell_type": "code",
   "execution_count": 15,
   "id": "b374c617-98fd-4b42-8f62-993b1ed477b4",
   "metadata": {},
   "outputs": [],
   "source": [
    "import tensorflow as tf\n",
    "from keras.models import Sequential\n",
    "from keras.layers import SimpleRNN, Dense, Input ,LSTM, Dropout,Flatten, Bidirectional,BatchNormalization\n",
    "from tensorflow.keras.losses import BinaryCrossentropy\n",
    "from tensorflow.keras import backend as K\n",
    "from tensorflow.keras.metrics import Precision, Recall\n",
    "from keras.callbacks import EarlyStopping"
   ]
  },
  {
   "cell_type": "code",
   "execution_count": 17,
   "id": "4c3362f4-c9b7-44f4-bfc1-8a80359e599c",
   "metadata": {},
   "outputs": [
    {
     "name": "stdout",
     "output_type": "stream",
     "text": [
      "Num GPUs Available:  1\n"
     ]
    }
   ],
   "source": [
    "print(\"Num GPUs Available: \", len(tf.config.list_physical_devices('GPU')))"
   ]
  },
  {
   "cell_type": "code",
   "execution_count": 32,
   "id": "cc43c115-337d-423e-9aea-65d01060ae40",
   "metadata": {},
   "outputs": [
    {
     "name": "stderr",
     "output_type": "stream",
     "text": [
      "2023-12-10 10:26:36.338543: I metal_plugin/src/device/metal_device.cc:1154] Metal device set to: Apple M2 Pro\n",
      "2023-12-10 10:26:36.338588: I metal_plugin/src/device/metal_device.cc:296] systemMemory: 16.00 GB\n",
      "2023-12-10 10:26:36.338592: I metal_plugin/src/device/metal_device.cc:313] maxCacheSize: 5.33 GB\n",
      "2023-12-10 10:26:36.338818: I tensorflow/core/common_runtime/pluggable_device/pluggable_device_factory.cc:306] Could not identify NUMA node of platform GPU ID 0, defaulting to 0. Your kernel may not have been built with NUMA support.\n",
      "2023-12-10 10:26:36.339027: I tensorflow/core/common_runtime/pluggable_device/pluggable_device_factory.cc:272] Created TensorFlow device (/job:localhost/replica:0/task:0/device:GPU:0 with 0 MB memory) -> physical PluggableDevice (device: 0, name: METAL, pci bus id: <undefined>)\n"
     ]
    }
   ],
   "source": [
    "precision_metric = tf.keras.metrics.Precision()\n",
    "recall_metric = tf.keras.metrics.Recall()\n",
    "\n",
    "def f1_score(y_true, y_pred, precision, recall):\n",
    "    precision_value = precision(y_true, y_pred)\n",
    "    recall_value = recall(y_true, y_pred)\n",
    "\n",
    "    f1 = 2 * (precision_value * recall_value) / (precision_value + recall_value + K.epsilon())\n",
    "    return f1\n",
    "\n",
    "@tf.function\n",
    "def compiled_f1_score(y_true, y_pred):\n",
    "    return f1_score(y_true, y_pred, precision_metric, recall_metric)"
   ]
  },
  {
   "cell_type": "code",
   "execution_count": null,
   "id": "814ecd9f-0e39-40cd-9684-92bf7e988a68",
   "metadata": {},
   "outputs": [],
   "source": []
  },
  {
   "cell_type": "markdown",
   "id": "6b71f271-2bbf-4326-93b6-9402f525b8dd",
   "metadata": {},
   "source": [
    "## Model Trained on 50D vectors"
   ]
  },
  {
   "cell_type": "code",
   "execution_count": 34,
   "id": "0ee1540f-00ec-4ccb-b103-f976e0bd678b",
   "metadata": {},
   "outputs": [
    {
     "name": "stdout",
     "output_type": "stream",
     "text": [
      "Model: \"sequential_1\"\n",
      "_________________________________________________________________\n",
      " Layer (type)                Output Shape              Param #   \n",
      "=================================================================\n",
      " lstm_5 (LSTM)               (None, 1499, 128)         91648     \n",
      "                                                                 \n",
      " dropout_7 (Dropout)         (None, 1499, 128)         0         \n",
      "                                                                 \n",
      " lstm_6 (LSTM)               (None, 1499, 128)         131584    \n",
      "                                                                 \n",
      " dropout_8 (Dropout)         (None, 1499, 128)         0         \n",
      "                                                                 \n",
      " lstm_7 (LSTM)               (None, 1499, 128)         131584    \n",
      "                                                                 \n",
      " dropout_9 (Dropout)         (None, 1499, 128)         0         \n",
      "                                                                 \n",
      " lstm_8 (LSTM)               (None, 1499, 128)         131584    \n",
      "                                                                 \n",
      " dropout_10 (Dropout)        (None, 1499, 128)         0         \n",
      "                                                                 \n",
      " lstm_9 (LSTM)               (None, 1499, 128)         131584    \n",
      "                                                                 \n",
      " dropout_11 (Dropout)        (None, 1499, 128)         0         \n",
      "                                                                 \n",
      " flatten_1 (Flatten)         (None, 191872)            0         \n",
      "                                                                 \n",
      " dense_3 (Dense)             (None, 128)               24559744  \n",
      "                                                                 \n",
      " dropout_12 (Dropout)        (None, 128)               0         \n",
      "                                                                 \n",
      " dense_4 (Dense)             (None, 32)                4128      \n",
      "                                                                 \n",
      " dropout_13 (Dropout)        (None, 32)                0         \n",
      "                                                                 \n",
      " dense_5 (Dense)             (None, 10)                330       \n",
      "                                                                 \n",
      "=================================================================\n",
      "Total params: 25182186 (96.06 MB)\n",
      "Trainable params: 25182186 (96.06 MB)\n",
      "Non-trainable params: 0 (0.00 Byte)\n",
      "_________________________________________________________________\n"
     ]
    }
   ],
   "source": [
    "model_50d = Sequential()\n",
    "\n",
    "model_50d.add(LSTM(128, return_sequences = True, input_shape = (1499,50)))\n",
    "model_50d.add(Dropout(0.2))\n",
    "model_50d.add(LSTM(128, return_sequences = True))\n",
    "model_50d.add(Dropout(0.2))\n",
    "model_50d.add(LSTM(128, return_sequences = True))\n",
    "model_50d.add(Dropout(0.2))\n",
    "model_50d.add(LSTM(128, return_sequences = True))\n",
    "model_50d.add(Dropout(0.2))\n",
    "model_50d.add(LSTM(128, return_sequences = True))\n",
    "model_50d.add(Dropout(0.2))\n",
    "\n",
    "model_50d.add(Flatten())\n",
    "\n",
    "model_50d.add(Dense(128, activation = 'relu'))\n",
    "model_50d.add(Dropout(0.2))\n",
    "model_50d.add(Dense(32, activation = 'relu'))\n",
    "model_50d.add(Dropout(0.2))\n",
    "model_50d.add(Dense(10, activation='sigmoid'))\n",
    "\n",
    "model_50d.summary()\n",
    "\n",
    "early_stopping = EarlyStopping(monitor='val_compiled_f1_score', patience=3)"
   ]
  },
  {
   "cell_type": "code",
   "execution_count": 35,
   "id": "0ff92fb2-1a59-458b-872a-405458cb72fd",
   "metadata": {},
   "outputs": [
    {
     "name": "stdout",
     "output_type": "stream",
     "text": [
      "WARNING:tensorflow:Keras is training/fitting/evaluating on array-like data. Keras may not be optimized for this format, so if your input data format is supported by TensorFlow I/O (https://github.com/tensorflow/io) we recommend using that to load a Dataset instead.\n",
      "Epoch 1/5\n"
     ]
    },
    {
     "name": "stderr",
     "output_type": "stream",
     "text": [
      "2023-12-10 10:28:48.169915: I tensorflow/core/grappler/optimizers/custom_graph_optimizer_registry.cc:117] Plugin optimizer for device_type GPU is enabled.\n"
     ]
    },
    {
     "name": "stdout",
     "output_type": "stream",
     "text": [
      "323/323 [==============================] - ETA: 0s - loss: 80.7041 - compiled_f1_score: 0.3188 - accuracy: 0.3858WARNING:tensorflow:Keras is training/fitting/evaluating on array-like data. Keras may not be optimized for this format, so if your input data format is supported by TensorFlow I/O (https://github.com/tensorflow/io) we recommend using that to load a Dataset instead.\n",
      "323/323 [==============================] - 238s 722ms/step - loss: 80.7041 - compiled_f1_score: 0.3188 - accuracy: 0.3858 - val_loss: 77.2077 - val_compiled_f1_score: 0.3591 - val_accuracy: 0.5043\n",
      "Epoch 2/5\n",
      "323/323 [==============================] - 230s 710ms/step - loss: 75.2857 - compiled_f1_score: 0.3772 - accuracy: 0.4707 - val_loss: 38.3922 - val_compiled_f1_score: 0.3898 - val_accuracy: 0.5037\n",
      "Epoch 3/5\n",
      "323/323 [==============================] - 230s 710ms/step - loss: 38.9724 - compiled_f1_score: 0.3972 - accuracy: 0.4899 - val_loss: 20.7380 - val_compiled_f1_score: 0.4051 - val_accuracy: 0.5205\n",
      "Epoch 4/5\n",
      "323/323 [==============================] - 229s 708ms/step - loss: 21.8914 - compiled_f1_score: 0.4125 - accuracy: 0.5236 - val_loss: 13.5520 - val_compiled_f1_score: 0.4197 - val_accuracy: 0.6313\n"
     ]
    },
    {
     "data": {
      "text/plain": [
       "<keras.src.callbacks.History at 0x2e4097610>"
      ]
     },
     "execution_count": 35,
     "metadata": {},
     "output_type": "execute_result"
    }
   ],
   "source": [
    "model_50d.compile(optimizer='adam', loss='BinaryCrossentropy', metrics=[compiled_f1_score, 'accuracy'])\n",
    "model_50d.fit(x_train, y_train, epochs=5, batch_size= 64, validation_data=( x_test, y_test), callbacks=[early_stopping])"
   ]
  },
  {
   "cell_type": "code",
   "execution_count": 36,
   "id": "f346752f-4a2b-4d89-bec3-5bbf796d230b",
   "metadata": {
    "scrolled": true
   },
   "outputs": [
    {
     "name": "stdout",
     "output_type": "stream",
     "text": [
      "WARNING:tensorflow:Keras is training/fitting/evaluating on array-like data. Keras may not be optimized for this format, so if your input data format is supported by TensorFlow I/O (https://github.com/tensorflow/io) we recommend using that to load a Dataset instead.\n",
      "Epoch 1/10\n",
      "323/323 [==============================] - ETA: 0s - loss: 15.4033 - compiled_f1_score: 0.4238 - accuracy: 0.4991WARNING:tensorflow:Keras is training/fitting/evaluating on array-like data. Keras may not be optimized for this format, so if your input data format is supported by TensorFlow I/O (https://github.com/tensorflow/io) we recommend using that to load a Dataset instead.\n",
      "323/323 [==============================] - 230s 709ms/step - loss: 15.4033 - compiled_f1_score: 0.4238 - accuracy: 0.4991 - val_loss: 11.3231 - val_compiled_f1_score: 0.4243 - val_accuracy: 0.3923\n",
      "Epoch 2/10\n",
      "323/323 [==============================] - 229s 706ms/step - loss: 11.2763 - compiled_f1_score: 0.4225 - accuracy: 0.4460 - val_loss: 8.6912 - val_compiled_f1_score: 0.4215 - val_accuracy: 0.4251\n",
      "Epoch 3/10\n",
      "323/323 [==============================] - 234s 722ms/step - loss: 9.8750 - compiled_f1_score: 0.4198 - accuracy: 0.4298 - val_loss: 7.5030 - val_compiled_f1_score: 0.4182 - val_accuracy: 0.4018\n",
      "Epoch 4/10\n",
      "323/323 [==============================] - 229s 708ms/step - loss: 7.3003 - compiled_f1_score: 0.4163 - accuracy: 0.3967 - val_loss: 7.2984 - val_compiled_f1_score: 0.4135 - val_accuracy: 0.4560\n",
      "Epoch 5/10\n",
      " 34/323 [==>...........................] - ETA: 3:08 - loss: 7.1251 - compiled_f1_score: 0.4131 - accuracy: 0.3911"
     ]
    },
    {
     "ename": "KeyboardInterrupt",
     "evalue": "",
     "output_type": "error",
     "traceback": [
      "\u001b[0;31m---------------------------------------------------------------------------\u001b[0m",
      "\u001b[0;31mKeyboardInterrupt\u001b[0m                         Traceback (most recent call last)",
      "Cell \u001b[0;32mIn[36], line 1\u001b[0m\n\u001b[0;32m----> 1\u001b[0m \u001b[43mmodel_50d\u001b[49m\u001b[38;5;241;43m.\u001b[39;49m\u001b[43mfit\u001b[49m\u001b[43m(\u001b[49m\u001b[43mx_train\u001b[49m\u001b[43m,\u001b[49m\u001b[43m \u001b[49m\u001b[43my_train\u001b[49m\u001b[43m,\u001b[49m\u001b[43m \u001b[49m\u001b[43mepochs\u001b[49m\u001b[38;5;241;43m=\u001b[39;49m\u001b[38;5;241;43m10\u001b[39;49m\u001b[43m,\u001b[49m\u001b[43m \u001b[49m\u001b[43mbatch_size\u001b[49m\u001b[38;5;241;43m=\u001b[39;49m\u001b[43m \u001b[49m\u001b[38;5;241;43m64\u001b[39;49m\u001b[43m,\u001b[49m\u001b[43m \u001b[49m\u001b[43mvalidation_data\u001b[49m\u001b[38;5;241;43m=\u001b[39;49m\u001b[43m(\u001b[49m\u001b[43m \u001b[49m\u001b[43mx_test\u001b[49m\u001b[43m,\u001b[49m\u001b[43m \u001b[49m\u001b[43my_test\u001b[49m\u001b[43m)\u001b[49m\u001b[43m,\u001b[49m\u001b[43m \u001b[49m\u001b[43mcallbacks\u001b[49m\u001b[38;5;241;43m=\u001b[39;49m\u001b[43m[\u001b[49m\u001b[43mearly_stopping\u001b[49m\u001b[43m]\u001b[49m\u001b[43m)\u001b[49m\n",
      "File \u001b[0;32m~/anaconda3/envs/env2/lib/python3.10/site-packages/keras/src/utils/traceback_utils.py:65\u001b[0m, in \u001b[0;36mfilter_traceback.<locals>.error_handler\u001b[0;34m(*args, **kwargs)\u001b[0m\n\u001b[1;32m     63\u001b[0m filtered_tb \u001b[38;5;241m=\u001b[39m \u001b[38;5;28;01mNone\u001b[39;00m\n\u001b[1;32m     64\u001b[0m \u001b[38;5;28;01mtry\u001b[39;00m:\n\u001b[0;32m---> 65\u001b[0m     \u001b[38;5;28;01mreturn\u001b[39;00m \u001b[43mfn\u001b[49m\u001b[43m(\u001b[49m\u001b[38;5;241;43m*\u001b[39;49m\u001b[43margs\u001b[49m\u001b[43m,\u001b[49m\u001b[43m \u001b[49m\u001b[38;5;241;43m*\u001b[39;49m\u001b[38;5;241;43m*\u001b[39;49m\u001b[43mkwargs\u001b[49m\u001b[43m)\u001b[49m\n\u001b[1;32m     66\u001b[0m \u001b[38;5;28;01mexcept\u001b[39;00m \u001b[38;5;167;01mException\u001b[39;00m \u001b[38;5;28;01mas\u001b[39;00m e:\n\u001b[1;32m     67\u001b[0m     filtered_tb \u001b[38;5;241m=\u001b[39m _process_traceback_frames(e\u001b[38;5;241m.\u001b[39m__traceback__)\n",
      "File \u001b[0;32m~/anaconda3/envs/env2/lib/python3.10/site-packages/keras/src/engine/training.py:1813\u001b[0m, in \u001b[0;36mModel.fit\u001b[0;34m(self, x, y, batch_size, epochs, verbose, callbacks, validation_split, validation_data, shuffle, class_weight, sample_weight, initial_epoch, steps_per_epoch, validation_steps, validation_batch_size, validation_freq, max_queue_size, workers, use_multiprocessing)\u001b[0m\n\u001b[1;32m   1811\u001b[0m logs \u001b[38;5;241m=\u001b[39m tmp_logs\n\u001b[1;32m   1812\u001b[0m end_step \u001b[38;5;241m=\u001b[39m step \u001b[38;5;241m+\u001b[39m data_handler\u001b[38;5;241m.\u001b[39mstep_increment\n\u001b[0;32m-> 1813\u001b[0m \u001b[43mcallbacks\u001b[49m\u001b[38;5;241;43m.\u001b[39;49m\u001b[43mon_train_batch_end\u001b[49m\u001b[43m(\u001b[49m\u001b[43mend_step\u001b[49m\u001b[43m,\u001b[49m\u001b[43m \u001b[49m\u001b[43mlogs\u001b[49m\u001b[43m)\u001b[49m\n\u001b[1;32m   1814\u001b[0m \u001b[38;5;28;01mif\u001b[39;00m \u001b[38;5;28mself\u001b[39m\u001b[38;5;241m.\u001b[39mstop_training:\n\u001b[1;32m   1815\u001b[0m     \u001b[38;5;28;01mbreak\u001b[39;00m\n",
      "File \u001b[0;32m~/anaconda3/envs/env2/lib/python3.10/site-packages/keras/src/callbacks.py:475\u001b[0m, in \u001b[0;36mCallbackList.on_train_batch_end\u001b[0;34m(self, batch, logs)\u001b[0m\n\u001b[1;32m    468\u001b[0m \u001b[38;5;250m\u001b[39m\u001b[38;5;124;03m\"\"\"Calls the `on_train_batch_end` methods of its callbacks.\u001b[39;00m\n\u001b[1;32m    469\u001b[0m \n\u001b[1;32m    470\u001b[0m \u001b[38;5;124;03mArgs:\u001b[39;00m\n\u001b[1;32m    471\u001b[0m \u001b[38;5;124;03m    batch: Integer, index of batch within the current epoch.\u001b[39;00m\n\u001b[1;32m    472\u001b[0m \u001b[38;5;124;03m    logs: Dict. Aggregated metric results up until this batch.\u001b[39;00m\n\u001b[1;32m    473\u001b[0m \u001b[38;5;124;03m\"\"\"\u001b[39;00m\n\u001b[1;32m    474\u001b[0m \u001b[38;5;28;01mif\u001b[39;00m \u001b[38;5;28mself\u001b[39m\u001b[38;5;241m.\u001b[39m_should_call_train_batch_hooks:\n\u001b[0;32m--> 475\u001b[0m     \u001b[38;5;28;43mself\u001b[39;49m\u001b[38;5;241;43m.\u001b[39;49m\u001b[43m_call_batch_hook\u001b[49m\u001b[43m(\u001b[49m\u001b[43mModeKeys\u001b[49m\u001b[38;5;241;43m.\u001b[39;49m\u001b[43mTRAIN\u001b[49m\u001b[43m,\u001b[49m\u001b[43m \u001b[49m\u001b[38;5;124;43m\"\u001b[39;49m\u001b[38;5;124;43mend\u001b[39;49m\u001b[38;5;124;43m\"\u001b[39;49m\u001b[43m,\u001b[49m\u001b[43m \u001b[49m\u001b[43mbatch\u001b[49m\u001b[43m,\u001b[49m\u001b[43m \u001b[49m\u001b[43mlogs\u001b[49m\u001b[38;5;241;43m=\u001b[39;49m\u001b[43mlogs\u001b[49m\u001b[43m)\u001b[49m\n",
      "File \u001b[0;32m~/anaconda3/envs/env2/lib/python3.10/site-packages/keras/src/callbacks.py:322\u001b[0m, in \u001b[0;36mCallbackList._call_batch_hook\u001b[0;34m(self, mode, hook, batch, logs)\u001b[0m\n\u001b[1;32m    320\u001b[0m     \u001b[38;5;28mself\u001b[39m\u001b[38;5;241m.\u001b[39m_call_batch_begin_hook(mode, batch, logs)\n\u001b[1;32m    321\u001b[0m \u001b[38;5;28;01melif\u001b[39;00m hook \u001b[38;5;241m==\u001b[39m \u001b[38;5;124m\"\u001b[39m\u001b[38;5;124mend\u001b[39m\u001b[38;5;124m\"\u001b[39m:\n\u001b[0;32m--> 322\u001b[0m     \u001b[38;5;28;43mself\u001b[39;49m\u001b[38;5;241;43m.\u001b[39;49m\u001b[43m_call_batch_end_hook\u001b[49m\u001b[43m(\u001b[49m\u001b[43mmode\u001b[49m\u001b[43m,\u001b[49m\u001b[43m \u001b[49m\u001b[43mbatch\u001b[49m\u001b[43m,\u001b[49m\u001b[43m \u001b[49m\u001b[43mlogs\u001b[49m\u001b[43m)\u001b[49m\n\u001b[1;32m    323\u001b[0m \u001b[38;5;28;01melse\u001b[39;00m:\n\u001b[1;32m    324\u001b[0m     \u001b[38;5;28;01mraise\u001b[39;00m \u001b[38;5;167;01mValueError\u001b[39;00m(\n\u001b[1;32m    325\u001b[0m         \u001b[38;5;124mf\u001b[39m\u001b[38;5;124m\"\u001b[39m\u001b[38;5;124mUnrecognized hook: \u001b[39m\u001b[38;5;132;01m{\u001b[39;00mhook\u001b[38;5;132;01m}\u001b[39;00m\u001b[38;5;124m. \u001b[39m\u001b[38;5;124m\"\u001b[39m\n\u001b[1;32m    326\u001b[0m         \u001b[38;5;124m'\u001b[39m\u001b[38;5;124mExpected values are [\u001b[39m\u001b[38;5;124m\"\u001b[39m\u001b[38;5;124mbegin\u001b[39m\u001b[38;5;124m\"\u001b[39m\u001b[38;5;124m, \u001b[39m\u001b[38;5;124m\"\u001b[39m\u001b[38;5;124mend\u001b[39m\u001b[38;5;124m\"\u001b[39m\u001b[38;5;124m]\u001b[39m\u001b[38;5;124m'\u001b[39m\n\u001b[1;32m    327\u001b[0m     )\n",
      "File \u001b[0;32m~/anaconda3/envs/env2/lib/python3.10/site-packages/keras/src/callbacks.py:345\u001b[0m, in \u001b[0;36mCallbackList._call_batch_end_hook\u001b[0;34m(self, mode, batch, logs)\u001b[0m\n\u001b[1;32m    342\u001b[0m     batch_time \u001b[38;5;241m=\u001b[39m time\u001b[38;5;241m.\u001b[39mtime() \u001b[38;5;241m-\u001b[39m \u001b[38;5;28mself\u001b[39m\u001b[38;5;241m.\u001b[39m_batch_start_time\n\u001b[1;32m    343\u001b[0m     \u001b[38;5;28mself\u001b[39m\u001b[38;5;241m.\u001b[39m_batch_times\u001b[38;5;241m.\u001b[39mappend(batch_time)\n\u001b[0;32m--> 345\u001b[0m \u001b[38;5;28;43mself\u001b[39;49m\u001b[38;5;241;43m.\u001b[39;49m\u001b[43m_call_batch_hook_helper\u001b[49m\u001b[43m(\u001b[49m\u001b[43mhook_name\u001b[49m\u001b[43m,\u001b[49m\u001b[43m \u001b[49m\u001b[43mbatch\u001b[49m\u001b[43m,\u001b[49m\u001b[43m \u001b[49m\u001b[43mlogs\u001b[49m\u001b[43m)\u001b[49m\n\u001b[1;32m    347\u001b[0m \u001b[38;5;28;01mif\u001b[39;00m \u001b[38;5;28mlen\u001b[39m(\u001b[38;5;28mself\u001b[39m\u001b[38;5;241m.\u001b[39m_batch_times) \u001b[38;5;241m>\u001b[39m\u001b[38;5;241m=\u001b[39m \u001b[38;5;28mself\u001b[39m\u001b[38;5;241m.\u001b[39m_num_batches_for_timing_check:\n\u001b[1;32m    348\u001b[0m     end_hook_name \u001b[38;5;241m=\u001b[39m hook_name\n",
      "File \u001b[0;32m~/anaconda3/envs/env2/lib/python3.10/site-packages/keras/src/callbacks.py:393\u001b[0m, in \u001b[0;36mCallbackList._call_batch_hook_helper\u001b[0;34m(self, hook_name, batch, logs)\u001b[0m\n\u001b[1;32m    391\u001b[0m \u001b[38;5;28;01mfor\u001b[39;00m callback \u001b[38;5;129;01min\u001b[39;00m \u001b[38;5;28mself\u001b[39m\u001b[38;5;241m.\u001b[39mcallbacks:\n\u001b[1;32m    392\u001b[0m     hook \u001b[38;5;241m=\u001b[39m \u001b[38;5;28mgetattr\u001b[39m(callback, hook_name)\n\u001b[0;32m--> 393\u001b[0m     \u001b[43mhook\u001b[49m\u001b[43m(\u001b[49m\u001b[43mbatch\u001b[49m\u001b[43m,\u001b[49m\u001b[43m \u001b[49m\u001b[43mlogs\u001b[49m\u001b[43m)\u001b[49m\n\u001b[1;32m    395\u001b[0m \u001b[38;5;28;01mif\u001b[39;00m \u001b[38;5;28mself\u001b[39m\u001b[38;5;241m.\u001b[39m_check_timing:\n\u001b[1;32m    396\u001b[0m     \u001b[38;5;28;01mif\u001b[39;00m hook_name \u001b[38;5;129;01mnot\u001b[39;00m \u001b[38;5;129;01min\u001b[39;00m \u001b[38;5;28mself\u001b[39m\u001b[38;5;241m.\u001b[39m_hook_times:\n",
      "File \u001b[0;32m~/anaconda3/envs/env2/lib/python3.10/site-packages/keras/src/callbacks.py:1093\u001b[0m, in \u001b[0;36mProgbarLogger.on_train_batch_end\u001b[0;34m(self, batch, logs)\u001b[0m\n\u001b[1;32m   1092\u001b[0m \u001b[38;5;28;01mdef\u001b[39;00m \u001b[38;5;21mon_train_batch_end\u001b[39m(\u001b[38;5;28mself\u001b[39m, batch, logs\u001b[38;5;241m=\u001b[39m\u001b[38;5;28;01mNone\u001b[39;00m):\n\u001b[0;32m-> 1093\u001b[0m     \u001b[38;5;28;43mself\u001b[39;49m\u001b[38;5;241;43m.\u001b[39;49m\u001b[43m_batch_update_progbar\u001b[49m\u001b[43m(\u001b[49m\u001b[43mbatch\u001b[49m\u001b[43m,\u001b[49m\u001b[43m \u001b[49m\u001b[43mlogs\u001b[49m\u001b[43m)\u001b[49m\n",
      "File \u001b[0;32m~/anaconda3/envs/env2/lib/python3.10/site-packages/keras/src/callbacks.py:1169\u001b[0m, in \u001b[0;36mProgbarLogger._batch_update_progbar\u001b[0;34m(self, batch, logs)\u001b[0m\n\u001b[1;32m   1165\u001b[0m     \u001b[38;5;28mself\u001b[39m\u001b[38;5;241m.\u001b[39mseen \u001b[38;5;241m+\u001b[39m\u001b[38;5;241m=\u001b[39m add_seen\n\u001b[1;32m   1167\u001b[0m \u001b[38;5;28;01mif\u001b[39;00m \u001b[38;5;28mself\u001b[39m\u001b[38;5;241m.\u001b[39mverbose \u001b[38;5;241m==\u001b[39m \u001b[38;5;241m1\u001b[39m:\n\u001b[1;32m   1168\u001b[0m     \u001b[38;5;66;03m# Only block async when verbose = 1.\u001b[39;00m\n\u001b[0;32m-> 1169\u001b[0m     logs \u001b[38;5;241m=\u001b[39m \u001b[43mtf_utils\u001b[49m\u001b[38;5;241;43m.\u001b[39;49m\u001b[43msync_to_numpy_or_python_type\u001b[49m\u001b[43m(\u001b[49m\u001b[43mlogs\u001b[49m\u001b[43m)\u001b[49m\n\u001b[1;32m   1170\u001b[0m     \u001b[38;5;28mself\u001b[39m\u001b[38;5;241m.\u001b[39mprogbar\u001b[38;5;241m.\u001b[39mupdate(\u001b[38;5;28mself\u001b[39m\u001b[38;5;241m.\u001b[39mseen, \u001b[38;5;28mlist\u001b[39m(logs\u001b[38;5;241m.\u001b[39mitems()), finalize\u001b[38;5;241m=\u001b[39m\u001b[38;5;28;01mFalse\u001b[39;00m)\n",
      "File \u001b[0;32m~/anaconda3/envs/env2/lib/python3.10/site-packages/keras/src/utils/tf_utils.py:694\u001b[0m, in \u001b[0;36msync_to_numpy_or_python_type\u001b[0;34m(tensors)\u001b[0m\n\u001b[1;32m    691\u001b[0m         \u001b[38;5;28;01mreturn\u001b[39;00m t\n\u001b[1;32m    692\u001b[0m     \u001b[38;5;28;01mreturn\u001b[39;00m t\u001b[38;5;241m.\u001b[39mitem() \u001b[38;5;28;01mif\u001b[39;00m np\u001b[38;5;241m.\u001b[39mndim(t) \u001b[38;5;241m==\u001b[39m \u001b[38;5;241m0\u001b[39m \u001b[38;5;28;01melse\u001b[39;00m t\n\u001b[0;32m--> 694\u001b[0m \u001b[38;5;28;01mreturn\u001b[39;00m \u001b[43mtf\u001b[49m\u001b[38;5;241;43m.\u001b[39;49m\u001b[43mnest\u001b[49m\u001b[38;5;241;43m.\u001b[39;49m\u001b[43mmap_structure\u001b[49m\u001b[43m(\u001b[49m\u001b[43m_to_single_numpy_or_python_type\u001b[49m\u001b[43m,\u001b[49m\u001b[43m \u001b[49m\u001b[43mtensors\u001b[49m\u001b[43m)\u001b[49m\n",
      "File \u001b[0;32m~/anaconda3/envs/env2/lib/python3.10/site-packages/tensorflow/python/util/nest.py:631\u001b[0m, in \u001b[0;36mmap_structure\u001b[0;34m(func, *structure, **kwargs)\u001b[0m\n\u001b[1;32m    545\u001b[0m \u001b[38;5;129m@tf_export\u001b[39m(\u001b[38;5;124m\"\u001b[39m\u001b[38;5;124mnest.map_structure\u001b[39m\u001b[38;5;124m\"\u001b[39m)\n\u001b[1;32m    546\u001b[0m \u001b[38;5;28;01mdef\u001b[39;00m \u001b[38;5;21mmap_structure\u001b[39m(func, \u001b[38;5;241m*\u001b[39mstructure, \u001b[38;5;241m*\u001b[39m\u001b[38;5;241m*\u001b[39mkwargs):\n\u001b[1;32m    547\u001b[0m \u001b[38;5;250m  \u001b[39m\u001b[38;5;124;03m\"\"\"Creates a new structure by applying `func` to each atom in `structure`.\u001b[39;00m\n\u001b[1;32m    548\u001b[0m \n\u001b[1;32m    549\u001b[0m \u001b[38;5;124;03m  Refer to [tf.nest](https://www.tensorflow.org/api_docs/python/tf/nest)\u001b[39;00m\n\u001b[0;32m   (...)\u001b[0m\n\u001b[1;32m    629\u001b[0m \u001b[38;5;124;03m    ValueError: If wrong keyword arguments are provided.\u001b[39;00m\n\u001b[1;32m    630\u001b[0m \u001b[38;5;124;03m  \"\"\"\u001b[39;00m\n\u001b[0;32m--> 631\u001b[0m   \u001b[38;5;28;01mreturn\u001b[39;00m \u001b[43mnest_util\u001b[49m\u001b[38;5;241;43m.\u001b[39;49m\u001b[43mmap_structure\u001b[49m\u001b[43m(\u001b[49m\n\u001b[1;32m    632\u001b[0m \u001b[43m      \u001b[49m\u001b[43mnest_util\u001b[49m\u001b[38;5;241;43m.\u001b[39;49m\u001b[43mModality\u001b[49m\u001b[38;5;241;43m.\u001b[39;49m\u001b[43mCORE\u001b[49m\u001b[43m,\u001b[49m\u001b[43m \u001b[49m\u001b[43mfunc\u001b[49m\u001b[43m,\u001b[49m\u001b[43m \u001b[49m\u001b[38;5;241;43m*\u001b[39;49m\u001b[43mstructure\u001b[49m\u001b[43m,\u001b[49m\u001b[43m \u001b[49m\u001b[38;5;241;43m*\u001b[39;49m\u001b[38;5;241;43m*\u001b[39;49m\u001b[43mkwargs\u001b[49m\n\u001b[1;32m    633\u001b[0m \u001b[43m  \u001b[49m\u001b[43m)\u001b[49m\n",
      "File \u001b[0;32m~/anaconda3/envs/env2/lib/python3.10/site-packages/tensorflow/python/util/nest_util.py:1066\u001b[0m, in \u001b[0;36mmap_structure\u001b[0;34m(modality, func, *structure, **kwargs)\u001b[0m\n\u001b[1;32m    969\u001b[0m \u001b[38;5;250m\u001b[39m\u001b[38;5;124;03m\"\"\"Creates a new structure by applying `func` to each atom in `structure`.\u001b[39;00m\n\u001b[1;32m    970\u001b[0m \n\u001b[1;32m    971\u001b[0m \u001b[38;5;124;03m- For Modality.CORE: Refer to\u001b[39;00m\n\u001b[0;32m   (...)\u001b[0m\n\u001b[1;32m   1063\u001b[0m \u001b[38;5;124;03m  ValueError: If wrong keyword arguments are provided.\u001b[39;00m\n\u001b[1;32m   1064\u001b[0m \u001b[38;5;124;03m\"\"\"\u001b[39;00m\n\u001b[1;32m   1065\u001b[0m \u001b[38;5;28;01mif\u001b[39;00m modality \u001b[38;5;241m==\u001b[39m Modality\u001b[38;5;241m.\u001b[39mCORE:\n\u001b[0;32m-> 1066\u001b[0m   \u001b[38;5;28;01mreturn\u001b[39;00m \u001b[43m_tf_core_map_structure\u001b[49m\u001b[43m(\u001b[49m\u001b[43mfunc\u001b[49m\u001b[43m,\u001b[49m\u001b[43m \u001b[49m\u001b[38;5;241;43m*\u001b[39;49m\u001b[43mstructure\u001b[49m\u001b[43m,\u001b[49m\u001b[43m \u001b[49m\u001b[38;5;241;43m*\u001b[39;49m\u001b[38;5;241;43m*\u001b[39;49m\u001b[43mkwargs\u001b[49m\u001b[43m)\u001b[49m\n\u001b[1;32m   1067\u001b[0m \u001b[38;5;28;01melif\u001b[39;00m modality \u001b[38;5;241m==\u001b[39m Modality\u001b[38;5;241m.\u001b[39mDATA:\n\u001b[1;32m   1068\u001b[0m   \u001b[38;5;28;01mreturn\u001b[39;00m _tf_data_map_structure(func, \u001b[38;5;241m*\u001b[39mstructure, \u001b[38;5;241m*\u001b[39m\u001b[38;5;241m*\u001b[39mkwargs)\n",
      "File \u001b[0;32m~/anaconda3/envs/env2/lib/python3.10/site-packages/tensorflow/python/util/nest_util.py:1106\u001b[0m, in \u001b[0;36m_tf_core_map_structure\u001b[0;34m(func, *structure, **kwargs)\u001b[0m\n\u001b[1;32m   1101\u001b[0m flat_structure \u001b[38;5;241m=\u001b[39m (_tf_core_flatten(s, expand_composites) \u001b[38;5;28;01mfor\u001b[39;00m s \u001b[38;5;129;01min\u001b[39;00m structure)\n\u001b[1;32m   1102\u001b[0m entries \u001b[38;5;241m=\u001b[39m \u001b[38;5;28mzip\u001b[39m(\u001b[38;5;241m*\u001b[39mflat_structure)\n\u001b[1;32m   1104\u001b[0m \u001b[38;5;28;01mreturn\u001b[39;00m _tf_core_pack_sequence_as(\n\u001b[1;32m   1105\u001b[0m     structure[\u001b[38;5;241m0\u001b[39m],\n\u001b[0;32m-> 1106\u001b[0m     [func(\u001b[38;5;241m*\u001b[39mx) \u001b[38;5;28;01mfor\u001b[39;00m x \u001b[38;5;129;01min\u001b[39;00m entries],\n\u001b[1;32m   1107\u001b[0m     expand_composites\u001b[38;5;241m=\u001b[39mexpand_composites,\n\u001b[1;32m   1108\u001b[0m )\n",
      "File \u001b[0;32m~/anaconda3/envs/env2/lib/python3.10/site-packages/tensorflow/python/util/nest_util.py:1106\u001b[0m, in \u001b[0;36m<listcomp>\u001b[0;34m(.0)\u001b[0m\n\u001b[1;32m   1101\u001b[0m flat_structure \u001b[38;5;241m=\u001b[39m (_tf_core_flatten(s, expand_composites) \u001b[38;5;28;01mfor\u001b[39;00m s \u001b[38;5;129;01min\u001b[39;00m structure)\n\u001b[1;32m   1102\u001b[0m entries \u001b[38;5;241m=\u001b[39m \u001b[38;5;28mzip\u001b[39m(\u001b[38;5;241m*\u001b[39mflat_structure)\n\u001b[1;32m   1104\u001b[0m \u001b[38;5;28;01mreturn\u001b[39;00m _tf_core_pack_sequence_as(\n\u001b[1;32m   1105\u001b[0m     structure[\u001b[38;5;241m0\u001b[39m],\n\u001b[0;32m-> 1106\u001b[0m     [\u001b[43mfunc\u001b[49m\u001b[43m(\u001b[49m\u001b[38;5;241;43m*\u001b[39;49m\u001b[43mx\u001b[49m\u001b[43m)\u001b[49m \u001b[38;5;28;01mfor\u001b[39;00m x \u001b[38;5;129;01min\u001b[39;00m entries],\n\u001b[1;32m   1107\u001b[0m     expand_composites\u001b[38;5;241m=\u001b[39mexpand_composites,\n\u001b[1;32m   1108\u001b[0m )\n",
      "File \u001b[0;32m~/anaconda3/envs/env2/lib/python3.10/site-packages/keras/src/utils/tf_utils.py:687\u001b[0m, in \u001b[0;36msync_to_numpy_or_python_type.<locals>._to_single_numpy_or_python_type\u001b[0;34m(t)\u001b[0m\n\u001b[1;32m    684\u001b[0m \u001b[38;5;28;01mdef\u001b[39;00m \u001b[38;5;21m_to_single_numpy_or_python_type\u001b[39m(t):\n\u001b[1;32m    685\u001b[0m     \u001b[38;5;66;03m# Don't turn ragged or sparse tensors to NumPy.\u001b[39;00m\n\u001b[1;32m    686\u001b[0m     \u001b[38;5;28;01mif\u001b[39;00m \u001b[38;5;28misinstance\u001b[39m(t, tf\u001b[38;5;241m.\u001b[39mTensor):\n\u001b[0;32m--> 687\u001b[0m         t \u001b[38;5;241m=\u001b[39m \u001b[43mt\u001b[49m\u001b[38;5;241;43m.\u001b[39;49m\u001b[43mnumpy\u001b[49m\u001b[43m(\u001b[49m\u001b[43m)\u001b[49m\n\u001b[1;32m    688\u001b[0m     \u001b[38;5;66;03m# Strings, ragged and sparse tensors don't have .item(). Return them\u001b[39;00m\n\u001b[1;32m    689\u001b[0m     \u001b[38;5;66;03m# as-is.\u001b[39;00m\n\u001b[1;32m    690\u001b[0m     \u001b[38;5;28;01mif\u001b[39;00m \u001b[38;5;129;01mnot\u001b[39;00m \u001b[38;5;28misinstance\u001b[39m(t, (np\u001b[38;5;241m.\u001b[39mndarray, np\u001b[38;5;241m.\u001b[39mgeneric)):\n",
      "File \u001b[0;32m~/anaconda3/envs/env2/lib/python3.10/site-packages/tensorflow/python/framework/ops.py:394\u001b[0m, in \u001b[0;36m_EagerTensorBase.numpy\u001b[0;34m(self)\u001b[0m\n\u001b[1;32m    371\u001b[0m \u001b[38;5;250m\u001b[39m\u001b[38;5;124;03m\"\"\"Copy of the contents of this Tensor into a NumPy array or scalar.\u001b[39;00m\n\u001b[1;32m    372\u001b[0m \n\u001b[1;32m    373\u001b[0m \u001b[38;5;124;03mUnlike NumPy arrays, Tensors are immutable, so this method has to copy\u001b[39;00m\n\u001b[0;32m   (...)\u001b[0m\n\u001b[1;32m    391\u001b[0m \u001b[38;5;124;03m    NumPy dtype.\u001b[39;00m\n\u001b[1;32m    392\u001b[0m \u001b[38;5;124;03m\"\"\"\u001b[39;00m\n\u001b[1;32m    393\u001b[0m \u001b[38;5;66;03m# TODO(slebedev): Consider avoiding a copy for non-CPU or remote tensors.\u001b[39;00m\n\u001b[0;32m--> 394\u001b[0m maybe_arr \u001b[38;5;241m=\u001b[39m \u001b[38;5;28;43mself\u001b[39;49m\u001b[38;5;241;43m.\u001b[39;49m\u001b[43m_numpy\u001b[49m\u001b[43m(\u001b[49m\u001b[43m)\u001b[49m  \u001b[38;5;66;03m# pylint: disable=protected-access\u001b[39;00m\n\u001b[1;32m    395\u001b[0m \u001b[38;5;28;01mreturn\u001b[39;00m maybe_arr\u001b[38;5;241m.\u001b[39mcopy() \u001b[38;5;28;01mif\u001b[39;00m \u001b[38;5;28misinstance\u001b[39m(maybe_arr, np\u001b[38;5;241m.\u001b[39mndarray) \u001b[38;5;28;01melse\u001b[39;00m maybe_arr\n",
      "File \u001b[0;32m~/anaconda3/envs/env2/lib/python3.10/site-packages/tensorflow/python/framework/ops.py:360\u001b[0m, in \u001b[0;36m_EagerTensorBase._numpy\u001b[0;34m(self)\u001b[0m\n\u001b[1;32m    358\u001b[0m \u001b[38;5;28;01mdef\u001b[39;00m \u001b[38;5;21m_numpy\u001b[39m(\u001b[38;5;28mself\u001b[39m):\n\u001b[1;32m    359\u001b[0m   \u001b[38;5;28;01mtry\u001b[39;00m:\n\u001b[0;32m--> 360\u001b[0m     \u001b[38;5;28;01mreturn\u001b[39;00m \u001b[38;5;28;43mself\u001b[39;49m\u001b[38;5;241;43m.\u001b[39;49m\u001b[43m_numpy_internal\u001b[49m\u001b[43m(\u001b[49m\u001b[43m)\u001b[49m\n\u001b[1;32m    361\u001b[0m   \u001b[38;5;28;01mexcept\u001b[39;00m core\u001b[38;5;241m.\u001b[39m_NotOkStatusException \u001b[38;5;28;01mas\u001b[39;00m e:  \u001b[38;5;66;03m# pylint: disable=protected-access\u001b[39;00m\n\u001b[1;32m    362\u001b[0m     \u001b[38;5;28;01mraise\u001b[39;00m core\u001b[38;5;241m.\u001b[39m_status_to_exception(e) \u001b[38;5;28;01mfrom\u001b[39;00m \u001b[38;5;28;01mNone\u001b[39;00m\n",
      "\u001b[0;31mKeyboardInterrupt\u001b[0m: "
     ]
    }
   ],
   "source": [
    "model_50d.fit(x_train, y_train, epochs=10, batch_size= 64, validation_data=( x_test, y_test), callbacks=[early_stopping])"
   ]
  },
  {
   "cell_type": "code",
   "execution_count": 38,
   "id": "1a4f20cd-c05d-4fd6-9c32-681265152500",
   "metadata": {
    "scrolled": true
   },
   "outputs": [
    {
     "data": {
      "text/plain": [
       "array([[0, 0, 0, ..., 0, 0, 0],\n",
       "       [0, 1, 0, ..., 0, 0, 0],\n",
       "       [0, 0, 0, ..., 0, 0, 0],\n",
       "       ...,\n",
       "       [0, 1, 0, ..., 0, 0, 0],\n",
       "       [0, 0, 0, ..., 0, 0, 0],\n",
       "       [0, 1, 0, ..., 0, 0, 0]])"
      ]
     },
     "execution_count": 38,
     "metadata": {},
     "output_type": "execute_result"
    }
   ],
   "source": [
    "y_pred = model_50d.predict(x_test)\n",
    "y_pred = (y_pred > 0.5).astype(int)\n",
    "y_pred"
   ]
  },
  {
   "cell_type": "code",
   "execution_count": 42,
   "id": "6ea009fd-10b4-40ae-811f-3a8c386a9f0d",
   "metadata": {},
   "outputs": [
    {
     "name": "stdout",
     "output_type": "stream",
     "text": [
      "              precision    recall  f1-score   support\n",
      "\n",
      "           0       0.42      0.55      0.48       608\n",
      "           1       0.84      0.80      0.82      2454\n",
      "           2       0.00      0.00      0.00      1213\n",
      "           3       0.00      0.00      0.00       873\n",
      "           4       0.00      0.00      0.00       560\n",
      "           5       0.23      1.00      0.37      1128\n",
      "           6       0.00      0.00      0.00       884\n",
      "           7       0.00      0.00      0.00       707\n",
      "           8       0.00      0.00      0.00       364\n",
      "           9       0.00      0.00      0.00       387\n",
      "\n",
      "   micro avg       0.43      0.37      0.40      9178\n",
      "   macro avg       0.15      0.24      0.17      9178\n",
      "weighted avg       0.28      0.37      0.30      9178\n",
      " samples avg       0.34      0.34      0.32      9178\n",
      "\n"
     ]
    },
    {
     "name": "stderr",
     "output_type": "stream",
     "text": [
      "/Users/nikhilkudupudi/anaconda3/envs/env2/lib/python3.10/site-packages/sklearn/metrics/_classification.py:1471: UndefinedMetricWarning: Precision and F-score are ill-defined and being set to 0.0 in labels with no predicted samples. Use `zero_division` parameter to control this behavior.\n",
      "  _warn_prf(average, modifier, msg_start, len(result))\n",
      "/Users/nikhilkudupudi/anaconda3/envs/env2/lib/python3.10/site-packages/sklearn/metrics/_classification.py:1471: UndefinedMetricWarning: Precision and F-score are ill-defined and being set to 0.0 in samples with no predicted labels. Use `zero_division` parameter to control this behavior.\n",
      "  _warn_prf(average, modifier, msg_start, len(result))\n"
     ]
    }
   ],
   "source": [
    "print(classification_report(y_test,y_pred))"
   ]
  },
  {
   "cell_type": "code",
   "execution_count": null,
   "id": "1e522d94-9d2b-4599-925f-a92fa0384148",
   "metadata": {},
   "outputs": [],
   "source": []
  },
  {
   "cell_type": "code",
   "execution_count": 44,
   "id": "7bb1b9f7-88ae-46b0-a55e-0272b7f87fb8",
   "metadata": {},
   "outputs": [
    {
     "name": "stderr",
     "output_type": "stream",
     "text": [
      "/Users/nikhilkudupudi/anaconda3/envs/env2/lib/python3.10/site-packages/keras/src/engine/training.py:3103: UserWarning: You are saving your model as an HDF5 file via `model.save()`. This file format is considered legacy. We recommend using instead the native Keras format, e.g. `model.save('my_model.keras')`.\n",
      "  saving_api.save_model(\n"
     ]
    }
   ],
   "source": [
    "model_50d.save('LSTM_model_50d.h5')"
   ]
  },
  {
   "cell_type": "markdown",
   "id": "febe356a-0c42-4ae8-bcec-f6c54ee3f5d5",
   "metadata": {},
   "source": [
    "## Model trained on 150D vectors "
   ]
  },
  {
   "cell_type": "code",
   "execution_count": 16,
   "id": "e24c28c5-314b-458b-9561-3c5a9fe1687a",
   "metadata": {},
   "outputs": [
    {
     "name": "stderr",
     "output_type": "stream",
     "text": [
      "2023-12-10 12:10:22.244407: I metal_plugin/src/device/metal_device.cc:1154] Metal device set to: Apple M2 Pro\n",
      "2023-12-10 12:10:22.244742: I metal_plugin/src/device/metal_device.cc:296] systemMemory: 16.00 GB\n",
      "2023-12-10 12:10:22.244754: I metal_plugin/src/device/metal_device.cc:313] maxCacheSize: 5.33 GB\n",
      "2023-12-10 12:10:22.245240: I tensorflow/core/common_runtime/pluggable_device/pluggable_device_factory.cc:306] Could not identify NUMA node of platform GPU ID 0, defaulting to 0. Your kernel may not have been built with NUMA support.\n",
      "2023-12-10 12:10:22.245538: I tensorflow/core/common_runtime/pluggable_device/pluggable_device_factory.cc:272] Created TensorFlow device (/job:localhost/replica:0/task:0/device:GPU:0 with 0 MB memory) -> physical PluggableDevice (device: 0, name: METAL, pci bus id: <undefined>)\n"
     ]
    },
    {
     "name": "stdout",
     "output_type": "stream",
     "text": [
      "Model: \"sequential\"\n",
      "_________________________________________________________________\n",
      " Layer (type)                Output Shape              Param #   \n",
      "=================================================================\n",
      " bidirectional (Bidirection  (None, 1499, 256)         285696    \n",
      " al)                                                             \n",
      "                                                                 \n",
      " batch_normalization (Batch  (None, 1499, 256)         1024      \n",
      " Normalization)                                                  \n",
      "                                                                 \n",
      " dropout (Dropout)           (None, 1499, 256)         0         \n",
      "                                                                 \n",
      " bidirectional_1 (Bidirecti  (None, 1499, 512)         1050624   \n",
      " onal)                                                           \n",
      "                                                                 \n",
      " batch_normalization_1 (Bat  (None, 1499, 512)         2048      \n",
      " chNormalization)                                                \n",
      "                                                                 \n",
      " dropout_1 (Dropout)         (None, 1499, 512)         0         \n",
      "                                                                 \n",
      " bidirectional_2 (Bidirecti  (None, 1499, 512)         1574912   \n",
      " onal)                                                           \n",
      "                                                                 \n",
      " batch_normalization_2 (Bat  (None, 1499, 512)         2048      \n",
      " chNormalization)                                                \n",
      "                                                                 \n",
      " dropout_2 (Dropout)         (None, 1499, 512)         0         \n",
      "                                                                 \n",
      " lstm_3 (LSTM)               (None, 128)               328192    \n",
      "                                                                 \n",
      " dropout_3 (Dropout)         (None, 128)               0         \n",
      "                                                                 \n",
      " flatten (Flatten)           (None, 128)               0         \n",
      "                                                                 \n",
      " dense (Dense)               (None, 128)               16512     \n",
      "                                                                 \n",
      " batch_normalization_3 (Bat  (None, 128)               512       \n",
      " chNormalization)                                                \n",
      "                                                                 \n",
      " dropout_4 (Dropout)         (None, 128)               0         \n",
      "                                                                 \n",
      " dense_1 (Dense)             (None, 32)                4128      \n",
      "                                                                 \n",
      " dropout_5 (Dropout)         (None, 32)                0         \n",
      "                                                                 \n",
      " dense_2 (Dense)             (None, 10)                330       \n",
      "                                                                 \n",
      "=================================================================\n",
      "Total params: 3266026 (12.46 MB)\n",
      "Trainable params: 3263210 (12.45 MB)\n",
      "Non-trainable params: 2816 (11.00 KB)\n",
      "_________________________________________________________________\n"
     ]
    }
   ],
   "source": [
    "model_150d = Sequential()\n",
    "\n",
    "model_150d.add(Bidirectional(LSTM(128, return_sequences = True), input_shape = (1499,150)))\n",
    "model_150d.add(BatchNormalization())\n",
    "model_150d.add(Dropout(0.2))\n",
    "\n",
    "model_150d.add(Bidirectional(LSTM(256, return_sequences = True)))\n",
    "model_150d.add(BatchNormalization())\n",
    "model_150d.add(Dropout(0.2))\n",
    "\n",
    "model_150d.add(Bidirectional(LSTM(256,return_sequences = True)))\n",
    "model_150d.add(BatchNormalization())\n",
    "model_150d.add(Dropout(0.2))\n",
    "\n",
    "model_150d.add(LSTM(128))\n",
    "model_150d.add(Dropout(0.2))\n",
    "\n",
    "model_150d.add(Flatten())\n",
    "\n",
    "model_150d.add(Dense(128, activation = 'relu'))\n",
    "model_150d.add(BatchNormalization())\n",
    "model_150d.add(Dropout(0.2))\n",
    "\n",
    "model_150d.add(Dense(32, activation = 'relu'))\n",
    "model_150d.add(Dropout(0.2))\n",
    "model_150d.add(Dense(10, activation='sigmoid'))\n",
    "\n",
    "model_150d.summary()\n",
    "\n",
    "early_stopping = EarlyStopping(monitor='val_loss', patience=5)"
   ]
  },
  {
   "cell_type": "code",
   "execution_count": 17,
   "id": "f4fec326-5c8a-4607-93fe-ef668422512e",
   "metadata": {},
   "outputs": [
    {
     "name": "stdout",
     "output_type": "stream",
     "text": [
      "WARNING:tensorflow:Keras is training/fitting/evaluating on array-like data. Keras may not be optimized for this format, so if your input data format is supported by TensorFlow I/O (https://github.com/tensorflow/io) we recommend using that to load a Dataset instead.\n",
      "Epoch 1/8\n"
     ]
    },
    {
     "name": "stderr",
     "output_type": "stream",
     "text": [
      "2023-12-10 12:10:42.211759: I tensorflow/core/grappler/optimizers/custom_graph_optimizer_registry.cc:117] Plugin optimizer for device_type GPU is enabled.\n"
     ]
    },
    {
     "name": "stdout",
     "output_type": "stream",
     "text": [
      "646/646 [==============================] - ETA: 0s - loss: 0.4712 - accuracy: 0.4087WARNING:tensorflow:Keras is training/fitting/evaluating on array-like data. Keras may not be optimized for this format, so if your input data format is supported by TensorFlow I/O (https://github.com/tensorflow/io) we recommend using that to load a Dataset instead.\n",
      "646/646 [==============================] - 1057s 2s/step - loss: 0.4712 - accuracy: 0.4087 - val_loss: 0.8148 - val_accuracy: 0.4622\n",
      "Epoch 2/8\n",
      "646/646 [==============================] - 1060s 2s/step - loss: 0.3646 - accuracy: 0.5335 - val_loss: 0.3996 - val_accuracy: 0.5045\n",
      "Epoch 3/8\n",
      "646/646 [==============================] - 1062s 2s/step - loss: 0.3165 - accuracy: 0.6059 - val_loss: 0.3640 - val_accuracy: 0.5481\n",
      "Epoch 4/8\n",
      "646/646 [==============================] - 1064s 2s/step - loss: 0.3007 - accuracy: 0.6596 - val_loss: 0.3154 - val_accuracy: 0.6250\n",
      "Epoch 5/8\n",
      "646/646 [==============================] - 1085s 2s/step - loss: 0.2865 - accuracy: 0.7113 - val_loss: 0.4514 - val_accuracy: 0.4213\n",
      "Epoch 6/8\n",
      "646/646 [==============================] - 1081s 2s/step - loss: 0.2774 - accuracy: 0.7310 - val_loss: 0.3786 - val_accuracy: 0.5225\n",
      "Epoch 7/8\n",
      "646/646 [==============================] - 1079s 2s/step - loss: 0.2666 - accuracy: 0.7583 - val_loss: 0.7228 - val_accuracy: 0.2586\n",
      "Epoch 8/8\n",
      "116/646 [====>.........................] - ETA: 11:26 - loss: 0.2485 - accuracy: 0.7958"
     ]
    },
    {
     "ename": "KeyboardInterrupt",
     "evalue": "",
     "output_type": "error",
     "traceback": [
      "\u001b[0;31m---------------------------------------------------------------------------\u001b[0m",
      "\u001b[0;31mKeyboardInterrupt\u001b[0m                         Traceback (most recent call last)",
      "Cell \u001b[0;32mIn[17], line 3\u001b[0m\n\u001b[1;32m      1\u001b[0m model_150d\u001b[38;5;241m.\u001b[39mcompile(optimizer\u001b[38;5;241m=\u001b[39m\u001b[38;5;124m'\u001b[39m\u001b[38;5;124madam\u001b[39m\u001b[38;5;124m'\u001b[39m, loss\u001b[38;5;241m=\u001b[39m\u001b[38;5;124m'\u001b[39m\u001b[38;5;124mBinaryCrossentropy\u001b[39m\u001b[38;5;124m'\u001b[39m, metrics\u001b[38;5;241m=\u001b[39m[\u001b[38;5;124m'\u001b[39m\u001b[38;5;124maccuracy\u001b[39m\u001b[38;5;124m'\u001b[39m])\n\u001b[0;32m----> 3\u001b[0m \u001b[43mmodel_150d\u001b[49m\u001b[38;5;241;43m.\u001b[39;49m\u001b[43mfit\u001b[49m\u001b[43m(\u001b[49m\u001b[43mx_train\u001b[49m\u001b[43m,\u001b[49m\u001b[43m \u001b[49m\u001b[43my_train\u001b[49m\u001b[43m,\u001b[49m\u001b[43m \u001b[49m\u001b[43mepochs\u001b[49m\u001b[38;5;241;43m=\u001b[39;49m\u001b[38;5;241;43m8\u001b[39;49m\u001b[43m,\u001b[49m\u001b[43m \u001b[49m\u001b[43mbatch_size\u001b[49m\u001b[38;5;241;43m=\u001b[39;49m\u001b[38;5;241;43m32\u001b[39;49m\u001b[43m,\u001b[49m\u001b[43m \u001b[49m\u001b[43mvalidation_data\u001b[49m\u001b[38;5;241;43m=\u001b[39;49m\u001b[43m(\u001b[49m\u001b[43mx_train\u001b[49m\u001b[43m,\u001b[49m\u001b[43m \u001b[49m\u001b[43my_train\u001b[49m\u001b[43m)\u001b[49m\u001b[43m,\u001b[49m\u001b[43m \u001b[49m\u001b[43mcallbacks\u001b[49m\u001b[38;5;241;43m=\u001b[39;49m\u001b[43m[\u001b[49m\u001b[43mearly_stopping\u001b[49m\u001b[43m]\u001b[49m\u001b[43m)\u001b[49m\n",
      "File \u001b[0;32m~/anaconda3/envs/env2/lib/python3.10/site-packages/keras/src/utils/traceback_utils.py:65\u001b[0m, in \u001b[0;36mfilter_traceback.<locals>.error_handler\u001b[0;34m(*args, **kwargs)\u001b[0m\n\u001b[1;32m     63\u001b[0m filtered_tb \u001b[38;5;241m=\u001b[39m \u001b[38;5;28;01mNone\u001b[39;00m\n\u001b[1;32m     64\u001b[0m \u001b[38;5;28;01mtry\u001b[39;00m:\n\u001b[0;32m---> 65\u001b[0m     \u001b[38;5;28;01mreturn\u001b[39;00m \u001b[43mfn\u001b[49m\u001b[43m(\u001b[49m\u001b[38;5;241;43m*\u001b[39;49m\u001b[43margs\u001b[49m\u001b[43m,\u001b[49m\u001b[43m \u001b[49m\u001b[38;5;241;43m*\u001b[39;49m\u001b[38;5;241;43m*\u001b[39;49m\u001b[43mkwargs\u001b[49m\u001b[43m)\u001b[49m\n\u001b[1;32m     66\u001b[0m \u001b[38;5;28;01mexcept\u001b[39;00m \u001b[38;5;167;01mException\u001b[39;00m \u001b[38;5;28;01mas\u001b[39;00m e:\n\u001b[1;32m     67\u001b[0m     filtered_tb \u001b[38;5;241m=\u001b[39m _process_traceback_frames(e\u001b[38;5;241m.\u001b[39m__traceback__)\n",
      "File \u001b[0;32m~/anaconda3/envs/env2/lib/python3.10/site-packages/keras/src/engine/training.py:1807\u001b[0m, in \u001b[0;36mModel.fit\u001b[0;34m(self, x, y, batch_size, epochs, verbose, callbacks, validation_split, validation_data, shuffle, class_weight, sample_weight, initial_epoch, steps_per_epoch, validation_steps, validation_batch_size, validation_freq, max_queue_size, workers, use_multiprocessing)\u001b[0m\n\u001b[1;32m   1799\u001b[0m \u001b[38;5;28;01mwith\u001b[39;00m tf\u001b[38;5;241m.\u001b[39mprofiler\u001b[38;5;241m.\u001b[39mexperimental\u001b[38;5;241m.\u001b[39mTrace(\n\u001b[1;32m   1800\u001b[0m     \u001b[38;5;124m\"\u001b[39m\u001b[38;5;124mtrain\u001b[39m\u001b[38;5;124m\"\u001b[39m,\n\u001b[1;32m   1801\u001b[0m     epoch_num\u001b[38;5;241m=\u001b[39mepoch,\n\u001b[0;32m   (...)\u001b[0m\n\u001b[1;32m   1804\u001b[0m     _r\u001b[38;5;241m=\u001b[39m\u001b[38;5;241m1\u001b[39m,\n\u001b[1;32m   1805\u001b[0m ):\n\u001b[1;32m   1806\u001b[0m     callbacks\u001b[38;5;241m.\u001b[39mon_train_batch_begin(step)\n\u001b[0;32m-> 1807\u001b[0m     tmp_logs \u001b[38;5;241m=\u001b[39m \u001b[38;5;28;43mself\u001b[39;49m\u001b[38;5;241;43m.\u001b[39;49m\u001b[43mtrain_function\u001b[49m\u001b[43m(\u001b[49m\u001b[43miterator\u001b[49m\u001b[43m)\u001b[49m\n\u001b[1;32m   1808\u001b[0m     \u001b[38;5;28;01mif\u001b[39;00m data_handler\u001b[38;5;241m.\u001b[39mshould_sync:\n\u001b[1;32m   1809\u001b[0m         context\u001b[38;5;241m.\u001b[39masync_wait()\n",
      "File \u001b[0;32m~/anaconda3/envs/env2/lib/python3.10/site-packages/tensorflow/python/util/traceback_utils.py:150\u001b[0m, in \u001b[0;36mfilter_traceback.<locals>.error_handler\u001b[0;34m(*args, **kwargs)\u001b[0m\n\u001b[1;32m    148\u001b[0m filtered_tb \u001b[38;5;241m=\u001b[39m \u001b[38;5;28;01mNone\u001b[39;00m\n\u001b[1;32m    149\u001b[0m \u001b[38;5;28;01mtry\u001b[39;00m:\n\u001b[0;32m--> 150\u001b[0m   \u001b[38;5;28;01mreturn\u001b[39;00m \u001b[43mfn\u001b[49m\u001b[43m(\u001b[49m\u001b[38;5;241;43m*\u001b[39;49m\u001b[43margs\u001b[49m\u001b[43m,\u001b[49m\u001b[43m \u001b[49m\u001b[38;5;241;43m*\u001b[39;49m\u001b[38;5;241;43m*\u001b[39;49m\u001b[43mkwargs\u001b[49m\u001b[43m)\u001b[49m\n\u001b[1;32m    151\u001b[0m \u001b[38;5;28;01mexcept\u001b[39;00m \u001b[38;5;167;01mException\u001b[39;00m \u001b[38;5;28;01mas\u001b[39;00m e:\n\u001b[1;32m    152\u001b[0m   filtered_tb \u001b[38;5;241m=\u001b[39m _process_traceback_frames(e\u001b[38;5;241m.\u001b[39m__traceback__)\n",
      "File \u001b[0;32m~/anaconda3/envs/env2/lib/python3.10/site-packages/tensorflow/python/eager/polymorphic_function/polymorphic_function.py:832\u001b[0m, in \u001b[0;36mFunction.__call__\u001b[0;34m(self, *args, **kwds)\u001b[0m\n\u001b[1;32m    829\u001b[0m compiler \u001b[38;5;241m=\u001b[39m \u001b[38;5;124m\"\u001b[39m\u001b[38;5;124mxla\u001b[39m\u001b[38;5;124m\"\u001b[39m \u001b[38;5;28;01mif\u001b[39;00m \u001b[38;5;28mself\u001b[39m\u001b[38;5;241m.\u001b[39m_jit_compile \u001b[38;5;28;01melse\u001b[39;00m \u001b[38;5;124m\"\u001b[39m\u001b[38;5;124mnonXla\u001b[39m\u001b[38;5;124m\"\u001b[39m\n\u001b[1;32m    831\u001b[0m \u001b[38;5;28;01mwith\u001b[39;00m OptionalXlaContext(\u001b[38;5;28mself\u001b[39m\u001b[38;5;241m.\u001b[39m_jit_compile):\n\u001b[0;32m--> 832\u001b[0m   result \u001b[38;5;241m=\u001b[39m \u001b[38;5;28;43mself\u001b[39;49m\u001b[38;5;241;43m.\u001b[39;49m\u001b[43m_call\u001b[49m\u001b[43m(\u001b[49m\u001b[38;5;241;43m*\u001b[39;49m\u001b[43margs\u001b[49m\u001b[43m,\u001b[49m\u001b[43m \u001b[49m\u001b[38;5;241;43m*\u001b[39;49m\u001b[38;5;241;43m*\u001b[39;49m\u001b[43mkwds\u001b[49m\u001b[43m)\u001b[49m\n\u001b[1;32m    834\u001b[0m new_tracing_count \u001b[38;5;241m=\u001b[39m \u001b[38;5;28mself\u001b[39m\u001b[38;5;241m.\u001b[39mexperimental_get_tracing_count()\n\u001b[1;32m    835\u001b[0m without_tracing \u001b[38;5;241m=\u001b[39m (tracing_count \u001b[38;5;241m==\u001b[39m new_tracing_count)\n",
      "File \u001b[0;32m~/anaconda3/envs/env2/lib/python3.10/site-packages/tensorflow/python/eager/polymorphic_function/polymorphic_function.py:868\u001b[0m, in \u001b[0;36mFunction._call\u001b[0;34m(self, *args, **kwds)\u001b[0m\n\u001b[1;32m    865\u001b[0m   \u001b[38;5;28mself\u001b[39m\u001b[38;5;241m.\u001b[39m_lock\u001b[38;5;241m.\u001b[39mrelease()\n\u001b[1;32m    866\u001b[0m   \u001b[38;5;66;03m# In this case we have created variables on the first call, so we run the\u001b[39;00m\n\u001b[1;32m    867\u001b[0m   \u001b[38;5;66;03m# defunned version which is guaranteed to never create variables.\u001b[39;00m\n\u001b[0;32m--> 868\u001b[0m   \u001b[38;5;28;01mreturn\u001b[39;00m \u001b[43mtracing_compilation\u001b[49m\u001b[38;5;241;43m.\u001b[39;49m\u001b[43mcall_function\u001b[49m\u001b[43m(\u001b[49m\n\u001b[1;32m    869\u001b[0m \u001b[43m      \u001b[49m\u001b[43margs\u001b[49m\u001b[43m,\u001b[49m\u001b[43m \u001b[49m\u001b[43mkwds\u001b[49m\u001b[43m,\u001b[49m\u001b[43m \u001b[49m\u001b[38;5;28;43mself\u001b[39;49m\u001b[38;5;241;43m.\u001b[39;49m\u001b[43m_no_variable_creation_config\u001b[49m\n\u001b[1;32m    870\u001b[0m \u001b[43m  \u001b[49m\u001b[43m)\u001b[49m\n\u001b[1;32m    871\u001b[0m \u001b[38;5;28;01melif\u001b[39;00m \u001b[38;5;28mself\u001b[39m\u001b[38;5;241m.\u001b[39m_variable_creation_config \u001b[38;5;129;01mis\u001b[39;00m \u001b[38;5;129;01mnot\u001b[39;00m \u001b[38;5;28;01mNone\u001b[39;00m:\n\u001b[1;32m    872\u001b[0m   \u001b[38;5;66;03m# Release the lock early so that multiple threads can perform the call\u001b[39;00m\n\u001b[1;32m    873\u001b[0m   \u001b[38;5;66;03m# in parallel.\u001b[39;00m\n\u001b[1;32m    874\u001b[0m   \u001b[38;5;28mself\u001b[39m\u001b[38;5;241m.\u001b[39m_lock\u001b[38;5;241m.\u001b[39mrelease()\n",
      "File \u001b[0;32m~/anaconda3/envs/env2/lib/python3.10/site-packages/tensorflow/python/eager/polymorphic_function/tracing_compilation.py:139\u001b[0m, in \u001b[0;36mcall_function\u001b[0;34m(args, kwargs, tracing_options)\u001b[0m\n\u001b[1;32m    137\u001b[0m bound_args \u001b[38;5;241m=\u001b[39m function\u001b[38;5;241m.\u001b[39mfunction_type\u001b[38;5;241m.\u001b[39mbind(\u001b[38;5;241m*\u001b[39margs, \u001b[38;5;241m*\u001b[39m\u001b[38;5;241m*\u001b[39mkwargs)\n\u001b[1;32m    138\u001b[0m flat_inputs \u001b[38;5;241m=\u001b[39m function\u001b[38;5;241m.\u001b[39mfunction_type\u001b[38;5;241m.\u001b[39munpack_inputs(bound_args)\n\u001b[0;32m--> 139\u001b[0m \u001b[38;5;28;01mreturn\u001b[39;00m \u001b[43mfunction\u001b[49m\u001b[38;5;241;43m.\u001b[39;49m\u001b[43m_call_flat\u001b[49m\u001b[43m(\u001b[49m\u001b[43m  \u001b[49m\u001b[38;5;66;43;03m# pylint: disable=protected-access\u001b[39;49;00m\n\u001b[1;32m    140\u001b[0m \u001b[43m    \u001b[49m\u001b[43mflat_inputs\u001b[49m\u001b[43m,\u001b[49m\u001b[43m \u001b[49m\u001b[43mcaptured_inputs\u001b[49m\u001b[38;5;241;43m=\u001b[39;49m\u001b[43mfunction\u001b[49m\u001b[38;5;241;43m.\u001b[39;49m\u001b[43mcaptured_inputs\u001b[49m\n\u001b[1;32m    141\u001b[0m \u001b[43m\u001b[49m\u001b[43m)\u001b[49m\n",
      "File \u001b[0;32m~/anaconda3/envs/env2/lib/python3.10/site-packages/tensorflow/python/eager/polymorphic_function/concrete_function.py:1323\u001b[0m, in \u001b[0;36mConcreteFunction._call_flat\u001b[0;34m(self, tensor_inputs, captured_inputs)\u001b[0m\n\u001b[1;32m   1319\u001b[0m possible_gradient_type \u001b[38;5;241m=\u001b[39m gradients_util\u001b[38;5;241m.\u001b[39mPossibleTapeGradientTypes(args)\n\u001b[1;32m   1320\u001b[0m \u001b[38;5;28;01mif\u001b[39;00m (possible_gradient_type \u001b[38;5;241m==\u001b[39m gradients_util\u001b[38;5;241m.\u001b[39mPOSSIBLE_GRADIENT_TYPES_NONE\n\u001b[1;32m   1321\u001b[0m     \u001b[38;5;129;01mand\u001b[39;00m executing_eagerly):\n\u001b[1;32m   1322\u001b[0m   \u001b[38;5;66;03m# No tape is watching; skip to running the function.\u001b[39;00m\n\u001b[0;32m-> 1323\u001b[0m   \u001b[38;5;28;01mreturn\u001b[39;00m \u001b[38;5;28;43mself\u001b[39;49m\u001b[38;5;241;43m.\u001b[39;49m\u001b[43m_inference_function\u001b[49m\u001b[38;5;241;43m.\u001b[39;49m\u001b[43mcall_preflattened\u001b[49m\u001b[43m(\u001b[49m\u001b[43margs\u001b[49m\u001b[43m)\u001b[49m\n\u001b[1;32m   1324\u001b[0m forward_backward \u001b[38;5;241m=\u001b[39m \u001b[38;5;28mself\u001b[39m\u001b[38;5;241m.\u001b[39m_select_forward_and_backward_functions(\n\u001b[1;32m   1325\u001b[0m     args,\n\u001b[1;32m   1326\u001b[0m     possible_gradient_type,\n\u001b[1;32m   1327\u001b[0m     executing_eagerly)\n\u001b[1;32m   1328\u001b[0m forward_function, args_with_tangents \u001b[38;5;241m=\u001b[39m forward_backward\u001b[38;5;241m.\u001b[39mforward()\n",
      "File \u001b[0;32m~/anaconda3/envs/env2/lib/python3.10/site-packages/tensorflow/python/eager/polymorphic_function/atomic_function.py:216\u001b[0m, in \u001b[0;36mAtomicFunction.call_preflattened\u001b[0;34m(self, args)\u001b[0m\n\u001b[1;32m    214\u001b[0m \u001b[38;5;28;01mdef\u001b[39;00m \u001b[38;5;21mcall_preflattened\u001b[39m(\u001b[38;5;28mself\u001b[39m, args: Sequence[core\u001b[38;5;241m.\u001b[39mTensor]) \u001b[38;5;241m-\u001b[39m\u001b[38;5;241m>\u001b[39m Any:\n\u001b[1;32m    215\u001b[0m \u001b[38;5;250m  \u001b[39m\u001b[38;5;124;03m\"\"\"Calls with flattened tensor inputs and returns the structured output.\"\"\"\u001b[39;00m\n\u001b[0;32m--> 216\u001b[0m   flat_outputs \u001b[38;5;241m=\u001b[39m \u001b[38;5;28;43mself\u001b[39;49m\u001b[38;5;241;43m.\u001b[39;49m\u001b[43mcall_flat\u001b[49m\u001b[43m(\u001b[49m\u001b[38;5;241;43m*\u001b[39;49m\u001b[43margs\u001b[49m\u001b[43m)\u001b[49m\n\u001b[1;32m    217\u001b[0m   \u001b[38;5;28;01mreturn\u001b[39;00m \u001b[38;5;28mself\u001b[39m\u001b[38;5;241m.\u001b[39mfunction_type\u001b[38;5;241m.\u001b[39mpack_output(flat_outputs)\n",
      "File \u001b[0;32m~/anaconda3/envs/env2/lib/python3.10/site-packages/tensorflow/python/eager/polymorphic_function/atomic_function.py:251\u001b[0m, in \u001b[0;36mAtomicFunction.call_flat\u001b[0;34m(self, *args)\u001b[0m\n\u001b[1;32m    249\u001b[0m \u001b[38;5;28;01mwith\u001b[39;00m record\u001b[38;5;241m.\u001b[39mstop_recording():\n\u001b[1;32m    250\u001b[0m   \u001b[38;5;28;01mif\u001b[39;00m \u001b[38;5;28mself\u001b[39m\u001b[38;5;241m.\u001b[39m_bound_context\u001b[38;5;241m.\u001b[39mexecuting_eagerly():\n\u001b[0;32m--> 251\u001b[0m     outputs \u001b[38;5;241m=\u001b[39m \u001b[38;5;28;43mself\u001b[39;49m\u001b[38;5;241;43m.\u001b[39;49m\u001b[43m_bound_context\u001b[49m\u001b[38;5;241;43m.\u001b[39;49m\u001b[43mcall_function\u001b[49m\u001b[43m(\u001b[49m\n\u001b[1;32m    252\u001b[0m \u001b[43m        \u001b[49m\u001b[38;5;28;43mself\u001b[39;49m\u001b[38;5;241;43m.\u001b[39;49m\u001b[43mname\u001b[49m\u001b[43m,\u001b[49m\n\u001b[1;32m    253\u001b[0m \u001b[43m        \u001b[49m\u001b[38;5;28;43mlist\u001b[39;49m\u001b[43m(\u001b[49m\u001b[43margs\u001b[49m\u001b[43m)\u001b[49m\u001b[43m,\u001b[49m\n\u001b[1;32m    254\u001b[0m \u001b[43m        \u001b[49m\u001b[38;5;28;43mlen\u001b[39;49m\u001b[43m(\u001b[49m\u001b[38;5;28;43mself\u001b[39;49m\u001b[38;5;241;43m.\u001b[39;49m\u001b[43mfunction_type\u001b[49m\u001b[38;5;241;43m.\u001b[39;49m\u001b[43mflat_outputs\u001b[49m\u001b[43m)\u001b[49m\u001b[43m,\u001b[49m\n\u001b[1;32m    255\u001b[0m \u001b[43m    \u001b[49m\u001b[43m)\u001b[49m\n\u001b[1;32m    256\u001b[0m   \u001b[38;5;28;01melse\u001b[39;00m:\n\u001b[1;32m    257\u001b[0m     outputs \u001b[38;5;241m=\u001b[39m make_call_op_in_graph(\n\u001b[1;32m    258\u001b[0m         \u001b[38;5;28mself\u001b[39m,\n\u001b[1;32m    259\u001b[0m         \u001b[38;5;28mlist\u001b[39m(args),\n\u001b[1;32m    260\u001b[0m         \u001b[38;5;28mself\u001b[39m\u001b[38;5;241m.\u001b[39m_bound_context\u001b[38;5;241m.\u001b[39mfunction_call_options\u001b[38;5;241m.\u001b[39mas_attrs(),\n\u001b[1;32m    261\u001b[0m     )\n",
      "File \u001b[0;32m~/anaconda3/envs/env2/lib/python3.10/site-packages/tensorflow/python/eager/context.py:1486\u001b[0m, in \u001b[0;36mContext.call_function\u001b[0;34m(self, name, tensor_inputs, num_outputs)\u001b[0m\n\u001b[1;32m   1484\u001b[0m cancellation_context \u001b[38;5;241m=\u001b[39m cancellation\u001b[38;5;241m.\u001b[39mcontext()\n\u001b[1;32m   1485\u001b[0m \u001b[38;5;28;01mif\u001b[39;00m cancellation_context \u001b[38;5;129;01mis\u001b[39;00m \u001b[38;5;28;01mNone\u001b[39;00m:\n\u001b[0;32m-> 1486\u001b[0m   outputs \u001b[38;5;241m=\u001b[39m \u001b[43mexecute\u001b[49m\u001b[38;5;241;43m.\u001b[39;49m\u001b[43mexecute\u001b[49m\u001b[43m(\u001b[49m\n\u001b[1;32m   1487\u001b[0m \u001b[43m      \u001b[49m\u001b[43mname\u001b[49m\u001b[38;5;241;43m.\u001b[39;49m\u001b[43mdecode\u001b[49m\u001b[43m(\u001b[49m\u001b[38;5;124;43m\"\u001b[39;49m\u001b[38;5;124;43mutf-8\u001b[39;49m\u001b[38;5;124;43m\"\u001b[39;49m\u001b[43m)\u001b[49m\u001b[43m,\u001b[49m\n\u001b[1;32m   1488\u001b[0m \u001b[43m      \u001b[49m\u001b[43mnum_outputs\u001b[49m\u001b[38;5;241;43m=\u001b[39;49m\u001b[43mnum_outputs\u001b[49m\u001b[43m,\u001b[49m\n\u001b[1;32m   1489\u001b[0m \u001b[43m      \u001b[49m\u001b[43minputs\u001b[49m\u001b[38;5;241;43m=\u001b[39;49m\u001b[43mtensor_inputs\u001b[49m\u001b[43m,\u001b[49m\n\u001b[1;32m   1490\u001b[0m \u001b[43m      \u001b[49m\u001b[43mattrs\u001b[49m\u001b[38;5;241;43m=\u001b[39;49m\u001b[43mattrs\u001b[49m\u001b[43m,\u001b[49m\n\u001b[1;32m   1491\u001b[0m \u001b[43m      \u001b[49m\u001b[43mctx\u001b[49m\u001b[38;5;241;43m=\u001b[39;49m\u001b[38;5;28;43mself\u001b[39;49m\u001b[43m,\u001b[49m\n\u001b[1;32m   1492\u001b[0m \u001b[43m  \u001b[49m\u001b[43m)\u001b[49m\n\u001b[1;32m   1493\u001b[0m \u001b[38;5;28;01melse\u001b[39;00m:\n\u001b[1;32m   1494\u001b[0m   outputs \u001b[38;5;241m=\u001b[39m execute\u001b[38;5;241m.\u001b[39mexecute_with_cancellation(\n\u001b[1;32m   1495\u001b[0m       name\u001b[38;5;241m.\u001b[39mdecode(\u001b[38;5;124m\"\u001b[39m\u001b[38;5;124mutf-8\u001b[39m\u001b[38;5;124m\"\u001b[39m),\n\u001b[1;32m   1496\u001b[0m       num_outputs\u001b[38;5;241m=\u001b[39mnum_outputs,\n\u001b[0;32m   (...)\u001b[0m\n\u001b[1;32m   1500\u001b[0m       cancellation_manager\u001b[38;5;241m=\u001b[39mcancellation_context,\n\u001b[1;32m   1501\u001b[0m   )\n",
      "File \u001b[0;32m~/anaconda3/envs/env2/lib/python3.10/site-packages/tensorflow/python/eager/execute.py:53\u001b[0m, in \u001b[0;36mquick_execute\u001b[0;34m(op_name, num_outputs, inputs, attrs, ctx, name)\u001b[0m\n\u001b[1;32m     51\u001b[0m \u001b[38;5;28;01mtry\u001b[39;00m:\n\u001b[1;32m     52\u001b[0m   ctx\u001b[38;5;241m.\u001b[39mensure_initialized()\n\u001b[0;32m---> 53\u001b[0m   tensors \u001b[38;5;241m=\u001b[39m \u001b[43mpywrap_tfe\u001b[49m\u001b[38;5;241;43m.\u001b[39;49m\u001b[43mTFE_Py_Execute\u001b[49m\u001b[43m(\u001b[49m\u001b[43mctx\u001b[49m\u001b[38;5;241;43m.\u001b[39;49m\u001b[43m_handle\u001b[49m\u001b[43m,\u001b[49m\u001b[43m \u001b[49m\u001b[43mdevice_name\u001b[49m\u001b[43m,\u001b[49m\u001b[43m \u001b[49m\u001b[43mop_name\u001b[49m\u001b[43m,\u001b[49m\n\u001b[1;32m     54\u001b[0m \u001b[43m                                      \u001b[49m\u001b[43minputs\u001b[49m\u001b[43m,\u001b[49m\u001b[43m \u001b[49m\u001b[43mattrs\u001b[49m\u001b[43m,\u001b[49m\u001b[43m \u001b[49m\u001b[43mnum_outputs\u001b[49m\u001b[43m)\u001b[49m\n\u001b[1;32m     55\u001b[0m \u001b[38;5;28;01mexcept\u001b[39;00m core\u001b[38;5;241m.\u001b[39m_NotOkStatusException \u001b[38;5;28;01mas\u001b[39;00m e:\n\u001b[1;32m     56\u001b[0m   \u001b[38;5;28;01mif\u001b[39;00m name \u001b[38;5;129;01mis\u001b[39;00m \u001b[38;5;129;01mnot\u001b[39;00m \u001b[38;5;28;01mNone\u001b[39;00m:\n",
      "\u001b[0;31mKeyboardInterrupt\u001b[0m: "
     ]
    }
   ],
   "source": [
    "model_150d.compile(optimizer='adam', loss='BinaryCrossentropy', metrics=['accuracy'])\n",
    "\n",
    "model_150d.fit(x_train, y_train, epochs=8, batch_size=32, validation_data=(x_train, y_train), callbacks=[early_stopping])"
   ]
  },
  {
   "cell_type": "code",
   "execution_count": 18,
   "id": "e4e532fd-b678-48b4-9824-f7895ba2a127",
   "metadata": {},
   "outputs": [],
   "source": [
    "from sklearn.metrics import classification_report, accuracy_score"
   ]
  },
  {
   "cell_type": "code",
   "execution_count": 19,
   "id": "1717694d-5039-4a10-aa31-caf68ab92d09",
   "metadata": {},
   "outputs": [
    {
     "name": "stdout",
     "output_type": "stream",
     "text": [
      "WARNING:tensorflow:Keras is training/fitting/evaluating on array-like data. Keras may not be optimized for this format, so if your input data format is supported by TensorFlow I/O (https://github.com/tensorflow/io) we recommend using that to load a Dataset instead.\n",
      "162/162 [==============================] - 58s 338ms/step\n"
     ]
    }
   ],
   "source": [
    "y_pred = model_150d.predict(x_test)"
   ]
  },
  {
   "cell_type": "code",
   "execution_count": 20,
   "id": "0b8a3120-2f01-4ff8-9025-c95c201ebae0",
   "metadata": {},
   "outputs": [
    {
     "data": {
      "text/plain": [
       "array([[4.16148528e-02, 7.41502829e-03, 6.28524303e-01, ...,\n",
       "        2.09983997e-03, 2.96775741e-03, 1.68003223e-03],\n",
       "       [4.80205983e-01, 7.72464275e-01, 4.01987545e-02, ...,\n",
       "        1.16949109e-02, 2.10188143e-02, 1.47163182e-01],\n",
       "       [4.59040739e-02, 9.10207350e-03, 7.67460585e-01, ...,\n",
       "        1.32462871e-03, 2.89377291e-03, 3.44133028e-03],\n",
       "       ...,\n",
       "       [4.76166978e-02, 9.62737381e-01, 2.51916703e-02, ...,\n",
       "        1.13764696e-01, 6.35520667e-02, 1.23441540e-01],\n",
       "       [8.94299820e-02, 8.45470838e-03, 7.67810643e-01, ...,\n",
       "        8.72744189e-04, 2.73243082e-03, 4.96330718e-03],\n",
       "       [3.05591971e-01, 8.91427100e-01, 3.69512029e-02, ...,\n",
       "        2.46278588e-02, 3.54406796e-02, 2.00882241e-01]], dtype=float32)"
      ]
     },
     "execution_count": 20,
     "metadata": {},
     "output_type": "execute_result"
    }
   ],
   "source": [
    "y_pred"
   ]
  },
  {
   "cell_type": "code",
   "execution_count": 23,
   "id": "c2f8fc2b-b022-4b38-9cad-eeaa0d959a9c",
   "metadata": {},
   "outputs": [],
   "source": [
    "y_pred = (y_pred > 0.4).astype(int)"
   ]
  },
  {
   "cell_type": "code",
   "execution_count": 24,
   "id": "a1d5960e-8bba-4c35-be50-1f83679cc85d",
   "metadata": {},
   "outputs": [
    {
     "data": {
      "text/plain": [
       "0.12838884585592564"
      ]
     },
     "execution_count": 24,
     "metadata": {},
     "output_type": "execute_result"
    }
   ],
   "source": [
    "accuracy_score(y_test, y_pred)"
   ]
  },
  {
   "cell_type": "code",
   "execution_count": 28,
   "id": "3f575d3c-eb9d-481f-83a4-782d57ea0c18",
   "metadata": {},
   "outputs": [
    {
     "name": "stdout",
     "output_type": "stream",
     "text": [
      "              precision    recall  f1-score   support\n",
      "\n",
      "           0       0.24      0.72      0.36       608\n",
      "           1       1.00      0.48      0.64      2454\n",
      "           2       0.43      0.94      0.59      1213\n",
      "           3       0.54      0.29      0.38       873\n",
      "           4       0.94      0.29      0.44       560\n",
      "           5       0.00      0.00      0.00      1128\n",
      "           6       0.40      0.92      0.55       884\n",
      "           7       0.00      0.00      0.00       707\n",
      "           8       0.00      0.00      0.00       364\n",
      "           9       0.00      0.00      0.00       387\n",
      "\n",
      "   micro avg       0.48      0.43      0.45      9178\n",
      "   macro avg       0.35      0.36      0.30      9178\n",
      "weighted avg       0.49      0.43      0.39      9178\n",
      " samples avg       0.49      0.49      0.45      9178\n",
      "\n"
     ]
    },
    {
     "name": "stderr",
     "output_type": "stream",
     "text": [
      "/Users/nikhilkudupudi/anaconda3/envs/env2/lib/python3.10/site-packages/sklearn/metrics/_classification.py:1471: UndefinedMetricWarning: Precision and F-score are ill-defined and being set to 0.0 in labels with no predicted samples. Use `zero_division` parameter to control this behavior.\n",
      "  _warn_prf(average, modifier, msg_start, len(result))\n",
      "/Users/nikhilkudupudi/anaconda3/envs/env2/lib/python3.10/site-packages/sklearn/metrics/_classification.py:1471: UndefinedMetricWarning: Precision and F-score are ill-defined and being set to 0.0 in samples with no predicted labels. Use `zero_division` parameter to control this behavior.\n",
      "  _warn_prf(average, modifier, msg_start, len(result))\n"
     ]
    }
   ],
   "source": [
    "print(classification_report(y_test, y_pred))"
   ]
  },
  {
   "cell_type": "code",
   "execution_count": 65,
   "id": "09ca9f9a-e708-4766-a785-463e318aa575",
   "metadata": {},
   "outputs": [
    {
     "data": {
      "text/plain": [
       "array([0, 1, 0, 0, 0, 1, 0, 1, 1, 1])"
      ]
     },
     "execution_count": 65,
     "metadata": {},
     "output_type": "execute_result"
    }
   ],
   "source": []
  },
  {
   "cell_type": "code",
   "execution_count": 29,
   "id": "1d38a183-a9fc-4b8f-81b6-e1841f79a929",
   "metadata": {},
   "outputs": [],
   "source": [
    "model_150d.save('model_150D.keras')"
   ]
  },
  {
   "cell_type": "code",
   "execution_count": null,
   "id": "9a0e830e-231a-4f68-8567-a593f6805fa8",
   "metadata": {},
   "outputs": [],
   "source": []
  }
 ],
 "metadata": {
  "kernelspec": {
   "display_name": "Python [conda env:env2]",
   "language": "python",
   "name": "conda-env-env2-py"
  },
  "language_info": {
   "codemirror_mode": {
    "name": "ipython",
    "version": 3
   },
   "file_extension": ".py",
   "mimetype": "text/x-python",
   "name": "python",
   "nbconvert_exporter": "python",
   "pygments_lexer": "ipython3",
   "version": "3.10.13"
  }
 },
 "nbformat": 4,
 "nbformat_minor": 5
}

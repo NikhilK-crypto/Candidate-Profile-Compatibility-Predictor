{
 "cells": [
  {
   "cell_type": "code",
   "execution_count": 2,
   "id": "5e0e0d14",
   "metadata": {},
   "outputs": [
    {
     "name": "stdout",
     "output_type": "stream",
     "text": [
      "Collecting fasttext\n",
      "  Downloading fasttext-0.9.2.tar.gz (68 kB)\n",
      "\u001b[2K     \u001b[90m━━━━━━━━━━━━━━━━━━━━━━━━━━━━━━━━━━━━━━━━\u001b[0m \u001b[32m68.8/68.8 kB\u001b[0m \u001b[31m6.9 MB/s\u001b[0m eta \u001b[36m0:00:00\u001b[0m\n",
      "\u001b[?25h  Preparing metadata (setup.py) ... \u001b[?25ldone\n",
      "\u001b[?25hCollecting pybind11>=2.2 (from fasttext)\n",
      "  Obtaining dependency information for pybind11>=2.2 from https://files.pythonhosted.org/packages/06/55/9f73c32dda93fa4f539fafa268f9504e83c489f460c380371d94296126cd/pybind11-2.11.1-py3-none-any.whl.metadata\n",
      "  Using cached pybind11-2.11.1-py3-none-any.whl.metadata (9.5 kB)\n",
      "Requirement already satisfied: setuptools>=0.7.0 in /Users/shivanimundle/opt/anaconda3/lib/python3.9/site-packages (from fasttext) (63.4.1)\n",
      "Requirement already satisfied: numpy in /Users/shivanimundle/opt/anaconda3/lib/python3.9/site-packages (from fasttext) (1.21.5)\n",
      "Using cached pybind11-2.11.1-py3-none-any.whl (227 kB)\n",
      "Building wheels for collected packages: fasttext\n",
      "  Building wheel for fasttext (setup.py) ... \u001b[?25ldone\n",
      "\u001b[?25h  Created wheel for fasttext: filename=fasttext-0.9.2-cp39-cp39-macosx_10_16_x86_64.whl size=302818 sha256=e6772ecf9a6a9ec6840dc17e012651488416b69934ba3c0e7fc275e4331ba6d0\n",
      "  Stored in directory: /Users/shivanimundle/Library/Caches/pip/wheels/64/57/bc/1741406019061d5664914b070bd3e71f6244648732bc96109e\n",
      "Successfully built fasttext\n",
      "Installing collected packages: pybind11, fasttext\n",
      "Successfully installed fasttext-0.9.2 pybind11-2.11.1\n"
     ]
    }
   ],
   "source": [
    "!pip3 install fasttext"
   ]
  },
  {
   "cell_type": "markdown",
   "id": "50f2d71e",
   "metadata": {},
   "source": [
    "# Importing Libraries"
   ]
  },
  {
   "cell_type": "code",
   "execution_count": 2,
   "id": "2a7044b6",
   "metadata": {},
   "outputs": [
    {
     "name": "stderr",
     "output_type": "stream",
     "text": [
      "[nltk_data] Downloading package punkt to\n",
      "[nltk_data]     /Users/shivanimundle/nltk_data...\n",
      "[nltk_data]   Package punkt is already up-to-date!\n",
      "[nltk_data] Downloading package stopwords to\n",
      "[nltk_data]     /Users/shivanimundle/nltk_data...\n",
      "[nltk_data]   Package stopwords is already up-to-date!\n",
      "[nltk_data] Downloading package wordnet to\n",
      "[nltk_data]     /Users/shivanimundle/nltk_data...\n",
      "[nltk_data]   Package wordnet is already up-to-date!\n"
     ]
    }
   ],
   "source": [
    "import fasttext\n",
    "import pandas as pd\n",
    "import numpy as np\n",
    "from sklearn.metrics.pairwise import cosine_similarity\n",
    "import nltk\n",
    "from nltk.tokenize import word_tokenize\n",
    "from nltk.corpus import stopwords\n",
    "from nltk.stem import WordNetLemmatizer\n",
    "nltk.download('punkt')\n",
    "nltk.download('stopwords')\n",
    "nltk.download('wordnet')\n",
    "import re\n",
    "stop_words = set(stopwords.words('english'))\n",
    "lemmatizer = WordNetLemmatizer()"
   ]
  },
  {
   "cell_type": "markdown",
   "id": "69526e50",
   "metadata": {},
   "source": [
    "# Cleaning the data"
   ]
  },
  {
   "cell_type": "code",
   "execution_count": 3,
   "id": "8cd535f3",
   "metadata": {},
   "outputs": [],
   "source": [
    "def clean_txt(text):\n",
    "    '''\n",
    "    function to clean the text\n",
    "    -- lowercasing the text, removing email ids and website links, stop words, and special characters\n",
    "    -- also it will do lemmatization of the words for better accuracy of our model.\n",
    "    '''\n",
    "    # Remove sentences that start with '<span' and end with 'span>'\n",
    "    cleaned_text = re.sub(r'<span.*?span>', '', text.strip())\n",
    "\n",
    "    cleaned_text = cleaned_text.lower()  # Lowercasing\n",
    "\n",
    "    cleaned_text = re.sub(r'http\\S+|www\\S+|https\\S+', '', cleaned_text, flags=re.MULTILINE)  # Removing hyperlinks\n",
    "\n",
    "    cleaned_text = re.sub(r'\\S+@\\S+', '', cleaned_text, flags=re.MULTILINE)  # Removing email addresses\n",
    "\n",
    "    # Removing special characters, numbers, and punctuation\n",
    "    cleaned_text = re.sub(r'[^a-zA-Z\\s]', '', cleaned_text)\n",
    "\n",
    "    # Tokenization\n",
    "    tokens = word_tokenize(cleaned_text.strip())\n",
    "\n",
    "    # Removing stop words\n",
    "    stop_words = set(stopwords.words('english'))\n",
    "    tokens = [word for word in tokens if word not in stop_words]\n",
    "\n",
    "    return ' '.join(tokens)"
   ]
  },
  {
   "cell_type": "markdown",
   "id": "03f08cf1",
   "metadata": {},
   "source": [
    "### Getting the embeddings"
   ]
  },
  {
   "cell_type": "code",
   "execution_count": 4,
   "id": "3f3e2606",
   "metadata": {},
   "outputs": [],
   "source": [
    "def get_word_embeddings(text, model):\n",
    "    embeddings = [model.get_word_vector(word) for word in text.split()]\n",
    "    # If there are no word vectors, returns an empty array\n",
    "    if not embeddings:\n",
    "        return np.zeros((1, model.get_dimension()))\n",
    "    # Return the average of all word vectors\n",
    "    return np.mean(embeddings, axis=0).reshape(1, -1)\n"
   ]
  },
  {
   "cell_type": "markdown",
   "id": "03c5138c",
   "metadata": {},
   "source": [
    "### Calculating Cosine Similarity"
   ]
  },
  {
   "cell_type": "code",
   "execution_count": 5,
   "id": "2b9ad353",
   "metadata": {},
   "outputs": [],
   "source": [
    "\n",
    "def calculate_cosine_similarity(embedding1, embedding2):\n",
    "    return cosine_similarity(embedding1, embedding2)[0][0]"
   ]
  },
  {
   "cell_type": "markdown",
   "id": "5aa2ef4b",
   "metadata": {},
   "source": [
    "### Reading the Data"
   ]
  },
  {
   "cell_type": "code",
   "execution_count": 6,
   "id": "89c1b502",
   "metadata": {},
   "outputs": [],
   "source": [
    "file_path = 'resume_samples.txt'"
   ]
  },
  {
   "cell_type": "code",
   "execution_count": null,
   "id": "75c732d0",
   "metadata": {},
   "outputs": [],
   "source": [
    "cleaned_resume_texts = []\n",
    "with open(file_path, 'r', encoding='latin-1') as file:\n",
    "    for line in file:\n",
    "        fields = line.strip().split(':::')\n",
    "        if len(fields) == 3:\n",
    "            reference_id, occupations, resume_text = fields\n",
    "            cleaned_resume_text = clean_txt(resume_text)  # Clean the resume text\n",
    "            cleaned_resume_texts.append(cleaned_resume_text)"
   ]
  },
  {
   "cell_type": "code",
   "execution_count": null,
   "id": "fc1794cf",
   "metadata": {},
   "outputs": [],
   "source": [
    "with open('cleaned_resumes.txt', 'w', encoding='utf-8') as output_file:\n",
    "    for text in cleaned_resume_texts:\n",
    "        output_file.write(text + '\\n')"
   ]
  },
  {
   "cell_type": "code",
   "execution_count": null,
   "id": "05740537",
   "metadata": {},
   "outputs": [],
   "source": [
    "model = fasttext.train_unsupervised('cleaned_resumes.txt', epoch=50, dim=50)\n"
   ]
  },
  {
   "cell_type": "code",
   "execution_count": null,
   "id": "d147105d",
   "metadata": {},
   "outputs": [],
   "source": [
    "model.save_model('model_1.bin')"
   ]
  },
  {
   "cell_type": "code",
   "execution_count": 8,
   "id": "ced2d1a9",
   "metadata": {},
   "outputs": [
    {
     "name": "stderr",
     "output_type": "stream",
     "text": [
      "Warning : `load_model` does not return WordVectorModel or SupervisedModel any more, but a `FastText` object which is very similar.\n"
     ]
    }
   ],
   "source": [
    "loaded_model = fasttext.load_model('model_1.bin')"
   ]
  },
  {
   "cell_type": "code",
   "execution_count": 9,
   "id": "d9ff0ca6",
   "metadata": {},
   "outputs": [],
   "source": [
    "job_description_1 = \"\"\"Position: Senior Data Scientist\n",
    "\n",
    "Company Overview:\n",
    "ABC is a leading fintech company that leverages cutting-edge data science and machine learning techniques to drive innovation and solve complex business challenges. We are seeking a highly skilled and experienced Senior Data Scientist to join our dynamic team.\n",
    "\n",
    "Role and Responsibilities:\n",
    "\n",
    "1. **Lead Data Science Initiatives:**\n",
    "   - Take ownership of end-to-end data science projects, from problem definition to model deployment.\n",
    "   - Lead a team of data scientists, providing guidance, mentorship, and technical expertise.\n",
    "\n",
    "2. **Advanced Statistical Modeling:**\n",
    "   - Develop and implement advanced statistical models to analyze and interpret complex datasets.\n",
    "   - Utilize machine learning algorithms for predictive modeling, classification, and clustering.\n",
    "\n",
    "3. **Collaboration and Communication:**\n",
    "   - Collaborate with cross-functional teams, including data engineers, analysts, and business stakeholders.\n",
    "   - Communicate findings and insights effectively to technical and non-technical audiences.\n",
    "\n",
    "4. **Experimentation and A/B Testing:**\n",
    "   - Design and execute experiments to test hypotheses and improve model performance.\n",
    "   - Implement A/B testing methodologies to evaluate the impact of data-driven decisions.\n",
    "\n",
    "5. **Data Visualization:**\n",
    "   - Create compelling data visualizations to communicate insights and trends.\n",
    "   - Utilize tools such as Tableau or Power BI to develop interactive dashboards.\n",
    "\n",
    "6. **Continuous Learning and Innovation:**\n",
    "   - Stay abreast of the latest advancements in data science, machine learning, and artificial intelligence.\n",
    "   - Implement innovative approaches to solve unique business challenges.\n",
    "\n",
    "Requirements:\n",
    "\n",
    "- Ph.D. or Master's degree in a quantitative field (Computer Science, Statistics, Mathematics, etc.).\n",
    "- [X] years of experience in data science, with a proven track record of successful projects.\n",
    "- Expertise in programming languages such as Python or R.\n",
    "- Strong knowledge of machine learning frameworks (e.g., TensorFlow, PyTorch).\n",
    "- Experience with big data technologies (Spark, Hadoop) is a plus.\n",
    "- Excellent problem-solving skills and attention to detail.\n",
    "- Exceptional communication and leadership skills.\n",
    "\n",
    "Benefits:\n",
    "- Competitive salary and performance-based bonuses.\n",
    "- Comprehensive health, dental, and vision insurance plans.\n",
    "- Flexible work hours and remote work options.\n",
    "- Professional development opportunities and training programs.\n",
    "- Collaborative and innovative work environment.\n",
    "\n",
    "ABC is an equal opportunity employer. We celebrate diversity and are committed to creating an inclusive environment for all employees.\n",
    "\n",
    "How to Apply:\n",
    "Interested candidates are invited to submit their resume and a cover letter detailing their relevant experience and achievements to [email@example.com]. Please include \"Senior Data Scientist Application\" in the subject line.\n",
    "\n",
    "Application Deadline: [Date]\n",
    "\"\"\"\n"
   ]
  },
  {
   "cell_type": "code",
   "execution_count": 10,
   "id": "4418fe24",
   "metadata": {},
   "outputs": [],
   "source": [
    "job_description_2= \"\"\"UI/UX Developer\n",
    "\n",
    "Company Overview:\n",
    "ABC is a forward-thinking technology company specializing in creating seamless and visually appealing user experiences. We are looking for a creative and detail-oriented UI/UX Developer to join our talented team and contribute to the design and functionality of our digital products.\n",
    "\n",
    "Role and Responsibilities:\n",
    "\n",
    "1. **User-Centric Design:**\n",
    "   - Create user-centered designs by understanding business requirements, user journeys, and feedback.\n",
    "   - Conduct user research and gather insights to inform design decisions.\n",
    "\n",
    "2. **Wireframing and Prototyping:**\n",
    "   - Develop wireframes, prototypes, and mockups to visualize design concepts.\n",
    "   - Iterate designs based on user feedback and usability testing.\n",
    "\n",
    "3. **Visual Design:**\n",
    "   - Design visually stunning and intuitive interfaces for web and mobile applications.\n",
    "   - Choose and create color palettes, typography, and iconography to enhance the overall aesthetic.\n",
    "\n",
    "4. **Collaboration with Development Teams:**\n",
    "   - Collaborate closely with front-end developers to ensure the seamless integration of designs.\n",
    "   - Provide design specifications and assets for development.\n",
    "\n",
    "5. **Usability Testing:**\n",
    "   - Conduct usability testing to identify areas for improvement and optimize user interactions.\n",
    "   - Analyze and interpret user feedback to refine designs.\n",
    "\n",
    "6. **Responsive Design:**\n",
    "   - Ensure designs are responsive and provide an optimal user experience across various devices.\n",
    "   - Stay updated on industry trends and best practices in UI/UX design.\n",
    "\n",
    "Requirements:\n",
    "\n",
    "- Bachelor's degree in Design, Computer Science, or a related field.\n",
    "- [X] years of experience in UI/UX design for web and mobile applications.\n",
    "- Proficient in design tools such as Sketch, Figma, or Adobe Creative Suite.\n",
    "- Solid understanding of HTML, CSS, and JavaScript for effective collaboration with developers.\n",
    "- Strong portfolio showcasing a range of UI/UX design projects.\n",
    "- Creative mindset, attention to detail, and a passion for creating exceptional user experiences.\n",
    "\n",
    "Benefits:\n",
    "- Competitive salary and performance-based incentives.\n",
    "- Health and wellness programs, including gym memberships.\n",
    "- Flexible work hours and the option for remote work.\n",
    "- Opportunities for professional development and training.\n",
    "- Fun and collaborative work environment.\n",
    "\n",
    "[ABC is an equal opportunity employer and values diversity in its workforce.\n",
    "\n",
    "How to Apply:\n",
    "Interested candidates are encouraged to submit their resume, portfolio, and a brief cover letter highlighting their UI/UX design achievements to [email@example.com]. Please include \"UI/UX Developer Application\" in the subject line.\n",
    "\n",
    "Application Deadline: [Date]\"\"\"\n"
   ]
  },
  {
   "cell_type": "code",
   "execution_count": 11,
   "id": "b351ac38",
   "metadata": {},
   "outputs": [],
   "source": [
    "processed_job_description_1 = clean_txt(job_description_1)\n",
    "processed_job_description_2 = clean_txt(job_description_2)"
   ]
  },
  {
   "cell_type": "code",
   "execution_count": 12,
   "id": "b82fcd22",
   "metadata": {},
   "outputs": [
    {
     "data": {
      "text/plain": [
       "'position senior data scientist company overview abc leading fintech company leverages cuttingedge data science machine learning techniques drive innovation solve complex business challenges seeking highly skilled experienced senior data scientist join dynamic team role responsibilities lead data science initiatives take ownership endtoend data science projects problem definition model deployment lead team data scientists providing guidance mentorship technical expertise advanced statistical modeling develop implement advanced statistical models analyze interpret complex datasets utilize machine learning algorithms predictive modeling classification clustering collaboration communication collaborate crossfunctional teams including data engineers analysts business stakeholders communicate findings insights effectively technical nontechnical audiences experimentation ab testing design execute experiments test hypotheses improve model performance implement ab testing methodologies evaluate impact datadriven decisions data visualization create compelling data visualizations communicate insights trends utilize tools tableau power bi develop interactive dashboards continuous learning innovation stay abreast latest advancements data science machine learning artificial intelligence implement innovative approaches solve unique business challenges requirements phd masters degree quantitative field computer science statistics mathematics etc x years experience data science proven track record successful projects expertise programming languages python r strong knowledge machine learning frameworks eg tensorflow pytorch experience big data technologies spark hadoop plus excellent problemsolving skills attention detail exceptional communication leadership skills benefits competitive salary performancebased bonuses comprehensive health dental vision insurance plans flexible work hours remote work options professional development opportunities training programs collaborative innovative work environment abc equal opportunity employer celebrate diversity committed creating inclusive environment employees apply interested candidates invited submit resume cover letter detailing relevant experience achievements please include senior data scientist application subject line application deadline date'"
      ]
     },
     "execution_count": 12,
     "metadata": {},
     "output_type": "execute_result"
    }
   ],
   "source": [
    "processed_job_description_1"
   ]
  },
  {
   "cell_type": "code",
   "execution_count": 13,
   "id": "5ec3d413",
   "metadata": {
    "scrolled": true
   },
   "outputs": [
    {
     "data": {
      "text/plain": [
       "'uiux developer company overview abc forwardthinking technology company specializing creating seamless visually appealing user experiences looking creative detailoriented uiux developer join talented team contribute design functionality digital products role responsibilities usercentric design create usercentered designs understanding business requirements user journeys feedback conduct user research gather insights inform design decisions wireframing prototyping develop wireframes prototypes mockups visualize design concepts iterate designs based user feedback usability testing visual design design visually stunning intuitive interfaces web mobile applications choose create color palettes typography iconography enhance overall aesthetic collaboration development teams collaborate closely frontend developers ensure seamless integration designs provide design specifications assets development usability testing conduct usability testing identify areas improvement optimize user interactions analyze interpret user feedback refine designs responsive design ensure designs responsive provide optimal user experience across various devices stay updated industry trends best practices uiux design requirements bachelors degree design computer science related field x years experience uiux design web mobile applications proficient design tools sketch figma adobe creative suite solid understanding html css javascript effective collaboration developers strong portfolio showcasing range uiux design projects creative mindset attention detail passion creating exceptional user experiences benefits competitive salary performancebased incentives health wellness programs including gym memberships flexible work hours option remote work opportunities professional development training fun collaborative work environment abc equal opportunity employer values diversity workforce apply interested candidates encouraged submit resume portfolio brief cover letter highlighting uiux design achievements please include uiux developer application subject line application deadline date'"
      ]
     },
     "execution_count": 13,
     "metadata": {},
     "output_type": "execute_result"
    }
   ],
   "source": [
    "processed_job_description_2"
   ]
  },
  {
   "cell_type": "code",
   "execution_count": 14,
   "id": "7cffa5f3",
   "metadata": {},
   "outputs": [],
   "source": [
    "embedding_job_description_1 = get_word_embeddings(processed_job_description_1,loaded_model)\n",
    "embedding_job_description_2 = get_word_embeddings(processed_job_description_2,loaded_model)"
   ]
  },
  {
   "cell_type": "code",
   "execution_count": 15,
   "id": "d4b1630d",
   "metadata": {},
   "outputs": [],
   "source": [
    "resume_text_1 = \"\"\"\n",
    "\n",
    "Summary:\n",
    "Passionate and results-oriented Data Scientist with a Master's in Computer Science. Proven track record in developing and implementing machine learning models for predictive analysis. Skilled in analyzing large datasets, conducting exploratory data analysis, and presenting findings to diverse stakeholders. Proficient in Python and experienced in utilizing data visualization tools. Seeking opportunities to apply advanced data science techniques to solve complex business problems.\n",
    "\n",
    "Skills:\n",
    "- Data Analysis and Visualization\n",
    "- Machine Learning Model Development\n",
    "- Statistical Modeling\n",
    "- Python Programming\n",
    "- Predictive Analysis\n",
    "- Data Visualization (Tableau, Power BI)\n",
    "- Cross-functional Collaboration\n",
    "\n",
    "Projects:\n",
    "1. Predictive Maintenance Model:\n",
    "   - Developed a machine learning model to predict equipment failures, resulting in a 15% reduction in downtime.\n",
    "   - Analyzed historical data and identified key features for accurate prediction.\n",
    "\n",
    "2. Customer Segmentation:\n",
    "   - Conducted customer segmentation analysis to optimize marketing strategies.\n",
    "   - Implemented clustering algorithms to identify distinct customer segments.\n",
    "\n",
    "Experience:\n",
    "[Previous Job Title and Company]\n",
    "[Date Started – Date Ended]\n",
    "- Led a team of data scientists to develop and deploy predictive models for business optimization.\n",
    "- Collaborated with business stakeholders to define project requirements and deliver actionable insights.\n",
    "- Utilized Python and data visualization tools to communicate complex findings to non-technical audiences.\n",
    "\n",
    "Education:\n",
    "[Master's in Computer Science, University Name]\n",
    "[Date Started – Date Ended]\n",
    "\n",
    "\n",
    "\"\"\""
   ]
  },
  {
   "cell_type": "code",
   "execution_count": 16,
   "id": "e7a70dca",
   "metadata": {},
   "outputs": [],
   "source": [
    "cleaned_resume_text_1 = clean_txt(resume_text_1)"
   ]
  },
  {
   "cell_type": "code",
   "execution_count": 17,
   "id": "d44c27a4",
   "metadata": {},
   "outputs": [
    {
     "data": {
      "text/plain": [
       "'summary passionate resultsoriented data scientist masters computer science proven track record developing implementing machine learning models predictive analysis skilled analyzing large datasets conducting exploratory data analysis presenting findings diverse stakeholders proficient python experienced utilizing data visualization tools seeking opportunities apply advanced data science techniques solve complex business problems skills data analysis visualization machine learning model development statistical modeling python programming predictive analysis data visualization tableau power bi crossfunctional collaboration projects predictive maintenance model developed machine learning model predict equipment failures resulting reduction downtime analyzed historical data identified key features accurate prediction customer segmentation conducted customer segmentation analysis optimize marketing strategies implemented clustering algorithms identify distinct customer segments experience previous job title company date started date ended led team data scientists develop deploy predictive models business optimization collaborated business stakeholders define project requirements deliver actionable insights utilized python data visualization tools communicate complex findings nontechnical audiences education masters computer science university name date started date ended'"
      ]
     },
     "execution_count": 17,
     "metadata": {},
     "output_type": "execute_result"
    }
   ],
   "source": [
    "cleaned_resume_text_1"
   ]
  },
  {
   "cell_type": "code",
   "execution_count": 18,
   "id": "cc168784",
   "metadata": {},
   "outputs": [],
   "source": [
    "embedding_cleaned_resume_1 = get_word_embeddings(cleaned_resume_text_1,loaded_model)"
   ]
  },
  {
   "cell_type": "code",
   "execution_count": 19,
   "id": "08ceeb2a",
   "metadata": {},
   "outputs": [
    {
     "name": "stdout",
     "output_type": "stream",
     "text": [
      "Cosine Similarity for Data Science Job Description and UI/UX Resume is 0.9666395\n"
     ]
    }
   ],
   "source": [
    "cosine_similarity_score_1 = cosine_similarity(embedding_job_description_1, embedding_cleaned_resume_1)[0][0]\n",
    "print(\"Cosine Similarity for Data Science Job Description and Data Science is\",cosine_similarity_score_1)"
   ]
  },
  {
   "cell_type": "code",
   "execution_count": 20,
   "id": "f6c985e6",
   "metadata": {},
   "outputs": [
    {
     "name": "stdout",
     "output_type": "stream",
     "text": [
      "Cosine Similarity for UI/UX Job Description and Data Scientist Resume is 0.8452022\n"
     ]
    }
   ],
   "source": [
    "cosine_similarity_score_2 = cosine_similarity(embedding_job_description_2, embedding_cleaned_resume_1)[0][0]\n",
    "print(\"Cosine Similarity for UI/UX Job Description and Data Scientist Resume is\",cosine_similarity_score_2)"
   ]
  },
  {
   "cell_type": "code",
   "execution_count": 23,
   "id": "5a7173b2",
   "metadata": {},
   "outputs": [],
   "source": [
    "resume_text_2 = \"\"\"\n",
    "\n",
    "Summary:\n",
    "Creative and detail-oriented UI/UX Developer with a passion for designing intuitive and visually appealing user interfaces. Proven expertise in user experience design, wireframing, and prototyping. Proficient in industry-standard design tools such as Adobe XD and Figma. Seeking opportunities to contribute innovative design solutions to enhance user interactions.\n",
    "\n",
    "Skills:\n",
    "- User Interface (UI) Design\n",
    "- User Experience (UX) Design\n",
    "- Wireframing and Prototyping\n",
    "- Adobe XD, Figma\n",
    "- Visual Design\n",
    "- Interaction Design\n",
    "- Responsive Web Design\n",
    "\n",
    "Projects:\n",
    "1. Mobile App Redesign:\n",
    "   - Led the redesign of a mobile app to improve user engagement and simplify navigation.\n",
    "   - Created wireframes, prototypes, and collaborated with the development team for implementation.\n",
    "\n",
    "2. Website Revamp:\n",
    "   - Redesigned the company website to enhance user experience and align with brand guidelines.\n",
    "   - Implemented responsive design principles for optimal viewing on various devices.\n",
    "\n",
    "Experience:\n",
    "[Previous Job Title and Company]\n",
    "[Date Started – Date Ended]\n",
    "- Collaborated with product managers and developers to create visually appealing and functional user interfaces.\n",
    "- Conducted usability testing and gathered user feedback for continuous improvement.\n",
    "- Utilized Adobe XD and Figma for design creation and collaboration.\n",
    "\n",
    "Education:\n",
    "[Degree in Graphic Design, University Name]\n",
    "[Date Started – Date Ended]\n",
    "\n",
    "\n",
    "\"\"\""
   ]
  },
  {
   "cell_type": "code",
   "execution_count": 24,
   "id": "bf68171e",
   "metadata": {},
   "outputs": [],
   "source": [
    "cleaned_resume_text_2 = clean_txt(resume_text_2)"
   ]
  },
  {
   "cell_type": "code",
   "execution_count": 25,
   "id": "8f71de3d",
   "metadata": {},
   "outputs": [
    {
     "data": {
      "text/plain": [
       "'summary creative detailoriented uiux developer passion designing intuitive visually appealing user interfaces proven expertise user experience design wireframing prototyping proficient industrystandard design tools adobe xd figma seeking opportunities contribute innovative design solutions enhance user interactions skills user interface ui design user experience ux design wireframing prototyping adobe xd figma visual design interaction design responsive web design projects mobile app redesign led redesign mobile app improve user engagement simplify navigation created wireframes prototypes collaborated development team implementation website revamp redesigned company website enhance user experience align brand guidelines implemented responsive design principles optimal viewing various devices experience previous job title company date started date ended collaborated product managers developers create visually appealing functional user interfaces conducted usability testing gathered user feedback continuous improvement utilized adobe xd figma design creation collaboration education degree graphic design university name date started date ended'"
      ]
     },
     "execution_count": 25,
     "metadata": {},
     "output_type": "execute_result"
    }
   ],
   "source": [
    "cleaned_resume_text_2"
   ]
  },
  {
   "cell_type": "code",
   "execution_count": 26,
   "id": "095988b3",
   "metadata": {},
   "outputs": [],
   "source": [
    "embedding_cleaned_resume_2 = get_word_embeddings(cleaned_resume_text_2,loaded_model)"
   ]
  },
  {
   "cell_type": "code",
   "execution_count": 27,
   "id": "ac39f412",
   "metadata": {},
   "outputs": [
    {
     "name": "stdout",
     "output_type": "stream",
     "text": [
      "Cosine Similarity for UI/UX Job Description and Data Scientist Resume is 0.8452022\n"
     ]
    }
   ],
   "source": [
    "cosine_similarity_score = cosine_similarity(embedding_job_description_2, embedding_cleaned_resume_1)[0][0]\n",
    "print(\"Cosine Similarity for UI/UX Job Description and Data Scientist Resume is\",cosine_similarity_score)"
   ]
  },
  {
   "cell_type": "code",
   "execution_count": 29,
   "id": "397fee42",
   "metadata": {},
   "outputs": [
    {
     "name": "stdout",
     "output_type": "stream",
     "text": [
      "Cosine Similarity for  UI/UX Job Description and  UI/UX Resume 0.82283974\n"
     ]
    }
   ],
   "source": [
    "cosine_similarity_score = cosine_similarity(embedding_job_description_1, embedding_cleaned_resume_2)[0][0]\n",
    "print(\"Cosine Similarity for  UI/UX Job Description and  UI/UX Resume\",cosine_similarity_score)"
   ]
  },
  {
   "cell_type": "markdown",
   "id": "3b4010eb",
   "metadata": {},
   "source": [
    "### Unmatched Skill Trials"
   ]
  },
  {
   "cell_type": "code",
   "execution_count": 97,
   "id": "159d7189",
   "metadata": {},
   "outputs": [
    {
     "name": "stdout",
     "output_type": "stream",
     "text": [
      "Job Description:\n",
      "position senior data scientist company overview abc leading fintech company leverages cuttingedge data science machine learning techniques drive innovation solve complex business challenges seeking highly skilled experienced senior data scientist join dynamic team role responsibilities lead data science initiatives take ownership endtoend data science projects problem definition model deployment lead team data scientists providing guidance mentorship technical expertise advanced statistical modeling develop implement advanced statistical models analyze interpret complex datasets utilize machine learning algorithms predictive modeling classification clustering collaboration communication collaborate crossfunctional teams including data engineers analysts business stakeholders communicate findings insights effectively technical nontechnical audiences experimentation ab testing design execute experiments test hypotheses improve model performance implement ab testing methodologies evaluate impact datadriven decisions data visualization create compelling data visualizations communicate insights trends utilize tools tableau power bi develop interactive dashboards continuous learning innovation stay abreast latest advancements data science machine learning artificial intelligence implement innovative approaches solve unique business challenges requirements phd masters degree quantitative field computer science statistics mathematics etc x years experience data science proven track record successful projects expertise programming languages python r strong knowledge machine learning frameworks eg tensorflow pytorch experience big data technologies spark hadoop plus excellent problemsolving skills attention detail exceptional communication leadership skills benefits competitive salary performancebased bonuses comprehensive health dental vision insurance plans flexible work hours remote work options professional development opportunities training programs collaborative innovative work environment abc equal opportunity employer celebrate diversity committed creating inclusive environment employees apply interested candidates invited submit resume cover letter detailing relevant experience achievements please include senior data scientist application subject line application deadline date\n",
      "\n",
      "Skills Missing from the Resume:\n",
      "{'innovative', 'collaboration', 'requirements', 'date', 'masters', 'tools', 'hours', 'employees', 'work', 'programming', 'providing', 'company', 'problem', 'scientists', 'mentorship', 'hadoop', 'develop', 'programs', 'tableau', 'unique', 'quantitative', 'artificial', 'datasets', 'datadriven', 'proven', 'findings', 'advanced', 'remote', 'experienced', 'dashboards', 'technical', 'employer', 'compelling', 'lead', 'successful', 'audiences', 'projects', 'technologies', 'performancebased', 'techniques', 'years', 'invited', 'join', 'pytorch', 'competitive', 'communication', 'flexible', 'dental', 'bonuses', 'subject', 'implement', 'exceptional', 'collaborative', 'clustering', 'environment', 'excellent', 'leading', 'attention', 'frameworks', 'interactive', 'cover', 'collaborate', 'machine', 'nontechnical', 'solve', 'responsibilities', 'candidates', 'plus', 'position', 'options', 'data', 'track', 'tensorflow', 'guidance', 'committed', 'please', 'line', 'insights', 'health', 'degree', 'letter', 'submit', 'statistical', 'stakeholders', 'diversity', 'execute', 'ownership', 'ab', 'highly', 'statistics', 'strong', 'approaches', 'application', 'evaluate', 'python', 'benefits', 'etc', 'knowledge', 'analysts', 'languages', 'senior', 'modeling', 'hypotheses', 'create', 'cuttingedge', 'mathematics', 'opportunities', 'dynamic', 'predictive', 'decisions', 'intelligence', 'advancements', 'professional', 'resume', 'algorithms', 'plans', 'interpret', 'model', 'training', 'power', 'expertise', 'communicate', 'abreast', 'development', 'achievements', 'definition', 'interested', 'relevant', 'detail', 'design', 'impact', 'leadership', 'innovation', 'vision', 'abc', 'deployment', 'inclusive', 'methodologies', 'skilled', 'complex', 'spark', 'leverages', 'skills', 'celebrate', 'take', 'opportunity', 'experiments', 'big', 'seeking', 'endtoend', 'deadline', 'testing', 'science', 'models', 'eg', 'detailing', 'learning', 'utilize', 'crossfunctional', 'analyze', 'visualization', 'trends', 'overview', 'classification', 'continuous', 'experience', 'creating', 'initiatives', 'record', 'test', 'business', 'computer', 'field', 'engineers', 'stay', 'improve', 'include', 'visualizations', 'comprehensive', 'including', 'bi', 'equal', 'effectively', 'teams', 'phd', 'experimentation', 'apply', 'performance', 'latest', 'salary', 'challenges', 'team', 'scientist', 'insurance', 'role', 'fintech', 'drive', 'problemsolving'}\n"
     ]
    }
   ],
   "source": [
    "\n",
    "print(\"Job Description:\")\n",
    "print(processed_job_description_1)\n",
    "\n",
    "job_skills = set(processed_job_description_1.split())\n",
    "resume_skills = set(cleaned_resume_text_2)\n",
    "\n",
    "missing_skills = job_skills - resume_skills\n",
    "\n",
    "print(\"\\nSkills Missing from the Resume:\")\n",
    "print(missing_skills)"
   ]
  }
 ],
 "metadata": {
  "kernelspec": {
   "display_name": "Python 3 (ipykernel)",
   "language": "python",
   "name": "python3"
  },
  "language_info": {
   "codemirror_mode": {
    "name": "ipython",
    "version": 3
   },
   "file_extension": ".py",
   "mimetype": "text/x-python",
   "name": "python",
   "nbconvert_exporter": "python",
   "pygments_lexer": "ipython3",
   "version": "3.9.13"
  }
 },
 "nbformat": 4,
 "nbformat_minor": 5
}
